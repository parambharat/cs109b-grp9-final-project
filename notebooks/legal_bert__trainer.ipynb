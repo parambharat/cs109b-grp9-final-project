{
  "nbformat": 4,
  "nbformat_minor": 0,
  "metadata": {
    "kernelspec": {
      "display_name": "Python 3",
      "language": "python",
      "name": "python3"
    },
    "language_info": {
      "codemirror_mode": {
        "name": "ipython",
        "version": 3
      },
      "file_extension": ".py",
      "mimetype": "text/x-python",
      "name": "python",
      "nbconvert_exporter": "python",
      "pygments_lexer": "ipython3",
      "version": "3.8.5"
    },
    "colab": {
      "name": "legal_bert__trainer.ipynb",
      "provenance": [],
      "machine_shape": "hm"
    },
    "widgets": {
      "application/vnd.jupyter.widget-state+json": {
        "b9ab27568de04dc78650fba7bbe642d1": {
          "model_module": "@jupyter-widgets/controls",
          "model_name": "HBoxModel",
          "state": {
            "_view_name": "HBoxView",
            "_dom_classes": [],
            "_model_name": "HBoxModel",
            "_view_module": "@jupyter-widgets/controls",
            "_model_module_version": "1.5.0",
            "_view_count": null,
            "_view_module_version": "1.5.0",
            "box_style": "",
            "layout": "IPY_MODEL_411bf0686c3842b2b4d7a3f96587c395",
            "_model_module": "@jupyter-widgets/controls",
            "children": [
              "IPY_MODEL_8344c8bf56c948c6b98d9b5205bf967a",
              "IPY_MODEL_7a42695cfe6846498f2e1beea02885ad"
            ]
          }
        },
        "411bf0686c3842b2b4d7a3f96587c395": {
          "model_module": "@jupyter-widgets/base",
          "model_name": "LayoutModel",
          "state": {
            "_view_name": "LayoutView",
            "grid_template_rows": null,
            "right": null,
            "justify_content": null,
            "_view_module": "@jupyter-widgets/base",
            "overflow": null,
            "_model_module_version": "1.2.0",
            "_view_count": null,
            "flex_flow": null,
            "width": null,
            "min_width": null,
            "border": null,
            "align_items": null,
            "bottom": null,
            "_model_module": "@jupyter-widgets/base",
            "top": null,
            "grid_column": null,
            "overflow_y": null,
            "overflow_x": null,
            "grid_auto_flow": null,
            "grid_area": null,
            "grid_template_columns": null,
            "flex": null,
            "_model_name": "LayoutModel",
            "justify_items": null,
            "grid_row": null,
            "max_height": null,
            "align_content": null,
            "visibility": null,
            "align_self": null,
            "height": null,
            "min_height": null,
            "padding": null,
            "grid_auto_rows": null,
            "grid_gap": null,
            "max_width": null,
            "order": null,
            "_view_module_version": "1.2.0",
            "grid_template_areas": null,
            "object_position": null,
            "object_fit": null,
            "grid_auto_columns": null,
            "margin": null,
            "display": null,
            "left": null
          }
        },
        "8344c8bf56c948c6b98d9b5205bf967a": {
          "model_module": "@jupyter-widgets/controls",
          "model_name": "FloatProgressModel",
          "state": {
            "_view_name": "ProgressView",
            "style": "IPY_MODEL_698e99ac0824473698d7787d5ecf3456",
            "_dom_classes": [],
            "description": "Downloading: 100%",
            "_model_name": "FloatProgressModel",
            "bar_style": "success",
            "max": 1017,
            "_view_module": "@jupyter-widgets/controls",
            "_model_module_version": "1.5.0",
            "value": 1017,
            "_view_count": null,
            "_view_module_version": "1.5.0",
            "orientation": "horizontal",
            "min": 0,
            "description_tooltip": null,
            "_model_module": "@jupyter-widgets/controls",
            "layout": "IPY_MODEL_cd10a17c21084137a691514e6556edf3"
          }
        },
        "7a42695cfe6846498f2e1beea02885ad": {
          "model_module": "@jupyter-widgets/controls",
          "model_name": "HTMLModel",
          "state": {
            "_view_name": "HTMLView",
            "style": "IPY_MODEL_f811583c32d34c5c8e2e8e3c4cda7706",
            "_dom_classes": [],
            "description": "",
            "_model_name": "HTMLModel",
            "placeholder": "​",
            "_view_module": "@jupyter-widgets/controls",
            "_model_module_version": "1.5.0",
            "value": " 1.02k/1.02k [00:00&lt;00:00, 1.20kB/s]",
            "_view_count": null,
            "_view_module_version": "1.5.0",
            "description_tooltip": null,
            "_model_module": "@jupyter-widgets/controls",
            "layout": "IPY_MODEL_698ab9c3ef034c4589a553cd79e4356e"
          }
        },
        "698e99ac0824473698d7787d5ecf3456": {
          "model_module": "@jupyter-widgets/controls",
          "model_name": "ProgressStyleModel",
          "state": {
            "_view_name": "StyleView",
            "_model_name": "ProgressStyleModel",
            "description_width": "initial",
            "_view_module": "@jupyter-widgets/base",
            "_model_module_version": "1.5.0",
            "_view_count": null,
            "_view_module_version": "1.2.0",
            "bar_color": null,
            "_model_module": "@jupyter-widgets/controls"
          }
        },
        "cd10a17c21084137a691514e6556edf3": {
          "model_module": "@jupyter-widgets/base",
          "model_name": "LayoutModel",
          "state": {
            "_view_name": "LayoutView",
            "grid_template_rows": null,
            "right": null,
            "justify_content": null,
            "_view_module": "@jupyter-widgets/base",
            "overflow": null,
            "_model_module_version": "1.2.0",
            "_view_count": null,
            "flex_flow": null,
            "width": null,
            "min_width": null,
            "border": null,
            "align_items": null,
            "bottom": null,
            "_model_module": "@jupyter-widgets/base",
            "top": null,
            "grid_column": null,
            "overflow_y": null,
            "overflow_x": null,
            "grid_auto_flow": null,
            "grid_area": null,
            "grid_template_columns": null,
            "flex": null,
            "_model_name": "LayoutModel",
            "justify_items": null,
            "grid_row": null,
            "max_height": null,
            "align_content": null,
            "visibility": null,
            "align_self": null,
            "height": null,
            "min_height": null,
            "padding": null,
            "grid_auto_rows": null,
            "grid_gap": null,
            "max_width": null,
            "order": null,
            "_view_module_version": "1.2.0",
            "grid_template_areas": null,
            "object_position": null,
            "object_fit": null,
            "grid_auto_columns": null,
            "margin": null,
            "display": null,
            "left": null
          }
        },
        "f811583c32d34c5c8e2e8e3c4cda7706": {
          "model_module": "@jupyter-widgets/controls",
          "model_name": "DescriptionStyleModel",
          "state": {
            "_view_name": "StyleView",
            "_model_name": "DescriptionStyleModel",
            "description_width": "",
            "_view_module": "@jupyter-widgets/base",
            "_model_module_version": "1.5.0",
            "_view_count": null,
            "_view_module_version": "1.2.0",
            "_model_module": "@jupyter-widgets/controls"
          }
        },
        "698ab9c3ef034c4589a553cd79e4356e": {
          "model_module": "@jupyter-widgets/base",
          "model_name": "LayoutModel",
          "state": {
            "_view_name": "LayoutView",
            "grid_template_rows": null,
            "right": null,
            "justify_content": null,
            "_view_module": "@jupyter-widgets/base",
            "overflow": null,
            "_model_module_version": "1.2.0",
            "_view_count": null,
            "flex_flow": null,
            "width": null,
            "min_width": null,
            "border": null,
            "align_items": null,
            "bottom": null,
            "_model_module": "@jupyter-widgets/base",
            "top": null,
            "grid_column": null,
            "overflow_y": null,
            "overflow_x": null,
            "grid_auto_flow": null,
            "grid_area": null,
            "grid_template_columns": null,
            "flex": null,
            "_model_name": "LayoutModel",
            "justify_items": null,
            "grid_row": null,
            "max_height": null,
            "align_content": null,
            "visibility": null,
            "align_self": null,
            "height": null,
            "min_height": null,
            "padding": null,
            "grid_auto_rows": null,
            "grid_gap": null,
            "max_width": null,
            "order": null,
            "_view_module_version": "1.2.0",
            "grid_template_areas": null,
            "object_position": null,
            "object_fit": null,
            "grid_auto_columns": null,
            "margin": null,
            "display": null,
            "left": null
          }
        },
        "851d2d5dcb934047ab3be4125341916c": {
          "model_module": "@jupyter-widgets/controls",
          "model_name": "HBoxModel",
          "state": {
            "_view_name": "HBoxView",
            "_dom_classes": [],
            "_model_name": "HBoxModel",
            "_view_module": "@jupyter-widgets/controls",
            "_model_module_version": "1.5.0",
            "_view_count": null,
            "_view_module_version": "1.5.0",
            "box_style": "",
            "layout": "IPY_MODEL_781fce549e024152a2926e9f4648e691",
            "_model_module": "@jupyter-widgets/controls",
            "children": [
              "IPY_MODEL_ae9e00d272fd4752ac1ba11f70ac608b",
              "IPY_MODEL_53b0755da440488e9c132cfffd6ba421"
            ]
          }
        },
        "781fce549e024152a2926e9f4648e691": {
          "model_module": "@jupyter-widgets/base",
          "model_name": "LayoutModel",
          "state": {
            "_view_name": "LayoutView",
            "grid_template_rows": null,
            "right": null,
            "justify_content": null,
            "_view_module": "@jupyter-widgets/base",
            "overflow": null,
            "_model_module_version": "1.2.0",
            "_view_count": null,
            "flex_flow": null,
            "width": null,
            "min_width": null,
            "border": null,
            "align_items": null,
            "bottom": null,
            "_model_module": "@jupyter-widgets/base",
            "top": null,
            "grid_column": null,
            "overflow_y": null,
            "overflow_x": null,
            "grid_auto_flow": null,
            "grid_area": null,
            "grid_template_columns": null,
            "flex": null,
            "_model_name": "LayoutModel",
            "justify_items": null,
            "grid_row": null,
            "max_height": null,
            "align_content": null,
            "visibility": null,
            "align_self": null,
            "height": null,
            "min_height": null,
            "padding": null,
            "grid_auto_rows": null,
            "grid_gap": null,
            "max_width": null,
            "order": null,
            "_view_module_version": "1.2.0",
            "grid_template_areas": null,
            "object_position": null,
            "object_fit": null,
            "grid_auto_columns": null,
            "margin": null,
            "display": null,
            "left": null
          }
        },
        "ae9e00d272fd4752ac1ba11f70ac608b": {
          "model_module": "@jupyter-widgets/controls",
          "model_name": "FloatProgressModel",
          "state": {
            "_view_name": "ProgressView",
            "style": "IPY_MODEL_511317ddba4e4532b0376e1480d5b4c0",
            "_dom_classes": [],
            "description": "Downloading: 100%",
            "_model_name": "FloatProgressModel",
            "bar_style": "success",
            "max": 221793,
            "_view_module": "@jupyter-widgets/controls",
            "_model_module_version": "1.5.0",
            "value": 221793,
            "_view_count": null,
            "_view_module_version": "1.5.0",
            "orientation": "horizontal",
            "min": 0,
            "description_tooltip": null,
            "_model_module": "@jupyter-widgets/controls",
            "layout": "IPY_MODEL_2df942a0d25343fb9bea64490285f403"
          }
        },
        "53b0755da440488e9c132cfffd6ba421": {
          "model_module": "@jupyter-widgets/controls",
          "model_name": "HTMLModel",
          "state": {
            "_view_name": "HTMLView",
            "style": "IPY_MODEL_19defcf7131e430fa200cc92f39d9f33",
            "_dom_classes": [],
            "description": "",
            "_model_name": "HTMLModel",
            "placeholder": "​",
            "_view_module": "@jupyter-widgets/controls",
            "_model_module_version": "1.5.0",
            "value": " 222k/222k [00:00&lt;00:00, 373kB/s]",
            "_view_count": null,
            "_view_module_version": "1.5.0",
            "description_tooltip": null,
            "_model_module": "@jupyter-widgets/controls",
            "layout": "IPY_MODEL_774ef9c9bcfe441087aecb85b6e4dac4"
          }
        },
        "511317ddba4e4532b0376e1480d5b4c0": {
          "model_module": "@jupyter-widgets/controls",
          "model_name": "ProgressStyleModel",
          "state": {
            "_view_name": "StyleView",
            "_model_name": "ProgressStyleModel",
            "description_width": "initial",
            "_view_module": "@jupyter-widgets/base",
            "_model_module_version": "1.5.0",
            "_view_count": null,
            "_view_module_version": "1.2.0",
            "bar_color": null,
            "_model_module": "@jupyter-widgets/controls"
          }
        },
        "2df942a0d25343fb9bea64490285f403": {
          "model_module": "@jupyter-widgets/base",
          "model_name": "LayoutModel",
          "state": {
            "_view_name": "LayoutView",
            "grid_template_rows": null,
            "right": null,
            "justify_content": null,
            "_view_module": "@jupyter-widgets/base",
            "overflow": null,
            "_model_module_version": "1.2.0",
            "_view_count": null,
            "flex_flow": null,
            "width": null,
            "min_width": null,
            "border": null,
            "align_items": null,
            "bottom": null,
            "_model_module": "@jupyter-widgets/base",
            "top": null,
            "grid_column": null,
            "overflow_y": null,
            "overflow_x": null,
            "grid_auto_flow": null,
            "grid_area": null,
            "grid_template_columns": null,
            "flex": null,
            "_model_name": "LayoutModel",
            "justify_items": null,
            "grid_row": null,
            "max_height": null,
            "align_content": null,
            "visibility": null,
            "align_self": null,
            "height": null,
            "min_height": null,
            "padding": null,
            "grid_auto_rows": null,
            "grid_gap": null,
            "max_width": null,
            "order": null,
            "_view_module_version": "1.2.0",
            "grid_template_areas": null,
            "object_position": null,
            "object_fit": null,
            "grid_auto_columns": null,
            "margin": null,
            "display": null,
            "left": null
          }
        },
        "19defcf7131e430fa200cc92f39d9f33": {
          "model_module": "@jupyter-widgets/controls",
          "model_name": "DescriptionStyleModel",
          "state": {
            "_view_name": "StyleView",
            "_model_name": "DescriptionStyleModel",
            "description_width": "",
            "_view_module": "@jupyter-widgets/base",
            "_model_module_version": "1.5.0",
            "_view_count": null,
            "_view_module_version": "1.2.0",
            "_model_module": "@jupyter-widgets/controls"
          }
        },
        "774ef9c9bcfe441087aecb85b6e4dac4": {
          "model_module": "@jupyter-widgets/base",
          "model_name": "LayoutModel",
          "state": {
            "_view_name": "LayoutView",
            "grid_template_rows": null,
            "right": null,
            "justify_content": null,
            "_view_module": "@jupyter-widgets/base",
            "overflow": null,
            "_model_module_version": "1.2.0",
            "_view_count": null,
            "flex_flow": null,
            "width": null,
            "min_width": null,
            "border": null,
            "align_items": null,
            "bottom": null,
            "_model_module": "@jupyter-widgets/base",
            "top": null,
            "grid_column": null,
            "overflow_y": null,
            "overflow_x": null,
            "grid_auto_flow": null,
            "grid_area": null,
            "grid_template_columns": null,
            "flex": null,
            "_model_name": "LayoutModel",
            "justify_items": null,
            "grid_row": null,
            "max_height": null,
            "align_content": null,
            "visibility": null,
            "align_self": null,
            "height": null,
            "min_height": null,
            "padding": null,
            "grid_auto_rows": null,
            "grid_gap": null,
            "max_width": null,
            "order": null,
            "_view_module_version": "1.2.0",
            "grid_template_areas": null,
            "object_position": null,
            "object_fit": null,
            "grid_auto_columns": null,
            "margin": null,
            "display": null,
            "left": null
          }
        },
        "57ece94262e74ee797590a5d520f7fb4": {
          "model_module": "@jupyter-widgets/controls",
          "model_name": "HBoxModel",
          "state": {
            "_view_name": "HBoxView",
            "_dom_classes": [],
            "_model_name": "HBoxModel",
            "_view_module": "@jupyter-widgets/controls",
            "_model_module_version": "1.5.0",
            "_view_count": null,
            "_view_module_version": "1.5.0",
            "box_style": "",
            "layout": "IPY_MODEL_0004932d30944979be191702f28f845b",
            "_model_module": "@jupyter-widgets/controls",
            "children": [
              "IPY_MODEL_3e1bcadde8b745118571ad7492c29b0c",
              "IPY_MODEL_b10d955848884e9eb167bfacb8d68fae"
            ]
          }
        },
        "0004932d30944979be191702f28f845b": {
          "model_module": "@jupyter-widgets/base",
          "model_name": "LayoutModel",
          "state": {
            "_view_name": "LayoutView",
            "grid_template_rows": null,
            "right": null,
            "justify_content": null,
            "_view_module": "@jupyter-widgets/base",
            "overflow": null,
            "_model_module_version": "1.2.0",
            "_view_count": null,
            "flex_flow": null,
            "width": null,
            "min_width": null,
            "border": null,
            "align_items": null,
            "bottom": null,
            "_model_module": "@jupyter-widgets/base",
            "top": null,
            "grid_column": null,
            "overflow_y": null,
            "overflow_x": null,
            "grid_auto_flow": null,
            "grid_area": null,
            "grid_template_columns": null,
            "flex": null,
            "_model_name": "LayoutModel",
            "justify_items": null,
            "grid_row": null,
            "max_height": null,
            "align_content": null,
            "visibility": null,
            "align_self": null,
            "height": null,
            "min_height": null,
            "padding": null,
            "grid_auto_rows": null,
            "grid_gap": null,
            "max_width": null,
            "order": null,
            "_view_module_version": "1.2.0",
            "grid_template_areas": null,
            "object_position": null,
            "object_fit": null,
            "grid_auto_columns": null,
            "margin": null,
            "display": null,
            "left": null
          }
        },
        "3e1bcadde8b745118571ad7492c29b0c": {
          "model_module": "@jupyter-widgets/controls",
          "model_name": "FloatProgressModel",
          "state": {
            "_view_name": "ProgressView",
            "style": "IPY_MODEL_307ec01fc43d4573aaeb2252f31cc7b5",
            "_dom_classes": [],
            "description": "Downloading: 100%",
            "_model_name": "FloatProgressModel",
            "bar_style": "success",
            "max": 112,
            "_view_module": "@jupyter-widgets/controls",
            "_model_module_version": "1.5.0",
            "value": 112,
            "_view_count": null,
            "_view_module_version": "1.5.0",
            "orientation": "horizontal",
            "min": 0,
            "description_tooltip": null,
            "_model_module": "@jupyter-widgets/controls",
            "layout": "IPY_MODEL_d16c7a6d887149ab96c8f0300980d251"
          }
        },
        "b10d955848884e9eb167bfacb8d68fae": {
          "model_module": "@jupyter-widgets/controls",
          "model_name": "HTMLModel",
          "state": {
            "_view_name": "HTMLView",
            "style": "IPY_MODEL_9212b34028c2466e8eee2b27d373c1ab",
            "_dom_classes": [],
            "description": "",
            "_model_name": "HTMLModel",
            "placeholder": "​",
            "_view_module": "@jupyter-widgets/controls",
            "_model_module_version": "1.5.0",
            "value": " 112/112 [00:00&lt;00:00, 561B/s]",
            "_view_count": null,
            "_view_module_version": "1.5.0",
            "description_tooltip": null,
            "_model_module": "@jupyter-widgets/controls",
            "layout": "IPY_MODEL_a6a97b8ff54a44c4a3dd8b43ffcdbca0"
          }
        },
        "307ec01fc43d4573aaeb2252f31cc7b5": {
          "model_module": "@jupyter-widgets/controls",
          "model_name": "ProgressStyleModel",
          "state": {
            "_view_name": "StyleView",
            "_model_name": "ProgressStyleModel",
            "description_width": "initial",
            "_view_module": "@jupyter-widgets/base",
            "_model_module_version": "1.5.0",
            "_view_count": null,
            "_view_module_version": "1.2.0",
            "bar_color": null,
            "_model_module": "@jupyter-widgets/controls"
          }
        },
        "d16c7a6d887149ab96c8f0300980d251": {
          "model_module": "@jupyter-widgets/base",
          "model_name": "LayoutModel",
          "state": {
            "_view_name": "LayoutView",
            "grid_template_rows": null,
            "right": null,
            "justify_content": null,
            "_view_module": "@jupyter-widgets/base",
            "overflow": null,
            "_model_module_version": "1.2.0",
            "_view_count": null,
            "flex_flow": null,
            "width": null,
            "min_width": null,
            "border": null,
            "align_items": null,
            "bottom": null,
            "_model_module": "@jupyter-widgets/base",
            "top": null,
            "grid_column": null,
            "overflow_y": null,
            "overflow_x": null,
            "grid_auto_flow": null,
            "grid_area": null,
            "grid_template_columns": null,
            "flex": null,
            "_model_name": "LayoutModel",
            "justify_items": null,
            "grid_row": null,
            "max_height": null,
            "align_content": null,
            "visibility": null,
            "align_self": null,
            "height": null,
            "min_height": null,
            "padding": null,
            "grid_auto_rows": null,
            "grid_gap": null,
            "max_width": null,
            "order": null,
            "_view_module_version": "1.2.0",
            "grid_template_areas": null,
            "object_position": null,
            "object_fit": null,
            "grid_auto_columns": null,
            "margin": null,
            "display": null,
            "left": null
          }
        },
        "9212b34028c2466e8eee2b27d373c1ab": {
          "model_module": "@jupyter-widgets/controls",
          "model_name": "DescriptionStyleModel",
          "state": {
            "_view_name": "StyleView",
            "_model_name": "DescriptionStyleModel",
            "description_width": "",
            "_view_module": "@jupyter-widgets/base",
            "_model_module_version": "1.5.0",
            "_view_count": null,
            "_view_module_version": "1.2.0",
            "_model_module": "@jupyter-widgets/controls"
          }
        },
        "a6a97b8ff54a44c4a3dd8b43ffcdbca0": {
          "model_module": "@jupyter-widgets/base",
          "model_name": "LayoutModel",
          "state": {
            "_view_name": "LayoutView",
            "grid_template_rows": null,
            "right": null,
            "justify_content": null,
            "_view_module": "@jupyter-widgets/base",
            "overflow": null,
            "_model_module_version": "1.2.0",
            "_view_count": null,
            "flex_flow": null,
            "width": null,
            "min_width": null,
            "border": null,
            "align_items": null,
            "bottom": null,
            "_model_module": "@jupyter-widgets/base",
            "top": null,
            "grid_column": null,
            "overflow_y": null,
            "overflow_x": null,
            "grid_auto_flow": null,
            "grid_area": null,
            "grid_template_columns": null,
            "flex": null,
            "_model_name": "LayoutModel",
            "justify_items": null,
            "grid_row": null,
            "max_height": null,
            "align_content": null,
            "visibility": null,
            "align_self": null,
            "height": null,
            "min_height": null,
            "padding": null,
            "grid_auto_rows": null,
            "grid_gap": null,
            "max_width": null,
            "order": null,
            "_view_module_version": "1.2.0",
            "grid_template_areas": null,
            "object_position": null,
            "object_fit": null,
            "grid_auto_columns": null,
            "margin": null,
            "display": null,
            "left": null
          }
        },
        "ee664ab552124b4ba4dcc24b81e70bdf": {
          "model_module": "@jupyter-widgets/controls",
          "model_name": "HBoxModel",
          "state": {
            "_view_name": "HBoxView",
            "_dom_classes": [],
            "_model_name": "HBoxModel",
            "_view_module": "@jupyter-widgets/controls",
            "_model_module_version": "1.5.0",
            "_view_count": null,
            "_view_module_version": "1.5.0",
            "box_style": "",
            "layout": "IPY_MODEL_9a0a73d53ddb45a6929fe7c41899ae22",
            "_model_module": "@jupyter-widgets/controls",
            "children": [
              "IPY_MODEL_0a2a64f91e55421cab32bf1887d8afdc",
              "IPY_MODEL_b4ad990d01244498b1b15e9b9858584f"
            ]
          }
        },
        "9a0a73d53ddb45a6929fe7c41899ae22": {
          "model_module": "@jupyter-widgets/base",
          "model_name": "LayoutModel",
          "state": {
            "_view_name": "LayoutView",
            "grid_template_rows": null,
            "right": null,
            "justify_content": null,
            "_view_module": "@jupyter-widgets/base",
            "overflow": null,
            "_model_module_version": "1.2.0",
            "_view_count": null,
            "flex_flow": null,
            "width": null,
            "min_width": null,
            "border": null,
            "align_items": null,
            "bottom": null,
            "_model_module": "@jupyter-widgets/base",
            "top": null,
            "grid_column": null,
            "overflow_y": null,
            "overflow_x": null,
            "grid_auto_flow": null,
            "grid_area": null,
            "grid_template_columns": null,
            "flex": null,
            "_model_name": "LayoutModel",
            "justify_items": null,
            "grid_row": null,
            "max_height": null,
            "align_content": null,
            "visibility": null,
            "align_self": null,
            "height": null,
            "min_height": null,
            "padding": null,
            "grid_auto_rows": null,
            "grid_gap": null,
            "max_width": null,
            "order": null,
            "_view_module_version": "1.2.0",
            "grid_template_areas": null,
            "object_position": null,
            "object_fit": null,
            "grid_auto_columns": null,
            "margin": null,
            "display": null,
            "left": null
          }
        },
        "0a2a64f91e55421cab32bf1887d8afdc": {
          "model_module": "@jupyter-widgets/controls",
          "model_name": "FloatProgressModel",
          "state": {
            "_view_name": "ProgressView",
            "style": "IPY_MODEL_27280eb5132342e99bdcc55ab3f880a0",
            "_dom_classes": [],
            "description": "Downloading: 100%",
            "_model_name": "FloatProgressModel",
            "bar_style": "success",
            "max": 2,
            "_view_module": "@jupyter-widgets/controls",
            "_model_module_version": "1.5.0",
            "value": 2,
            "_view_count": null,
            "_view_module_version": "1.5.0",
            "orientation": "horizontal",
            "min": 0,
            "description_tooltip": null,
            "_model_module": "@jupyter-widgets/controls",
            "layout": "IPY_MODEL_75ee1784b56246dd806e72f96f44fd99"
          }
        },
        "b4ad990d01244498b1b15e9b9858584f": {
          "model_module": "@jupyter-widgets/controls",
          "model_name": "HTMLModel",
          "state": {
            "_view_name": "HTMLView",
            "style": "IPY_MODEL_b1fa9a483a444b6caccc04b7cc7a422a",
            "_dom_classes": [],
            "description": "",
            "_model_name": "HTMLModel",
            "placeholder": "​",
            "_view_module": "@jupyter-widgets/controls",
            "_model_module_version": "1.5.0",
            "value": " 2.00/2.00 [00:00&lt;00:00, 26.8B/s]",
            "_view_count": null,
            "_view_module_version": "1.5.0",
            "description_tooltip": null,
            "_model_module": "@jupyter-widgets/controls",
            "layout": "IPY_MODEL_18bd9a42164d4437a07f7c40d8cdae2b"
          }
        },
        "27280eb5132342e99bdcc55ab3f880a0": {
          "model_module": "@jupyter-widgets/controls",
          "model_name": "ProgressStyleModel",
          "state": {
            "_view_name": "StyleView",
            "_model_name": "ProgressStyleModel",
            "description_width": "initial",
            "_view_module": "@jupyter-widgets/base",
            "_model_module_version": "1.5.0",
            "_view_count": null,
            "_view_module_version": "1.2.0",
            "bar_color": null,
            "_model_module": "@jupyter-widgets/controls"
          }
        },
        "75ee1784b56246dd806e72f96f44fd99": {
          "model_module": "@jupyter-widgets/base",
          "model_name": "LayoutModel",
          "state": {
            "_view_name": "LayoutView",
            "grid_template_rows": null,
            "right": null,
            "justify_content": null,
            "_view_module": "@jupyter-widgets/base",
            "overflow": null,
            "_model_module_version": "1.2.0",
            "_view_count": null,
            "flex_flow": null,
            "width": null,
            "min_width": null,
            "border": null,
            "align_items": null,
            "bottom": null,
            "_model_module": "@jupyter-widgets/base",
            "top": null,
            "grid_column": null,
            "overflow_y": null,
            "overflow_x": null,
            "grid_auto_flow": null,
            "grid_area": null,
            "grid_template_columns": null,
            "flex": null,
            "_model_name": "LayoutModel",
            "justify_items": null,
            "grid_row": null,
            "max_height": null,
            "align_content": null,
            "visibility": null,
            "align_self": null,
            "height": null,
            "min_height": null,
            "padding": null,
            "grid_auto_rows": null,
            "grid_gap": null,
            "max_width": null,
            "order": null,
            "_view_module_version": "1.2.0",
            "grid_template_areas": null,
            "object_position": null,
            "object_fit": null,
            "grid_auto_columns": null,
            "margin": null,
            "display": null,
            "left": null
          }
        },
        "b1fa9a483a444b6caccc04b7cc7a422a": {
          "model_module": "@jupyter-widgets/controls",
          "model_name": "DescriptionStyleModel",
          "state": {
            "_view_name": "StyleView",
            "_model_name": "DescriptionStyleModel",
            "description_width": "",
            "_view_module": "@jupyter-widgets/base",
            "_model_module_version": "1.5.0",
            "_view_count": null,
            "_view_module_version": "1.2.0",
            "_model_module": "@jupyter-widgets/controls"
          }
        },
        "18bd9a42164d4437a07f7c40d8cdae2b": {
          "model_module": "@jupyter-widgets/base",
          "model_name": "LayoutModel",
          "state": {
            "_view_name": "LayoutView",
            "grid_template_rows": null,
            "right": null,
            "justify_content": null,
            "_view_module": "@jupyter-widgets/base",
            "overflow": null,
            "_model_module_version": "1.2.0",
            "_view_count": null,
            "flex_flow": null,
            "width": null,
            "min_width": null,
            "border": null,
            "align_items": null,
            "bottom": null,
            "_model_module": "@jupyter-widgets/base",
            "top": null,
            "grid_column": null,
            "overflow_y": null,
            "overflow_x": null,
            "grid_auto_flow": null,
            "grid_area": null,
            "grid_template_columns": null,
            "flex": null,
            "_model_name": "LayoutModel",
            "justify_items": null,
            "grid_row": null,
            "max_height": null,
            "align_content": null,
            "visibility": null,
            "align_self": null,
            "height": null,
            "min_height": null,
            "padding": null,
            "grid_auto_rows": null,
            "grid_gap": null,
            "max_width": null,
            "order": null,
            "_view_module_version": "1.2.0",
            "grid_template_areas": null,
            "object_position": null,
            "object_fit": null,
            "grid_auto_columns": null,
            "margin": null,
            "display": null,
            "left": null
          }
        },
        "cbd618ca08d94a3c9de4b75b2dd483d1": {
          "model_module": "@jupyter-widgets/controls",
          "model_name": "HBoxModel",
          "state": {
            "_view_name": "HBoxView",
            "_dom_classes": [],
            "_model_name": "HBoxModel",
            "_view_module": "@jupyter-widgets/controls",
            "_model_module_version": "1.5.0",
            "_view_count": null,
            "_view_module_version": "1.5.0",
            "box_style": "",
            "layout": "IPY_MODEL_fb43851ffe124b0ab98168b0e2f8de03",
            "_model_module": "@jupyter-widgets/controls",
            "children": [
              "IPY_MODEL_f8a32fa4fee446708f73f1423cc69702",
              "IPY_MODEL_c16ac0c72d2f450ebe747c45598619ee"
            ]
          }
        },
        "fb43851ffe124b0ab98168b0e2f8de03": {
          "model_module": "@jupyter-widgets/base",
          "model_name": "LayoutModel",
          "state": {
            "_view_name": "LayoutView",
            "grid_template_rows": null,
            "right": null,
            "justify_content": null,
            "_view_module": "@jupyter-widgets/base",
            "overflow": null,
            "_model_module_version": "1.2.0",
            "_view_count": null,
            "flex_flow": null,
            "width": null,
            "min_width": null,
            "border": null,
            "align_items": null,
            "bottom": null,
            "_model_module": "@jupyter-widgets/base",
            "top": null,
            "grid_column": null,
            "overflow_y": null,
            "overflow_x": null,
            "grid_auto_flow": null,
            "grid_area": null,
            "grid_template_columns": null,
            "flex": null,
            "_model_name": "LayoutModel",
            "justify_items": null,
            "grid_row": null,
            "max_height": null,
            "align_content": null,
            "visibility": null,
            "align_self": null,
            "height": null,
            "min_height": null,
            "padding": null,
            "grid_auto_rows": null,
            "grid_gap": null,
            "max_width": null,
            "order": null,
            "_view_module_version": "1.2.0",
            "grid_template_areas": null,
            "object_position": null,
            "object_fit": null,
            "grid_auto_columns": null,
            "margin": null,
            "display": null,
            "left": null
          }
        },
        "f8a32fa4fee446708f73f1423cc69702": {
          "model_module": "@jupyter-widgets/controls",
          "model_name": "FloatProgressModel",
          "state": {
            "_view_name": "ProgressView",
            "style": "IPY_MODEL_57e7da9fadc042b8b4ba968ec8ea97dc",
            "_dom_classes": [],
            "description": "Downloading: 100%",
            "_model_name": "FloatProgressModel",
            "bar_style": "success",
            "max": 440474526,
            "_view_module": "@jupyter-widgets/controls",
            "_model_module_version": "1.5.0",
            "value": 440474526,
            "_view_count": null,
            "_view_module_version": "1.5.0",
            "orientation": "horizontal",
            "min": 0,
            "description_tooltip": null,
            "_model_module": "@jupyter-widgets/controls",
            "layout": "IPY_MODEL_a8bd8ad0306244a6b30247725371a3a9"
          }
        },
        "c16ac0c72d2f450ebe747c45598619ee": {
          "model_module": "@jupyter-widgets/controls",
          "model_name": "HTMLModel",
          "state": {
            "_view_name": "HTMLView",
            "style": "IPY_MODEL_aaa6689eacce484ab47f30d35e150eda",
            "_dom_classes": [],
            "description": "",
            "_model_name": "HTMLModel",
            "placeholder": "​",
            "_view_module": "@jupyter-widgets/controls",
            "_model_module_version": "1.5.0",
            "value": " 440M/440M [00:17&lt;00:00, 25.7MB/s]",
            "_view_count": null,
            "_view_module_version": "1.5.0",
            "description_tooltip": null,
            "_model_module": "@jupyter-widgets/controls",
            "layout": "IPY_MODEL_55d2cccd6a704d87b0d2dbe6e3d681f0"
          }
        },
        "57e7da9fadc042b8b4ba968ec8ea97dc": {
          "model_module": "@jupyter-widgets/controls",
          "model_name": "ProgressStyleModel",
          "state": {
            "_view_name": "StyleView",
            "_model_name": "ProgressStyleModel",
            "description_width": "initial",
            "_view_module": "@jupyter-widgets/base",
            "_model_module_version": "1.5.0",
            "_view_count": null,
            "_view_module_version": "1.2.0",
            "bar_color": null,
            "_model_module": "@jupyter-widgets/controls"
          }
        },
        "a8bd8ad0306244a6b30247725371a3a9": {
          "model_module": "@jupyter-widgets/base",
          "model_name": "LayoutModel",
          "state": {
            "_view_name": "LayoutView",
            "grid_template_rows": null,
            "right": null,
            "justify_content": null,
            "_view_module": "@jupyter-widgets/base",
            "overflow": null,
            "_model_module_version": "1.2.0",
            "_view_count": null,
            "flex_flow": null,
            "width": null,
            "min_width": null,
            "border": null,
            "align_items": null,
            "bottom": null,
            "_model_module": "@jupyter-widgets/base",
            "top": null,
            "grid_column": null,
            "overflow_y": null,
            "overflow_x": null,
            "grid_auto_flow": null,
            "grid_area": null,
            "grid_template_columns": null,
            "flex": null,
            "_model_name": "LayoutModel",
            "justify_items": null,
            "grid_row": null,
            "max_height": null,
            "align_content": null,
            "visibility": null,
            "align_self": null,
            "height": null,
            "min_height": null,
            "padding": null,
            "grid_auto_rows": null,
            "grid_gap": null,
            "max_width": null,
            "order": null,
            "_view_module_version": "1.2.0",
            "grid_template_areas": null,
            "object_position": null,
            "object_fit": null,
            "grid_auto_columns": null,
            "margin": null,
            "display": null,
            "left": null
          }
        },
        "aaa6689eacce484ab47f30d35e150eda": {
          "model_module": "@jupyter-widgets/controls",
          "model_name": "DescriptionStyleModel",
          "state": {
            "_view_name": "StyleView",
            "_model_name": "DescriptionStyleModel",
            "description_width": "",
            "_view_module": "@jupyter-widgets/base",
            "_model_module_version": "1.5.0",
            "_view_count": null,
            "_view_module_version": "1.2.0",
            "_model_module": "@jupyter-widgets/controls"
          }
        },
        "55d2cccd6a704d87b0d2dbe6e3d681f0": {
          "model_module": "@jupyter-widgets/base",
          "model_name": "LayoutModel",
          "state": {
            "_view_name": "LayoutView",
            "grid_template_rows": null,
            "right": null,
            "justify_content": null,
            "_view_module": "@jupyter-widgets/base",
            "overflow": null,
            "_model_module_version": "1.2.0",
            "_view_count": null,
            "flex_flow": null,
            "width": null,
            "min_width": null,
            "border": null,
            "align_items": null,
            "bottom": null,
            "_model_module": "@jupyter-widgets/base",
            "top": null,
            "grid_column": null,
            "overflow_y": null,
            "overflow_x": null,
            "grid_auto_flow": null,
            "grid_area": null,
            "grid_template_columns": null,
            "flex": null,
            "_model_name": "LayoutModel",
            "justify_items": null,
            "grid_row": null,
            "max_height": null,
            "align_content": null,
            "visibility": null,
            "align_self": null,
            "height": null,
            "min_height": null,
            "padding": null,
            "grid_auto_rows": null,
            "grid_gap": null,
            "max_width": null,
            "order": null,
            "_view_module_version": "1.2.0",
            "grid_template_areas": null,
            "object_position": null,
            "object_fit": null,
            "grid_auto_columns": null,
            "margin": null,
            "display": null,
            "left": null
          }
        },
        "44c109c29150418cade0c7b38d3b0f54": {
          "model_module": "@jupyter-widgets/controls",
          "model_name": "HBoxModel",
          "state": {
            "_view_name": "HBoxView",
            "_dom_classes": [],
            "_model_name": "HBoxModel",
            "_view_module": "@jupyter-widgets/controls",
            "_model_module_version": "1.5.0",
            "_view_count": null,
            "_view_module_version": "1.5.0",
            "box_style": "",
            "layout": "IPY_MODEL_4e1f2e060a7e422f8cbc1210c1607587",
            "_model_module": "@jupyter-widgets/controls",
            "children": [
              "IPY_MODEL_942ee5fe1fae47c9a35e6aa3c204bd04",
              "IPY_MODEL_35a172d6be764f3f83382b0013327e46"
            ]
          }
        },
        "4e1f2e060a7e422f8cbc1210c1607587": {
          "model_module": "@jupyter-widgets/base",
          "model_name": "LayoutModel",
          "state": {
            "_view_name": "LayoutView",
            "grid_template_rows": null,
            "right": null,
            "justify_content": null,
            "_view_module": "@jupyter-widgets/base",
            "overflow": null,
            "_model_module_version": "1.2.0",
            "_view_count": null,
            "flex_flow": null,
            "width": null,
            "min_width": null,
            "border": null,
            "align_items": null,
            "bottom": null,
            "_model_module": "@jupyter-widgets/base",
            "top": null,
            "grid_column": null,
            "overflow_y": null,
            "overflow_x": null,
            "grid_auto_flow": null,
            "grid_area": null,
            "grid_template_columns": null,
            "flex": null,
            "_model_name": "LayoutModel",
            "justify_items": null,
            "grid_row": null,
            "max_height": null,
            "align_content": null,
            "visibility": null,
            "align_self": null,
            "height": null,
            "min_height": null,
            "padding": null,
            "grid_auto_rows": null,
            "grid_gap": null,
            "max_width": null,
            "order": null,
            "_view_module_version": "1.2.0",
            "grid_template_areas": null,
            "object_position": null,
            "object_fit": null,
            "grid_auto_columns": null,
            "margin": null,
            "display": null,
            "left": null
          }
        },
        "942ee5fe1fae47c9a35e6aa3c204bd04": {
          "model_module": "@jupyter-widgets/controls",
          "model_name": "FloatProgressModel",
          "state": {
            "_view_name": "ProgressView",
            "style": "IPY_MODEL_baae54b5e62944149da13d6ee064f36b",
            "_dom_classes": [],
            "description": "100%",
            "_model_name": "FloatProgressModel",
            "bar_style": "success",
            "max": 2077,
            "_view_module": "@jupyter-widgets/controls",
            "_model_module_version": "1.5.0",
            "value": 2077,
            "_view_count": null,
            "_view_module_version": "1.5.0",
            "orientation": "horizontal",
            "min": 0,
            "description_tooltip": null,
            "_model_module": "@jupyter-widgets/controls",
            "layout": "IPY_MODEL_fea89f7a28444a81a4235c52ea9072b8"
          }
        },
        "35a172d6be764f3f83382b0013327e46": {
          "model_module": "@jupyter-widgets/controls",
          "model_name": "HTMLModel",
          "state": {
            "_view_name": "HTMLView",
            "style": "IPY_MODEL_c57fd93346c3440ca25359c745f1210c",
            "_dom_classes": [],
            "description": "",
            "_model_name": "HTMLModel",
            "placeholder": "​",
            "_view_module": "@jupyter-widgets/controls",
            "_model_module_version": "1.5.0",
            "value": " 2077/2077 [2:26:54&lt;00:00,  4.24s/ba]",
            "_view_count": null,
            "_view_module_version": "1.5.0",
            "description_tooltip": null,
            "_model_module": "@jupyter-widgets/controls",
            "layout": "IPY_MODEL_02480661b6244d6ebe0e179f6366df06"
          }
        },
        "baae54b5e62944149da13d6ee064f36b": {
          "model_module": "@jupyter-widgets/controls",
          "model_name": "ProgressStyleModel",
          "state": {
            "_view_name": "StyleView",
            "_model_name": "ProgressStyleModel",
            "description_width": "initial",
            "_view_module": "@jupyter-widgets/base",
            "_model_module_version": "1.5.0",
            "_view_count": null,
            "_view_module_version": "1.2.0",
            "bar_color": null,
            "_model_module": "@jupyter-widgets/controls"
          }
        },
        "fea89f7a28444a81a4235c52ea9072b8": {
          "model_module": "@jupyter-widgets/base",
          "model_name": "LayoutModel",
          "state": {
            "_view_name": "LayoutView",
            "grid_template_rows": null,
            "right": null,
            "justify_content": null,
            "_view_module": "@jupyter-widgets/base",
            "overflow": null,
            "_model_module_version": "1.2.0",
            "_view_count": null,
            "flex_flow": null,
            "width": null,
            "min_width": null,
            "border": null,
            "align_items": null,
            "bottom": null,
            "_model_module": "@jupyter-widgets/base",
            "top": null,
            "grid_column": null,
            "overflow_y": null,
            "overflow_x": null,
            "grid_auto_flow": null,
            "grid_area": null,
            "grid_template_columns": null,
            "flex": null,
            "_model_name": "LayoutModel",
            "justify_items": null,
            "grid_row": null,
            "max_height": null,
            "align_content": null,
            "visibility": null,
            "align_self": null,
            "height": null,
            "min_height": null,
            "padding": null,
            "grid_auto_rows": null,
            "grid_gap": null,
            "max_width": null,
            "order": null,
            "_view_module_version": "1.2.0",
            "grid_template_areas": null,
            "object_position": null,
            "object_fit": null,
            "grid_auto_columns": null,
            "margin": null,
            "display": null,
            "left": null
          }
        },
        "c57fd93346c3440ca25359c745f1210c": {
          "model_module": "@jupyter-widgets/controls",
          "model_name": "DescriptionStyleModel",
          "state": {
            "_view_name": "StyleView",
            "_model_name": "DescriptionStyleModel",
            "description_width": "",
            "_view_module": "@jupyter-widgets/base",
            "_model_module_version": "1.5.0",
            "_view_count": null,
            "_view_module_version": "1.2.0",
            "_model_module": "@jupyter-widgets/controls"
          }
        },
        "02480661b6244d6ebe0e179f6366df06": {
          "model_module": "@jupyter-widgets/base",
          "model_name": "LayoutModel",
          "state": {
            "_view_name": "LayoutView",
            "grid_template_rows": null,
            "right": null,
            "justify_content": null,
            "_view_module": "@jupyter-widgets/base",
            "overflow": null,
            "_model_module_version": "1.2.0",
            "_view_count": null,
            "flex_flow": null,
            "width": null,
            "min_width": null,
            "border": null,
            "align_items": null,
            "bottom": null,
            "_model_module": "@jupyter-widgets/base",
            "top": null,
            "grid_column": null,
            "overflow_y": null,
            "overflow_x": null,
            "grid_auto_flow": null,
            "grid_area": null,
            "grid_template_columns": null,
            "flex": null,
            "_model_name": "LayoutModel",
            "justify_items": null,
            "grid_row": null,
            "max_height": null,
            "align_content": null,
            "visibility": null,
            "align_self": null,
            "height": null,
            "min_height": null,
            "padding": null,
            "grid_auto_rows": null,
            "grid_gap": null,
            "max_width": null,
            "order": null,
            "_view_module_version": "1.2.0",
            "grid_template_areas": null,
            "object_position": null,
            "object_fit": null,
            "grid_auto_columns": null,
            "margin": null,
            "display": null,
            "left": null
          }
        },
        "ef3265163fb34cd3a48c6c68dabb99c2": {
          "model_module": "@jupyter-widgets/controls",
          "model_name": "HBoxModel",
          "state": {
            "_view_name": "HBoxView",
            "_dom_classes": [],
            "_model_name": "HBoxModel",
            "_view_module": "@jupyter-widgets/controls",
            "_model_module_version": "1.5.0",
            "_view_count": null,
            "_view_module_version": "1.5.0",
            "box_style": "",
            "layout": "IPY_MODEL_1886d04f985640f3b626f85b3d6b9cc2",
            "_model_module": "@jupyter-widgets/controls",
            "children": [
              "IPY_MODEL_edec5d32e42a494bb61dfd72b10c44d6",
              "IPY_MODEL_ca5db11a8aeb4511b49218acb73e3ad1"
            ]
          }
        },
        "1886d04f985640f3b626f85b3d6b9cc2": {
          "model_module": "@jupyter-widgets/base",
          "model_name": "LayoutModel",
          "state": {
            "_view_name": "LayoutView",
            "grid_template_rows": null,
            "right": null,
            "justify_content": null,
            "_view_module": "@jupyter-widgets/base",
            "overflow": null,
            "_model_module_version": "1.2.0",
            "_view_count": null,
            "flex_flow": null,
            "width": null,
            "min_width": null,
            "border": null,
            "align_items": null,
            "bottom": null,
            "_model_module": "@jupyter-widgets/base",
            "top": null,
            "grid_column": null,
            "overflow_y": null,
            "overflow_x": null,
            "grid_auto_flow": null,
            "grid_area": null,
            "grid_template_columns": null,
            "flex": null,
            "_model_name": "LayoutModel",
            "justify_items": null,
            "grid_row": null,
            "max_height": null,
            "align_content": null,
            "visibility": null,
            "align_self": null,
            "height": null,
            "min_height": null,
            "padding": null,
            "grid_auto_rows": null,
            "grid_gap": null,
            "max_width": null,
            "order": null,
            "_view_module_version": "1.2.0",
            "grid_template_areas": null,
            "object_position": null,
            "object_fit": null,
            "grid_auto_columns": null,
            "margin": null,
            "display": null,
            "left": null
          }
        },
        "edec5d32e42a494bb61dfd72b10c44d6": {
          "model_module": "@jupyter-widgets/controls",
          "model_name": "FloatProgressModel",
          "state": {
            "_view_name": "ProgressView",
            "style": "IPY_MODEL_a585dd60e00641a2b61aaa5d9085117c",
            "_dom_classes": [],
            "description": "",
            "_model_name": "FloatProgressModel",
            "bar_style": "info",
            "max": 1,
            "_view_module": "@jupyter-widgets/controls",
            "_model_module_version": "1.5.0",
            "value": 1,
            "_view_count": null,
            "_view_module_version": "1.5.0",
            "orientation": "horizontal",
            "min": 0,
            "description_tooltip": null,
            "_model_module": "@jupyter-widgets/controls",
            "layout": "IPY_MODEL_6dc607c5751847c7b4fe3910c16365bf"
          }
        },
        "ca5db11a8aeb4511b49218acb73e3ad1": {
          "model_module": "@jupyter-widgets/controls",
          "model_name": "HTMLModel",
          "state": {
            "_view_name": "HTMLView",
            "style": "IPY_MODEL_0a50f215c9254ac69ceb6192f63dbcef",
            "_dom_classes": [],
            "description": "",
            "_model_name": "HTMLModel",
            "placeholder": "​",
            "_view_module": "@jupyter-widgets/controls",
            "_model_module_version": "1.5.0",
            "value": " 261/? [00:02&lt;00:00, 117.37 tables/s]",
            "_view_count": null,
            "_view_module_version": "1.5.0",
            "description_tooltip": null,
            "_model_module": "@jupyter-widgets/controls",
            "layout": "IPY_MODEL_b78d196fc32c4f819fc3c02ac75f63a6"
          }
        },
        "a585dd60e00641a2b61aaa5d9085117c": {
          "model_module": "@jupyter-widgets/controls",
          "model_name": "ProgressStyleModel",
          "state": {
            "_view_name": "StyleView",
            "_model_name": "ProgressStyleModel",
            "description_width": "initial",
            "_view_module": "@jupyter-widgets/base",
            "_model_module_version": "1.5.0",
            "_view_count": null,
            "_view_module_version": "1.2.0",
            "bar_color": null,
            "_model_module": "@jupyter-widgets/controls"
          }
        },
        "6dc607c5751847c7b4fe3910c16365bf": {
          "model_module": "@jupyter-widgets/base",
          "model_name": "LayoutModel",
          "state": {
            "_view_name": "LayoutView",
            "grid_template_rows": null,
            "right": null,
            "justify_content": null,
            "_view_module": "@jupyter-widgets/base",
            "overflow": null,
            "_model_module_version": "1.2.0",
            "_view_count": null,
            "flex_flow": null,
            "width": null,
            "min_width": null,
            "border": null,
            "align_items": null,
            "bottom": null,
            "_model_module": "@jupyter-widgets/base",
            "top": null,
            "grid_column": null,
            "overflow_y": null,
            "overflow_x": null,
            "grid_auto_flow": null,
            "grid_area": null,
            "grid_template_columns": null,
            "flex": null,
            "_model_name": "LayoutModel",
            "justify_items": null,
            "grid_row": null,
            "max_height": null,
            "align_content": null,
            "visibility": null,
            "align_self": null,
            "height": null,
            "min_height": null,
            "padding": null,
            "grid_auto_rows": null,
            "grid_gap": null,
            "max_width": null,
            "order": null,
            "_view_module_version": "1.2.0",
            "grid_template_areas": null,
            "object_position": null,
            "object_fit": null,
            "grid_auto_columns": null,
            "margin": null,
            "display": null,
            "left": null
          }
        },
        "0a50f215c9254ac69ceb6192f63dbcef": {
          "model_module": "@jupyter-widgets/controls",
          "model_name": "DescriptionStyleModel",
          "state": {
            "_view_name": "StyleView",
            "_model_name": "DescriptionStyleModel",
            "description_width": "",
            "_view_module": "@jupyter-widgets/base",
            "_model_module_version": "1.5.0",
            "_view_count": null,
            "_view_module_version": "1.2.0",
            "_model_module": "@jupyter-widgets/controls"
          }
        },
        "b78d196fc32c4f819fc3c02ac75f63a6": {
          "model_module": "@jupyter-widgets/base",
          "model_name": "LayoutModel",
          "state": {
            "_view_name": "LayoutView",
            "grid_template_rows": null,
            "right": null,
            "justify_content": null,
            "_view_module": "@jupyter-widgets/base",
            "overflow": null,
            "_model_module_version": "1.2.0",
            "_view_count": null,
            "flex_flow": null,
            "width": null,
            "min_width": null,
            "border": null,
            "align_items": null,
            "bottom": null,
            "_model_module": "@jupyter-widgets/base",
            "top": null,
            "grid_column": null,
            "overflow_y": null,
            "overflow_x": null,
            "grid_auto_flow": null,
            "grid_area": null,
            "grid_template_columns": null,
            "flex": null,
            "_model_name": "LayoutModel",
            "justify_items": null,
            "grid_row": null,
            "max_height": null,
            "align_content": null,
            "visibility": null,
            "align_self": null,
            "height": null,
            "min_height": null,
            "padding": null,
            "grid_auto_rows": null,
            "grid_gap": null,
            "max_width": null,
            "order": null,
            "_view_module_version": "1.2.0",
            "grid_template_areas": null,
            "object_position": null,
            "object_fit": null,
            "grid_auto_columns": null,
            "margin": null,
            "display": null,
            "left": null
          }
        },
        "ea674fd6dc794d8bb4449e90f75a399b": {
          "model_module": "@jupyter-widgets/controls",
          "model_name": "HBoxModel",
          "state": {
            "_view_name": "HBoxView",
            "_dom_classes": [],
            "_model_name": "HBoxModel",
            "_view_module": "@jupyter-widgets/controls",
            "_model_module_version": "1.5.0",
            "_view_count": null,
            "_view_module_version": "1.5.0",
            "box_style": "",
            "layout": "IPY_MODEL_f9573f8ff0f8470a8decc7e5159aae24",
            "_model_module": "@jupyter-widgets/controls",
            "children": [
              "IPY_MODEL_1367e9ec75844b51bf32909e21a34b93",
              "IPY_MODEL_ef841384d9c94df1a95b76847c672d40"
            ]
          }
        },
        "f9573f8ff0f8470a8decc7e5159aae24": {
          "model_module": "@jupyter-widgets/base",
          "model_name": "LayoutModel",
          "state": {
            "_view_name": "LayoutView",
            "grid_template_rows": null,
            "right": null,
            "justify_content": null,
            "_view_module": "@jupyter-widgets/base",
            "overflow": null,
            "_model_module_version": "1.2.0",
            "_view_count": null,
            "flex_flow": null,
            "width": null,
            "min_width": null,
            "border": null,
            "align_items": null,
            "bottom": null,
            "_model_module": "@jupyter-widgets/base",
            "top": null,
            "grid_column": null,
            "overflow_y": null,
            "overflow_x": null,
            "grid_auto_flow": null,
            "grid_area": null,
            "grid_template_columns": null,
            "flex": null,
            "_model_name": "LayoutModel",
            "justify_items": null,
            "grid_row": null,
            "max_height": null,
            "align_content": null,
            "visibility": null,
            "align_self": null,
            "height": null,
            "min_height": null,
            "padding": null,
            "grid_auto_rows": null,
            "grid_gap": null,
            "max_width": null,
            "order": null,
            "_view_module_version": "1.2.0",
            "grid_template_areas": null,
            "object_position": null,
            "object_fit": null,
            "grid_auto_columns": null,
            "margin": null,
            "display": null,
            "left": null
          }
        },
        "1367e9ec75844b51bf32909e21a34b93": {
          "model_module": "@jupyter-widgets/controls",
          "model_name": "FloatProgressModel",
          "state": {
            "_view_name": "ProgressView",
            "style": "IPY_MODEL_b03382497a0741fb95aa477c37e0943b",
            "_dom_classes": [],
            "description": "",
            "_model_name": "FloatProgressModel",
            "bar_style": "info",
            "max": 1,
            "_view_module": "@jupyter-widgets/controls",
            "_model_module_version": "1.5.0",
            "value": 1,
            "_view_count": null,
            "_view_module_version": "1.5.0",
            "orientation": "horizontal",
            "min": 0,
            "description_tooltip": null,
            "_model_module": "@jupyter-widgets/controls",
            "layout": "IPY_MODEL_14168391dec54cf2838aed272749e63e"
          }
        },
        "ef841384d9c94df1a95b76847c672d40": {
          "model_module": "@jupyter-widgets/controls",
          "model_name": "HTMLModel",
          "state": {
            "_view_name": "HTMLView",
            "style": "IPY_MODEL_cf1ce5a5451e4e9b8f8f912da927de96",
            "_dom_classes": [],
            "description": "",
            "_model_name": "HTMLModel",
            "placeholder": "​",
            "_view_module": "@jupyter-widgets/controls",
            "_model_module_version": "1.5.0",
            "value": " 56/? [00:00&lt;00:00, 105.14 tables/s]",
            "_view_count": null,
            "_view_module_version": "1.5.0",
            "description_tooltip": null,
            "_model_module": "@jupyter-widgets/controls",
            "layout": "IPY_MODEL_fb98f04e7a474c47a6ae471ead8fadd8"
          }
        },
        "b03382497a0741fb95aa477c37e0943b": {
          "model_module": "@jupyter-widgets/controls",
          "model_name": "ProgressStyleModel",
          "state": {
            "_view_name": "StyleView",
            "_model_name": "ProgressStyleModel",
            "description_width": "initial",
            "_view_module": "@jupyter-widgets/base",
            "_model_module_version": "1.5.0",
            "_view_count": null,
            "_view_module_version": "1.2.0",
            "bar_color": null,
            "_model_module": "@jupyter-widgets/controls"
          }
        },
        "14168391dec54cf2838aed272749e63e": {
          "model_module": "@jupyter-widgets/base",
          "model_name": "LayoutModel",
          "state": {
            "_view_name": "LayoutView",
            "grid_template_rows": null,
            "right": null,
            "justify_content": null,
            "_view_module": "@jupyter-widgets/base",
            "overflow": null,
            "_model_module_version": "1.2.0",
            "_view_count": null,
            "flex_flow": null,
            "width": null,
            "min_width": null,
            "border": null,
            "align_items": null,
            "bottom": null,
            "_model_module": "@jupyter-widgets/base",
            "top": null,
            "grid_column": null,
            "overflow_y": null,
            "overflow_x": null,
            "grid_auto_flow": null,
            "grid_area": null,
            "grid_template_columns": null,
            "flex": null,
            "_model_name": "LayoutModel",
            "justify_items": null,
            "grid_row": null,
            "max_height": null,
            "align_content": null,
            "visibility": null,
            "align_self": null,
            "height": null,
            "min_height": null,
            "padding": null,
            "grid_auto_rows": null,
            "grid_gap": null,
            "max_width": null,
            "order": null,
            "_view_module_version": "1.2.0",
            "grid_template_areas": null,
            "object_position": null,
            "object_fit": null,
            "grid_auto_columns": null,
            "margin": null,
            "display": null,
            "left": null
          }
        },
        "cf1ce5a5451e4e9b8f8f912da927de96": {
          "model_module": "@jupyter-widgets/controls",
          "model_name": "DescriptionStyleModel",
          "state": {
            "_view_name": "StyleView",
            "_model_name": "DescriptionStyleModel",
            "description_width": "",
            "_view_module": "@jupyter-widgets/base",
            "_model_module_version": "1.5.0",
            "_view_count": null,
            "_view_module_version": "1.2.0",
            "_model_module": "@jupyter-widgets/controls"
          }
        },
        "fb98f04e7a474c47a6ae471ead8fadd8": {
          "model_module": "@jupyter-widgets/base",
          "model_name": "LayoutModel",
          "state": {
            "_view_name": "LayoutView",
            "grid_template_rows": null,
            "right": null,
            "justify_content": null,
            "_view_module": "@jupyter-widgets/base",
            "overflow": null,
            "_model_module_version": "1.2.0",
            "_view_count": null,
            "flex_flow": null,
            "width": null,
            "min_width": null,
            "border": null,
            "align_items": null,
            "bottom": null,
            "_model_module": "@jupyter-widgets/base",
            "top": null,
            "grid_column": null,
            "overflow_y": null,
            "overflow_x": null,
            "grid_auto_flow": null,
            "grid_area": null,
            "grid_template_columns": null,
            "flex": null,
            "_model_name": "LayoutModel",
            "justify_items": null,
            "grid_row": null,
            "max_height": null,
            "align_content": null,
            "visibility": null,
            "align_self": null,
            "height": null,
            "min_height": null,
            "padding": null,
            "grid_auto_rows": null,
            "grid_gap": null,
            "max_width": null,
            "order": null,
            "_view_module_version": "1.2.0",
            "grid_template_areas": null,
            "object_position": null,
            "object_fit": null,
            "grid_auto_columns": null,
            "margin": null,
            "display": null,
            "left": null
          }
        },
        "77ccd6cd0d0a46ce8c313ded52e96295": {
          "model_module": "@jupyter-widgets/controls",
          "model_name": "HBoxModel",
          "state": {
            "_view_name": "HBoxView",
            "_dom_classes": [],
            "_model_name": "HBoxModel",
            "_view_module": "@jupyter-widgets/controls",
            "_model_module_version": "1.5.0",
            "_view_count": null,
            "_view_module_version": "1.5.0",
            "box_style": "",
            "layout": "IPY_MODEL_da57f4e256e240958c1c727c5c78d400",
            "_model_module": "@jupyter-widgets/controls",
            "children": [
              "IPY_MODEL_c1a3023f74ff4280a22a61f977fb779a",
              "IPY_MODEL_04f322f409dd4bb2a354d22f55774761"
            ]
          }
        },
        "da57f4e256e240958c1c727c5c78d400": {
          "model_module": "@jupyter-widgets/base",
          "model_name": "LayoutModel",
          "state": {
            "_view_name": "LayoutView",
            "grid_template_rows": null,
            "right": null,
            "justify_content": null,
            "_view_module": "@jupyter-widgets/base",
            "overflow": null,
            "_model_module_version": "1.2.0",
            "_view_count": null,
            "flex_flow": null,
            "width": null,
            "min_width": null,
            "border": null,
            "align_items": null,
            "bottom": null,
            "_model_module": "@jupyter-widgets/base",
            "top": null,
            "grid_column": null,
            "overflow_y": null,
            "overflow_x": null,
            "grid_auto_flow": null,
            "grid_area": null,
            "grid_template_columns": null,
            "flex": null,
            "_model_name": "LayoutModel",
            "justify_items": null,
            "grid_row": null,
            "max_height": null,
            "align_content": null,
            "visibility": null,
            "align_self": null,
            "height": null,
            "min_height": null,
            "padding": null,
            "grid_auto_rows": null,
            "grid_gap": null,
            "max_width": null,
            "order": null,
            "_view_module_version": "1.2.0",
            "grid_template_areas": null,
            "object_position": null,
            "object_fit": null,
            "grid_auto_columns": null,
            "margin": null,
            "display": null,
            "left": null
          }
        },
        "c1a3023f74ff4280a22a61f977fb779a": {
          "model_module": "@jupyter-widgets/controls",
          "model_name": "FloatProgressModel",
          "state": {
            "_view_name": "ProgressView",
            "style": "IPY_MODEL_3cb881d1e7e0427889441c70385d005e",
            "_dom_classes": [],
            "description": "",
            "_model_name": "FloatProgressModel",
            "bar_style": "info",
            "max": 1,
            "_view_module": "@jupyter-widgets/controls",
            "_model_module_version": "1.5.0",
            "value": 1,
            "_view_count": null,
            "_view_module_version": "1.5.0",
            "orientation": "horizontal",
            "min": 0,
            "description_tooltip": null,
            "_model_module": "@jupyter-widgets/controls",
            "layout": "IPY_MODEL_fa32668aad8f40358d18250cc49b4469"
          }
        },
        "04f322f409dd4bb2a354d22f55774761": {
          "model_module": "@jupyter-widgets/controls",
          "model_name": "HTMLModel",
          "state": {
            "_view_name": "HTMLView",
            "style": "IPY_MODEL_d7ca906deec94474bae8ca3a5da9302f",
            "_dom_classes": [],
            "description": "",
            "_model_name": "HTMLModel",
            "placeholder": "​",
            "_view_module": "@jupyter-widgets/controls",
            "_model_module_version": "1.5.0",
            "value": " 64/? [00:00&lt;00:00, 102.62 tables/s]",
            "_view_count": null,
            "_view_module_version": "1.5.0",
            "description_tooltip": null,
            "_model_module": "@jupyter-widgets/controls",
            "layout": "IPY_MODEL_b29050732b8a48bb9e0514aeccd84229"
          }
        },
        "3cb881d1e7e0427889441c70385d005e": {
          "model_module": "@jupyter-widgets/controls",
          "model_name": "ProgressStyleModel",
          "state": {
            "_view_name": "StyleView",
            "_model_name": "ProgressStyleModel",
            "description_width": "initial",
            "_view_module": "@jupyter-widgets/base",
            "_model_module_version": "1.5.0",
            "_view_count": null,
            "_view_module_version": "1.2.0",
            "bar_color": null,
            "_model_module": "@jupyter-widgets/controls"
          }
        },
        "fa32668aad8f40358d18250cc49b4469": {
          "model_module": "@jupyter-widgets/base",
          "model_name": "LayoutModel",
          "state": {
            "_view_name": "LayoutView",
            "grid_template_rows": null,
            "right": null,
            "justify_content": null,
            "_view_module": "@jupyter-widgets/base",
            "overflow": null,
            "_model_module_version": "1.2.0",
            "_view_count": null,
            "flex_flow": null,
            "width": null,
            "min_width": null,
            "border": null,
            "align_items": null,
            "bottom": null,
            "_model_module": "@jupyter-widgets/base",
            "top": null,
            "grid_column": null,
            "overflow_y": null,
            "overflow_x": null,
            "grid_auto_flow": null,
            "grid_area": null,
            "grid_template_columns": null,
            "flex": null,
            "_model_name": "LayoutModel",
            "justify_items": null,
            "grid_row": null,
            "max_height": null,
            "align_content": null,
            "visibility": null,
            "align_self": null,
            "height": null,
            "min_height": null,
            "padding": null,
            "grid_auto_rows": null,
            "grid_gap": null,
            "max_width": null,
            "order": null,
            "_view_module_version": "1.2.0",
            "grid_template_areas": null,
            "object_position": null,
            "object_fit": null,
            "grid_auto_columns": null,
            "margin": null,
            "display": null,
            "left": null
          }
        },
        "d7ca906deec94474bae8ca3a5da9302f": {
          "model_module": "@jupyter-widgets/controls",
          "model_name": "DescriptionStyleModel",
          "state": {
            "_view_name": "StyleView",
            "_model_name": "DescriptionStyleModel",
            "description_width": "",
            "_view_module": "@jupyter-widgets/base",
            "_model_module_version": "1.5.0",
            "_view_count": null,
            "_view_module_version": "1.2.0",
            "_model_module": "@jupyter-widgets/controls"
          }
        },
        "b29050732b8a48bb9e0514aeccd84229": {
          "model_module": "@jupyter-widgets/base",
          "model_name": "LayoutModel",
          "state": {
            "_view_name": "LayoutView",
            "grid_template_rows": null,
            "right": null,
            "justify_content": null,
            "_view_module": "@jupyter-widgets/base",
            "overflow": null,
            "_model_module_version": "1.2.0",
            "_view_count": null,
            "flex_flow": null,
            "width": null,
            "min_width": null,
            "border": null,
            "align_items": null,
            "bottom": null,
            "_model_module": "@jupyter-widgets/base",
            "top": null,
            "grid_column": null,
            "overflow_y": null,
            "overflow_x": null,
            "grid_auto_flow": null,
            "grid_area": null,
            "grid_template_columns": null,
            "flex": null,
            "_model_name": "LayoutModel",
            "justify_items": null,
            "grid_row": null,
            "max_height": null,
            "align_content": null,
            "visibility": null,
            "align_self": null,
            "height": null,
            "min_height": null,
            "padding": null,
            "grid_auto_rows": null,
            "grid_gap": null,
            "max_width": null,
            "order": null,
            "_view_module_version": "1.2.0",
            "grid_template_areas": null,
            "object_position": null,
            "object_fit": null,
            "grid_auto_columns": null,
            "margin": null,
            "display": null,
            "left": null
          }
        },
        "92bc7f250f044f1bb59d520fa2f02178": {
          "model_module": "@jupyter-widgets/controls",
          "model_name": "HBoxModel",
          "state": {
            "_view_name": "HBoxView",
            "_dom_classes": [],
            "_model_name": "HBoxModel",
            "_view_module": "@jupyter-widgets/controls",
            "_model_module_version": "1.5.0",
            "_view_count": null,
            "_view_module_version": "1.5.0",
            "box_style": "",
            "layout": "IPY_MODEL_b5c1d18f06fe46e28072cb30fe3a0790",
            "_model_module": "@jupyter-widgets/controls",
            "children": [
              "IPY_MODEL_002a53065b684610a55e40ef74412bc8",
              "IPY_MODEL_4ddc7140433d40aa9276ab981e94c4a7"
            ]
          }
        },
        "b5c1d18f06fe46e28072cb30fe3a0790": {
          "model_module": "@jupyter-widgets/base",
          "model_name": "LayoutModel",
          "state": {
            "_view_name": "LayoutView",
            "grid_template_rows": null,
            "right": null,
            "justify_content": null,
            "_view_module": "@jupyter-widgets/base",
            "overflow": null,
            "_model_module_version": "1.2.0",
            "_view_count": null,
            "flex_flow": null,
            "width": null,
            "min_width": null,
            "border": null,
            "align_items": null,
            "bottom": null,
            "_model_module": "@jupyter-widgets/base",
            "top": null,
            "grid_column": null,
            "overflow_y": null,
            "overflow_x": null,
            "grid_auto_flow": null,
            "grid_area": null,
            "grid_template_columns": null,
            "flex": null,
            "_model_name": "LayoutModel",
            "justify_items": null,
            "grid_row": null,
            "max_height": null,
            "align_content": null,
            "visibility": null,
            "align_self": null,
            "height": null,
            "min_height": null,
            "padding": null,
            "grid_auto_rows": null,
            "grid_gap": null,
            "max_width": null,
            "order": null,
            "_view_module_version": "1.2.0",
            "grid_template_areas": null,
            "object_position": null,
            "object_fit": null,
            "grid_auto_columns": null,
            "margin": null,
            "display": null,
            "left": null
          }
        },
        "002a53065b684610a55e40ef74412bc8": {
          "model_module": "@jupyter-widgets/controls",
          "model_name": "FloatProgressModel",
          "state": {
            "_view_name": "ProgressView",
            "style": "IPY_MODEL_b425213aecda445394002d59909da6db",
            "_dom_classes": [],
            "description": "#0:   0%",
            "_model_name": "FloatProgressModel",
            "bar_style": "danger",
            "max": 652,
            "_view_module": "@jupyter-widgets/controls",
            "_model_module_version": "1.5.0",
            "value": 0,
            "_view_count": null,
            "_view_module_version": "1.5.0",
            "orientation": "horizontal",
            "min": 0,
            "description_tooltip": null,
            "_model_module": "@jupyter-widgets/controls",
            "layout": "IPY_MODEL_f30fdb162d4f4f879fa6f58ebaf622b9"
          }
        },
        "4ddc7140433d40aa9276ab981e94c4a7": {
          "model_module": "@jupyter-widgets/controls",
          "model_name": "HTMLModel",
          "state": {
            "_view_name": "HTMLView",
            "style": "IPY_MODEL_3de3453d99aa439486c3a235353e9455",
            "_dom_classes": [],
            "description": "",
            "_model_name": "HTMLModel",
            "placeholder": "​",
            "_view_module": "@jupyter-widgets/controls",
            "_model_module_version": "1.5.0",
            "value": " 0/652 [00:12&lt;?, ?ba/s]",
            "_view_count": null,
            "_view_module_version": "1.5.0",
            "description_tooltip": null,
            "_model_module": "@jupyter-widgets/controls",
            "layout": "IPY_MODEL_8e29c30c429c44f19983f90824eda6a9"
          }
        },
        "b425213aecda445394002d59909da6db": {
          "model_module": "@jupyter-widgets/controls",
          "model_name": "ProgressStyleModel",
          "state": {
            "_view_name": "StyleView",
            "_model_name": "ProgressStyleModel",
            "description_width": "initial",
            "_view_module": "@jupyter-widgets/base",
            "_model_module_version": "1.5.0",
            "_view_count": null,
            "_view_module_version": "1.2.0",
            "bar_color": null,
            "_model_module": "@jupyter-widgets/controls"
          }
        },
        "f30fdb162d4f4f879fa6f58ebaf622b9": {
          "model_module": "@jupyter-widgets/base",
          "model_name": "LayoutModel",
          "state": {
            "_view_name": "LayoutView",
            "grid_template_rows": null,
            "right": null,
            "justify_content": null,
            "_view_module": "@jupyter-widgets/base",
            "overflow": null,
            "_model_module_version": "1.2.0",
            "_view_count": null,
            "flex_flow": null,
            "width": null,
            "min_width": null,
            "border": null,
            "align_items": null,
            "bottom": null,
            "_model_module": "@jupyter-widgets/base",
            "top": null,
            "grid_column": null,
            "overflow_y": null,
            "overflow_x": null,
            "grid_auto_flow": null,
            "grid_area": null,
            "grid_template_columns": null,
            "flex": null,
            "_model_name": "LayoutModel",
            "justify_items": null,
            "grid_row": null,
            "max_height": null,
            "align_content": null,
            "visibility": null,
            "align_self": null,
            "height": null,
            "min_height": null,
            "padding": null,
            "grid_auto_rows": null,
            "grid_gap": null,
            "max_width": null,
            "order": null,
            "_view_module_version": "1.2.0",
            "grid_template_areas": null,
            "object_position": null,
            "object_fit": null,
            "grid_auto_columns": null,
            "margin": null,
            "display": null,
            "left": null
          }
        },
        "3de3453d99aa439486c3a235353e9455": {
          "model_module": "@jupyter-widgets/controls",
          "model_name": "DescriptionStyleModel",
          "state": {
            "_view_name": "StyleView",
            "_model_name": "DescriptionStyleModel",
            "description_width": "",
            "_view_module": "@jupyter-widgets/base",
            "_model_module_version": "1.5.0",
            "_view_count": null,
            "_view_module_version": "1.2.0",
            "_model_module": "@jupyter-widgets/controls"
          }
        },
        "8e29c30c429c44f19983f90824eda6a9": {
          "model_module": "@jupyter-widgets/base",
          "model_name": "LayoutModel",
          "state": {
            "_view_name": "LayoutView",
            "grid_template_rows": null,
            "right": null,
            "justify_content": null,
            "_view_module": "@jupyter-widgets/base",
            "overflow": null,
            "_model_module_version": "1.2.0",
            "_view_count": null,
            "flex_flow": null,
            "width": null,
            "min_width": null,
            "border": null,
            "align_items": null,
            "bottom": null,
            "_model_module": "@jupyter-widgets/base",
            "top": null,
            "grid_column": null,
            "overflow_y": null,
            "overflow_x": null,
            "grid_auto_flow": null,
            "grid_area": null,
            "grid_template_columns": null,
            "flex": null,
            "_model_name": "LayoutModel",
            "justify_items": null,
            "grid_row": null,
            "max_height": null,
            "align_content": null,
            "visibility": null,
            "align_self": null,
            "height": null,
            "min_height": null,
            "padding": null,
            "grid_auto_rows": null,
            "grid_gap": null,
            "max_width": null,
            "order": null,
            "_view_module_version": "1.2.0",
            "grid_template_areas": null,
            "object_position": null,
            "object_fit": null,
            "grid_auto_columns": null,
            "margin": null,
            "display": null,
            "left": null
          }
        },
        "8d38d72173c0499f8e12d669257e13d0": {
          "model_module": "@jupyter-widgets/controls",
          "model_name": "HBoxModel",
          "state": {
            "_view_name": "HBoxView",
            "_dom_classes": [],
            "_model_name": "HBoxModel",
            "_view_module": "@jupyter-widgets/controls",
            "_model_module_version": "1.5.0",
            "_view_count": null,
            "_view_module_version": "1.5.0",
            "box_style": "",
            "layout": "IPY_MODEL_2addd941cecb484587620c9490e3ebfb",
            "_model_module": "@jupyter-widgets/controls",
            "children": [
              "IPY_MODEL_df45c2bc470047a5a772826f2b0d1395",
              "IPY_MODEL_5f8e4d5805994f5facc1572af94145fe"
            ]
          }
        },
        "2addd941cecb484587620c9490e3ebfb": {
          "model_module": "@jupyter-widgets/base",
          "model_name": "LayoutModel",
          "state": {
            "_view_name": "LayoutView",
            "grid_template_rows": null,
            "right": null,
            "justify_content": null,
            "_view_module": "@jupyter-widgets/base",
            "overflow": null,
            "_model_module_version": "1.2.0",
            "_view_count": null,
            "flex_flow": null,
            "width": null,
            "min_width": null,
            "border": null,
            "align_items": null,
            "bottom": null,
            "_model_module": "@jupyter-widgets/base",
            "top": null,
            "grid_column": null,
            "overflow_y": null,
            "overflow_x": null,
            "grid_auto_flow": null,
            "grid_area": null,
            "grid_template_columns": null,
            "flex": null,
            "_model_name": "LayoutModel",
            "justify_items": null,
            "grid_row": null,
            "max_height": null,
            "align_content": null,
            "visibility": null,
            "align_self": null,
            "height": null,
            "min_height": null,
            "padding": null,
            "grid_auto_rows": null,
            "grid_gap": null,
            "max_width": null,
            "order": null,
            "_view_module_version": "1.2.0",
            "grid_template_areas": null,
            "object_position": null,
            "object_fit": null,
            "grid_auto_columns": null,
            "margin": null,
            "display": null,
            "left": null
          }
        },
        "df45c2bc470047a5a772826f2b0d1395": {
          "model_module": "@jupyter-widgets/controls",
          "model_name": "FloatProgressModel",
          "state": {
            "_view_name": "ProgressView",
            "style": "IPY_MODEL_9396a6e9ed8e4b0ba37db49c55a48a29",
            "_dom_classes": [],
            "description": "#1:   0%",
            "_model_name": "FloatProgressModel",
            "bar_style": "",
            "max": 652,
            "_view_module": "@jupyter-widgets/controls",
            "_model_module_version": "1.5.0",
            "value": 0,
            "_view_count": null,
            "_view_module_version": "1.5.0",
            "orientation": "horizontal",
            "min": 0,
            "description_tooltip": null,
            "_model_module": "@jupyter-widgets/controls",
            "layout": "IPY_MODEL_7b27f61af280411180b8abc332aed921"
          }
        },
        "5f8e4d5805994f5facc1572af94145fe": {
          "model_module": "@jupyter-widgets/controls",
          "model_name": "HTMLModel",
          "state": {
            "_view_name": "HTMLView",
            "style": "IPY_MODEL_1694224cac434f30ae36647f6ff9a6be",
            "_dom_classes": [],
            "description": "",
            "_model_name": "HTMLModel",
            "placeholder": "​",
            "_view_module": "@jupyter-widgets/controls",
            "_model_module_version": "1.5.0",
            "value": " 0/652 [00:00&lt;?, ?ba/s]",
            "_view_count": null,
            "_view_module_version": "1.5.0",
            "description_tooltip": null,
            "_model_module": "@jupyter-widgets/controls",
            "layout": "IPY_MODEL_df69e3952df644f983c5c33bf57a418c"
          }
        },
        "9396a6e9ed8e4b0ba37db49c55a48a29": {
          "model_module": "@jupyter-widgets/controls",
          "model_name": "ProgressStyleModel",
          "state": {
            "_view_name": "StyleView",
            "_model_name": "ProgressStyleModel",
            "description_width": "initial",
            "_view_module": "@jupyter-widgets/base",
            "_model_module_version": "1.5.0",
            "_view_count": null,
            "_view_module_version": "1.2.0",
            "bar_color": null,
            "_model_module": "@jupyter-widgets/controls"
          }
        },
        "7b27f61af280411180b8abc332aed921": {
          "model_module": "@jupyter-widgets/base",
          "model_name": "LayoutModel",
          "state": {
            "_view_name": "LayoutView",
            "grid_template_rows": null,
            "right": null,
            "justify_content": null,
            "_view_module": "@jupyter-widgets/base",
            "overflow": null,
            "_model_module_version": "1.2.0",
            "_view_count": null,
            "flex_flow": null,
            "width": null,
            "min_width": null,
            "border": null,
            "align_items": null,
            "bottom": null,
            "_model_module": "@jupyter-widgets/base",
            "top": null,
            "grid_column": null,
            "overflow_y": null,
            "overflow_x": null,
            "grid_auto_flow": null,
            "grid_area": null,
            "grid_template_columns": null,
            "flex": null,
            "_model_name": "LayoutModel",
            "justify_items": null,
            "grid_row": null,
            "max_height": null,
            "align_content": null,
            "visibility": null,
            "align_self": null,
            "height": null,
            "min_height": null,
            "padding": null,
            "grid_auto_rows": null,
            "grid_gap": null,
            "max_width": null,
            "order": null,
            "_view_module_version": "1.2.0",
            "grid_template_areas": null,
            "object_position": null,
            "object_fit": null,
            "grid_auto_columns": null,
            "margin": null,
            "display": null,
            "left": null
          }
        },
        "1694224cac434f30ae36647f6ff9a6be": {
          "model_module": "@jupyter-widgets/controls",
          "model_name": "DescriptionStyleModel",
          "state": {
            "_view_name": "StyleView",
            "_model_name": "DescriptionStyleModel",
            "description_width": "",
            "_view_module": "@jupyter-widgets/base",
            "_model_module_version": "1.5.0",
            "_view_count": null,
            "_view_module_version": "1.2.0",
            "_model_module": "@jupyter-widgets/controls"
          }
        },
        "df69e3952df644f983c5c33bf57a418c": {
          "model_module": "@jupyter-widgets/base",
          "model_name": "LayoutModel",
          "state": {
            "_view_name": "LayoutView",
            "grid_template_rows": null,
            "right": null,
            "justify_content": null,
            "_view_module": "@jupyter-widgets/base",
            "overflow": null,
            "_model_module_version": "1.2.0",
            "_view_count": null,
            "flex_flow": null,
            "width": null,
            "min_width": null,
            "border": null,
            "align_items": null,
            "bottom": null,
            "_model_module": "@jupyter-widgets/base",
            "top": null,
            "grid_column": null,
            "overflow_y": null,
            "overflow_x": null,
            "grid_auto_flow": null,
            "grid_area": null,
            "grid_template_columns": null,
            "flex": null,
            "_model_name": "LayoutModel",
            "justify_items": null,
            "grid_row": null,
            "max_height": null,
            "align_content": null,
            "visibility": null,
            "align_self": null,
            "height": null,
            "min_height": null,
            "padding": null,
            "grid_auto_rows": null,
            "grid_gap": null,
            "max_width": null,
            "order": null,
            "_view_module_version": "1.2.0",
            "grid_template_areas": null,
            "object_position": null,
            "object_fit": null,
            "grid_auto_columns": null,
            "margin": null,
            "display": null,
            "left": null
          }
        },
        "6f4c8172b80c46aeb6a57deb0b7bbef8": {
          "model_module": "@jupyter-widgets/controls",
          "model_name": "HBoxModel",
          "state": {
            "_view_name": "HBoxView",
            "_dom_classes": [],
            "_model_name": "HBoxModel",
            "_view_module": "@jupyter-widgets/controls",
            "_model_module_version": "1.5.0",
            "_view_count": null,
            "_view_module_version": "1.5.0",
            "box_style": "",
            "layout": "IPY_MODEL_31b406bcf8cd4b5ca8ef5040b3608bd9",
            "_model_module": "@jupyter-widgets/controls",
            "children": [
              "IPY_MODEL_66b0350320ab45e1be93a88cee4856c1",
              "IPY_MODEL_903d7b3190584e0a924150ed17b2e7e5"
            ]
          }
        },
        "31b406bcf8cd4b5ca8ef5040b3608bd9": {
          "model_module": "@jupyter-widgets/base",
          "model_name": "LayoutModel",
          "state": {
            "_view_name": "LayoutView",
            "grid_template_rows": null,
            "right": null,
            "justify_content": null,
            "_view_module": "@jupyter-widgets/base",
            "overflow": null,
            "_model_module_version": "1.2.0",
            "_view_count": null,
            "flex_flow": null,
            "width": null,
            "min_width": null,
            "border": null,
            "align_items": null,
            "bottom": null,
            "_model_module": "@jupyter-widgets/base",
            "top": null,
            "grid_column": null,
            "overflow_y": null,
            "overflow_x": null,
            "grid_auto_flow": null,
            "grid_area": null,
            "grid_template_columns": null,
            "flex": null,
            "_model_name": "LayoutModel",
            "justify_items": null,
            "grid_row": null,
            "max_height": null,
            "align_content": null,
            "visibility": null,
            "align_self": null,
            "height": null,
            "min_height": null,
            "padding": null,
            "grid_auto_rows": null,
            "grid_gap": null,
            "max_width": null,
            "order": null,
            "_view_module_version": "1.2.0",
            "grid_template_areas": null,
            "object_position": null,
            "object_fit": null,
            "grid_auto_columns": null,
            "margin": null,
            "display": null,
            "left": null
          }
        },
        "66b0350320ab45e1be93a88cee4856c1": {
          "model_module": "@jupyter-widgets/controls",
          "model_name": "FloatProgressModel",
          "state": {
            "_view_name": "ProgressView",
            "style": "IPY_MODEL_95357d3472de4a24b31b11695cf3d525",
            "_dom_classes": [],
            "description": "#2:   0%",
            "_model_name": "FloatProgressModel",
            "bar_style": "",
            "max": 652,
            "_view_module": "@jupyter-widgets/controls",
            "_model_module_version": "1.5.0",
            "value": 0,
            "_view_count": null,
            "_view_module_version": "1.5.0",
            "orientation": "horizontal",
            "min": 0,
            "description_tooltip": null,
            "_model_module": "@jupyter-widgets/controls",
            "layout": "IPY_MODEL_afe380c88e0e4c1b864e8c051455b3cd"
          }
        },
        "903d7b3190584e0a924150ed17b2e7e5": {
          "model_module": "@jupyter-widgets/controls",
          "model_name": "HTMLModel",
          "state": {
            "_view_name": "HTMLView",
            "style": "IPY_MODEL_6b9573c286984726a6375b52bf4c601b",
            "_dom_classes": [],
            "description": "",
            "_model_name": "HTMLModel",
            "placeholder": "​",
            "_view_module": "@jupyter-widgets/controls",
            "_model_module_version": "1.5.0",
            "value": " 0/652 [00:00&lt;?, ?ba/s]",
            "_view_count": null,
            "_view_module_version": "1.5.0",
            "description_tooltip": null,
            "_model_module": "@jupyter-widgets/controls",
            "layout": "IPY_MODEL_a9a182c7f1ad41c3bd042d78174ef438"
          }
        },
        "95357d3472de4a24b31b11695cf3d525": {
          "model_module": "@jupyter-widgets/controls",
          "model_name": "ProgressStyleModel",
          "state": {
            "_view_name": "StyleView",
            "_model_name": "ProgressStyleModel",
            "description_width": "initial",
            "_view_module": "@jupyter-widgets/base",
            "_model_module_version": "1.5.0",
            "_view_count": null,
            "_view_module_version": "1.2.0",
            "bar_color": null,
            "_model_module": "@jupyter-widgets/controls"
          }
        },
        "afe380c88e0e4c1b864e8c051455b3cd": {
          "model_module": "@jupyter-widgets/base",
          "model_name": "LayoutModel",
          "state": {
            "_view_name": "LayoutView",
            "grid_template_rows": null,
            "right": null,
            "justify_content": null,
            "_view_module": "@jupyter-widgets/base",
            "overflow": null,
            "_model_module_version": "1.2.0",
            "_view_count": null,
            "flex_flow": null,
            "width": null,
            "min_width": null,
            "border": null,
            "align_items": null,
            "bottom": null,
            "_model_module": "@jupyter-widgets/base",
            "top": null,
            "grid_column": null,
            "overflow_y": null,
            "overflow_x": null,
            "grid_auto_flow": null,
            "grid_area": null,
            "grid_template_columns": null,
            "flex": null,
            "_model_name": "LayoutModel",
            "justify_items": null,
            "grid_row": null,
            "max_height": null,
            "align_content": null,
            "visibility": null,
            "align_self": null,
            "height": null,
            "min_height": null,
            "padding": null,
            "grid_auto_rows": null,
            "grid_gap": null,
            "max_width": null,
            "order": null,
            "_view_module_version": "1.2.0",
            "grid_template_areas": null,
            "object_position": null,
            "object_fit": null,
            "grid_auto_columns": null,
            "margin": null,
            "display": null,
            "left": null
          }
        },
        "6b9573c286984726a6375b52bf4c601b": {
          "model_module": "@jupyter-widgets/controls",
          "model_name": "DescriptionStyleModel",
          "state": {
            "_view_name": "StyleView",
            "_model_name": "DescriptionStyleModel",
            "description_width": "",
            "_view_module": "@jupyter-widgets/base",
            "_model_module_version": "1.5.0",
            "_view_count": null,
            "_view_module_version": "1.2.0",
            "_model_module": "@jupyter-widgets/controls"
          }
        },
        "a9a182c7f1ad41c3bd042d78174ef438": {
          "model_module": "@jupyter-widgets/base",
          "model_name": "LayoutModel",
          "state": {
            "_view_name": "LayoutView",
            "grid_template_rows": null,
            "right": null,
            "justify_content": null,
            "_view_module": "@jupyter-widgets/base",
            "overflow": null,
            "_model_module_version": "1.2.0",
            "_view_count": null,
            "flex_flow": null,
            "width": null,
            "min_width": null,
            "border": null,
            "align_items": null,
            "bottom": null,
            "_model_module": "@jupyter-widgets/base",
            "top": null,
            "grid_column": null,
            "overflow_y": null,
            "overflow_x": null,
            "grid_auto_flow": null,
            "grid_area": null,
            "grid_template_columns": null,
            "flex": null,
            "_model_name": "LayoutModel",
            "justify_items": null,
            "grid_row": null,
            "max_height": null,
            "align_content": null,
            "visibility": null,
            "align_self": null,
            "height": null,
            "min_height": null,
            "padding": null,
            "grid_auto_rows": null,
            "grid_gap": null,
            "max_width": null,
            "order": null,
            "_view_module_version": "1.2.0",
            "grid_template_areas": null,
            "object_position": null,
            "object_fit": null,
            "grid_auto_columns": null,
            "margin": null,
            "display": null,
            "left": null
          }
        },
        "1d0a2380f27a42138711747072320fc7": {
          "model_module": "@jupyter-widgets/controls",
          "model_name": "HBoxModel",
          "state": {
            "_view_name": "HBoxView",
            "_dom_classes": [],
            "_model_name": "HBoxModel",
            "_view_module": "@jupyter-widgets/controls",
            "_model_module_version": "1.5.0",
            "_view_count": null,
            "_view_module_version": "1.5.0",
            "box_style": "",
            "layout": "IPY_MODEL_6876190b33734bf3823242360d3b0f0c",
            "_model_module": "@jupyter-widgets/controls",
            "children": [
              "IPY_MODEL_b41ddfa2a9ab4bcfb88984eff662cb34",
              "IPY_MODEL_1e829f3791104f17be3885011a913785"
            ]
          }
        },
        "6876190b33734bf3823242360d3b0f0c": {
          "model_module": "@jupyter-widgets/base",
          "model_name": "LayoutModel",
          "state": {
            "_view_name": "LayoutView",
            "grid_template_rows": null,
            "right": null,
            "justify_content": null,
            "_view_module": "@jupyter-widgets/base",
            "overflow": null,
            "_model_module_version": "1.2.0",
            "_view_count": null,
            "flex_flow": null,
            "width": null,
            "min_width": null,
            "border": null,
            "align_items": null,
            "bottom": null,
            "_model_module": "@jupyter-widgets/base",
            "top": null,
            "grid_column": null,
            "overflow_y": null,
            "overflow_x": null,
            "grid_auto_flow": null,
            "grid_area": null,
            "grid_template_columns": null,
            "flex": null,
            "_model_name": "LayoutModel",
            "justify_items": null,
            "grid_row": null,
            "max_height": null,
            "align_content": null,
            "visibility": null,
            "align_self": null,
            "height": null,
            "min_height": null,
            "padding": null,
            "grid_auto_rows": null,
            "grid_gap": null,
            "max_width": null,
            "order": null,
            "_view_module_version": "1.2.0",
            "grid_template_areas": null,
            "object_position": null,
            "object_fit": null,
            "grid_auto_columns": null,
            "margin": null,
            "display": null,
            "left": null
          }
        },
        "b41ddfa2a9ab4bcfb88984eff662cb34": {
          "model_module": "@jupyter-widgets/controls",
          "model_name": "FloatProgressModel",
          "state": {
            "_view_name": "ProgressView",
            "style": "IPY_MODEL_df56a560ffb245218d52bd69d2f7b92b",
            "_dom_classes": [],
            "description": "#3:   0%",
            "_model_name": "FloatProgressModel",
            "bar_style": "",
            "max": 652,
            "_view_module": "@jupyter-widgets/controls",
            "_model_module_version": "1.5.0",
            "value": 0,
            "_view_count": null,
            "_view_module_version": "1.5.0",
            "orientation": "horizontal",
            "min": 0,
            "description_tooltip": null,
            "_model_module": "@jupyter-widgets/controls",
            "layout": "IPY_MODEL_b3504591d2a140058d5da8bf20f0a439"
          }
        },
        "1e829f3791104f17be3885011a913785": {
          "model_module": "@jupyter-widgets/controls",
          "model_name": "HTMLModel",
          "state": {
            "_view_name": "HTMLView",
            "style": "IPY_MODEL_5dd47295142449d685bb40d9f55bb31e",
            "_dom_classes": [],
            "description": "",
            "_model_name": "HTMLModel",
            "placeholder": "​",
            "_view_module": "@jupyter-widgets/controls",
            "_model_module_version": "1.5.0",
            "value": " 0/652 [00:00&lt;?, ?ba/s]",
            "_view_count": null,
            "_view_module_version": "1.5.0",
            "description_tooltip": null,
            "_model_module": "@jupyter-widgets/controls",
            "layout": "IPY_MODEL_46d2af91951f4442aee62640f636beb8"
          }
        },
        "df56a560ffb245218d52bd69d2f7b92b": {
          "model_module": "@jupyter-widgets/controls",
          "model_name": "ProgressStyleModel",
          "state": {
            "_view_name": "StyleView",
            "_model_name": "ProgressStyleModel",
            "description_width": "initial",
            "_view_module": "@jupyter-widgets/base",
            "_model_module_version": "1.5.0",
            "_view_count": null,
            "_view_module_version": "1.2.0",
            "bar_color": null,
            "_model_module": "@jupyter-widgets/controls"
          }
        },
        "b3504591d2a140058d5da8bf20f0a439": {
          "model_module": "@jupyter-widgets/base",
          "model_name": "LayoutModel",
          "state": {
            "_view_name": "LayoutView",
            "grid_template_rows": null,
            "right": null,
            "justify_content": null,
            "_view_module": "@jupyter-widgets/base",
            "overflow": null,
            "_model_module_version": "1.2.0",
            "_view_count": null,
            "flex_flow": null,
            "width": null,
            "min_width": null,
            "border": null,
            "align_items": null,
            "bottom": null,
            "_model_module": "@jupyter-widgets/base",
            "top": null,
            "grid_column": null,
            "overflow_y": null,
            "overflow_x": null,
            "grid_auto_flow": null,
            "grid_area": null,
            "grid_template_columns": null,
            "flex": null,
            "_model_name": "LayoutModel",
            "justify_items": null,
            "grid_row": null,
            "max_height": null,
            "align_content": null,
            "visibility": null,
            "align_self": null,
            "height": null,
            "min_height": null,
            "padding": null,
            "grid_auto_rows": null,
            "grid_gap": null,
            "max_width": null,
            "order": null,
            "_view_module_version": "1.2.0",
            "grid_template_areas": null,
            "object_position": null,
            "object_fit": null,
            "grid_auto_columns": null,
            "margin": null,
            "display": null,
            "left": null
          }
        },
        "5dd47295142449d685bb40d9f55bb31e": {
          "model_module": "@jupyter-widgets/controls",
          "model_name": "DescriptionStyleModel",
          "state": {
            "_view_name": "StyleView",
            "_model_name": "DescriptionStyleModel",
            "description_width": "",
            "_view_module": "@jupyter-widgets/base",
            "_model_module_version": "1.5.0",
            "_view_count": null,
            "_view_module_version": "1.2.0",
            "_model_module": "@jupyter-widgets/controls"
          }
        },
        "46d2af91951f4442aee62640f636beb8": {
          "model_module": "@jupyter-widgets/base",
          "model_name": "LayoutModel",
          "state": {
            "_view_name": "LayoutView",
            "grid_template_rows": null,
            "right": null,
            "justify_content": null,
            "_view_module": "@jupyter-widgets/base",
            "overflow": null,
            "_model_module_version": "1.2.0",
            "_view_count": null,
            "flex_flow": null,
            "width": null,
            "min_width": null,
            "border": null,
            "align_items": null,
            "bottom": null,
            "_model_module": "@jupyter-widgets/base",
            "top": null,
            "grid_column": null,
            "overflow_y": null,
            "overflow_x": null,
            "grid_auto_flow": null,
            "grid_area": null,
            "grid_template_columns": null,
            "flex": null,
            "_model_name": "LayoutModel",
            "justify_items": null,
            "grid_row": null,
            "max_height": null,
            "align_content": null,
            "visibility": null,
            "align_self": null,
            "height": null,
            "min_height": null,
            "padding": null,
            "grid_auto_rows": null,
            "grid_gap": null,
            "max_width": null,
            "order": null,
            "_view_module_version": "1.2.0",
            "grid_template_areas": null,
            "object_position": null,
            "object_fit": null,
            "grid_auto_columns": null,
            "margin": null,
            "display": null,
            "left": null
          }
        }
      }
    },
    "accelerator": "GPU"
  },
  "cells": [
    {
      "cell_type": "code",
      "metadata": {
        "colab": {
          "base_uri": "https://localhost:8080/"
        },
        "id": "9nCkDwMvMEmx",
        "outputId": "b96389be-0f82-4a7a-f901-8255b0e15f7e"
      },
      "source": [
        "! pip install datasets"
      ],
      "execution_count": null,
      "outputs": [
        {
          "output_type": "stream",
          "text": [
            "Collecting datasets\n",
            "\u001b[?25l  Downloading https://files.pythonhosted.org/packages/46/1a/b9f9b3bfef624686ae81c070f0a6bb635047b17cdb3698c7ad01281e6f9a/datasets-1.6.2-py3-none-any.whl (221kB)\n",
            "\r\u001b[K     |█▌                              | 10kB 15.3MB/s eta 0:00:01\r\u001b[K     |███                             | 20kB 12.3MB/s eta 0:00:01\r\u001b[K     |████▍                           | 30kB 9.4MB/s eta 0:00:01\r\u001b[K     |██████                          | 40kB 8.5MB/s eta 0:00:01\r\u001b[K     |███████▍                        | 51kB 5.3MB/s eta 0:00:01\r\u001b[K     |████████▉                       | 61kB 5.8MB/s eta 0:00:01\r\u001b[K     |██████████▍                     | 71kB 6.0MB/s eta 0:00:01\r\u001b[K     |███████████▉                    | 81kB 6.6MB/s eta 0:00:01\r\u001b[K     |█████████████▎                  | 92kB 6.0MB/s eta 0:00:01\r\u001b[K     |██████████████▊                 | 102kB 6.5MB/s eta 0:00:01\r\u001b[K     |████████████████▎               | 112kB 6.5MB/s eta 0:00:01\r\u001b[K     |█████████████████▊              | 122kB 6.5MB/s eta 0:00:01\r\u001b[K     |███████████████████▏            | 133kB 6.5MB/s eta 0:00:01\r\u001b[K     |████████████████████▊           | 143kB 6.5MB/s eta 0:00:01\r\u001b[K     |██████████████████████▏         | 153kB 6.5MB/s eta 0:00:01\r\u001b[K     |███████████████████████▋        | 163kB 6.5MB/s eta 0:00:01\r\u001b[K     |█████████████████████████▏      | 174kB 6.5MB/s eta 0:00:01\r\u001b[K     |██████████████████████████▋     | 184kB 6.5MB/s eta 0:00:01\r\u001b[K     |████████████████████████████    | 194kB 6.5MB/s eta 0:00:01\r\u001b[K     |█████████████████████████████▌  | 204kB 6.5MB/s eta 0:00:01\r\u001b[K     |███████████████████████████████ | 215kB 6.5MB/s eta 0:00:01\r\u001b[K     |████████████████████████████████| 225kB 6.5MB/s \n",
            "\u001b[?25hRequirement already satisfied: pyarrow>=1.0.0<4.0.0 in /usr/local/lib/python3.7/dist-packages (from datasets) (3.0.0)\n",
            "Collecting xxhash\n",
            "\u001b[?25l  Downloading https://files.pythonhosted.org/packages/7d/4f/0a862cad26aa2ed7a7cd87178cbbfa824fc1383e472d63596a0d018374e7/xxhash-2.0.2-cp37-cp37m-manylinux2010_x86_64.whl (243kB)\n",
            "\u001b[K     |████████████████████████████████| 245kB 8.6MB/s \n",
            "\u001b[?25hCollecting huggingface-hub<0.1.0\n",
            "  Downloading https://files.pythonhosted.org/packages/a1/88/7b1e45720ecf59c6c6737ff332f41c955963090a18e72acbcbeac6b25e86/huggingface_hub-0.0.8-py3-none-any.whl\n",
            "Requirement already satisfied: requests>=2.19.0 in /usr/local/lib/python3.7/dist-packages (from datasets) (2.23.0)\n",
            "Requirement already satisfied: numpy>=1.17 in /usr/local/lib/python3.7/dist-packages (from datasets) (1.19.5)\n",
            "Requirement already satisfied: packaging in /usr/local/lib/python3.7/dist-packages (from datasets) (20.9)\n",
            "Requirement already satisfied: importlib-metadata; python_version < \"3.8\" in /usr/local/lib/python3.7/dist-packages (from datasets) (3.10.1)\n",
            "Collecting fsspec\n",
            "\u001b[?25l  Downloading https://files.pythonhosted.org/packages/e9/91/2ef649137816850fa4f4c97c6f2eabb1a79bf0aa2c8ed198e387e373455e/fsspec-2021.4.0-py3-none-any.whl (108kB)\n",
            "\u001b[K     |████████████████████████████████| 112kB 9.4MB/s \n",
            "\u001b[?25hRequirement already satisfied: multiprocess in /usr/local/lib/python3.7/dist-packages (from datasets) (0.70.11.1)\n",
            "Requirement already satisfied: tqdm<4.50.0,>=4.27 in /usr/local/lib/python3.7/dist-packages (from datasets) (4.41.1)\n",
            "Requirement already satisfied: dill in /usr/local/lib/python3.7/dist-packages (from datasets) (0.3.3)\n",
            "Requirement already satisfied: pandas in /usr/local/lib/python3.7/dist-packages (from datasets) (1.1.5)\n",
            "Requirement already satisfied: filelock in /usr/local/lib/python3.7/dist-packages (from huggingface-hub<0.1.0->datasets) (3.0.12)\n",
            "Requirement already satisfied: urllib3!=1.25.0,!=1.25.1,<1.26,>=1.21.1 in /usr/local/lib/python3.7/dist-packages (from requests>=2.19.0->datasets) (1.24.3)\n",
            "Requirement already satisfied: chardet<4,>=3.0.2 in /usr/local/lib/python3.7/dist-packages (from requests>=2.19.0->datasets) (3.0.4)\n",
            "Requirement already satisfied: idna<3,>=2.5 in /usr/local/lib/python3.7/dist-packages (from requests>=2.19.0->datasets) (2.10)\n",
            "Requirement already satisfied: certifi>=2017.4.17 in /usr/local/lib/python3.7/dist-packages (from requests>=2.19.0->datasets) (2020.12.5)\n",
            "Requirement already satisfied: pyparsing>=2.0.2 in /usr/local/lib/python3.7/dist-packages (from packaging->datasets) (2.4.7)\n",
            "Requirement already satisfied: typing-extensions>=3.6.4; python_version < \"3.8\" in /usr/local/lib/python3.7/dist-packages (from importlib-metadata; python_version < \"3.8\"->datasets) (3.7.4.3)\n",
            "Requirement already satisfied: zipp>=0.5 in /usr/local/lib/python3.7/dist-packages (from importlib-metadata; python_version < \"3.8\"->datasets) (3.4.1)\n",
            "Requirement already satisfied: python-dateutil>=2.7.3 in /usr/local/lib/python3.7/dist-packages (from pandas->datasets) (2.8.1)\n",
            "Requirement already satisfied: pytz>=2017.2 in /usr/local/lib/python3.7/dist-packages (from pandas->datasets) (2018.9)\n",
            "Requirement already satisfied: six>=1.5 in /usr/local/lib/python3.7/dist-packages (from python-dateutil>=2.7.3->pandas->datasets) (1.15.0)\n",
            "Installing collected packages: xxhash, huggingface-hub, fsspec, datasets\n",
            "Successfully installed datasets-1.6.2 fsspec-2021.4.0 huggingface-hub-0.0.8 xxhash-2.0.2\n"
          ],
          "name": "stdout"
        }
      ]
    },
    {
      "cell_type": "code",
      "metadata": {
        "colab": {
          "base_uri": "https://localhost:8080/"
        },
        "id": "jeTv0l51L62c",
        "outputId": "2f0720ec-8938-4718-80f3-5d39623b9b36"
      },
      "source": [
        "!pip install transformers"
      ],
      "execution_count": null,
      "outputs": [
        {
          "output_type": "stream",
          "text": [
            "Collecting transformers\n",
            "\u001b[?25l  Downloading https://files.pythonhosted.org/packages/d8/b2/57495b5309f09fa501866e225c84532d1fd89536ea62406b2181933fb418/transformers-4.5.1-py3-none-any.whl (2.1MB)\n",
            "\u001b[K     |████████████████████████████████| 2.1MB 6.6MB/s \n",
            "\u001b[?25hRequirement already satisfied: regex!=2019.12.17 in /usr/local/lib/python3.7/dist-packages (from transformers) (2019.12.20)\n",
            "Requirement already satisfied: importlib-metadata; python_version < \"3.8\" in /usr/local/lib/python3.7/dist-packages (from transformers) (3.10.1)\n",
            "Collecting sacremoses\n",
            "\u001b[?25l  Downloading https://files.pythonhosted.org/packages/75/ee/67241dc87f266093c533a2d4d3d69438e57d7a90abb216fa076e7d475d4a/sacremoses-0.0.45-py3-none-any.whl (895kB)\n",
            "\u001b[K     |████████████████████████████████| 901kB 35.0MB/s \n",
            "\u001b[?25hRequirement already satisfied: numpy>=1.17 in /usr/local/lib/python3.7/dist-packages (from transformers) (1.19.5)\n",
            "Requirement already satisfied: filelock in /usr/local/lib/python3.7/dist-packages (from transformers) (3.0.12)\n",
            "Requirement already satisfied: packaging in /usr/local/lib/python3.7/dist-packages (from transformers) (20.9)\n",
            "Collecting tokenizers<0.11,>=0.10.1\n",
            "\u001b[?25l  Downloading https://files.pythonhosted.org/packages/ae/04/5b870f26a858552025a62f1649c20d29d2672c02ff3c3fb4c688ca46467a/tokenizers-0.10.2-cp37-cp37m-manylinux2010_x86_64.whl (3.3MB)\n",
            "\u001b[K     |████████████████████████████████| 3.3MB 40.0MB/s \n",
            "\u001b[?25hRequirement already satisfied: requests in /usr/local/lib/python3.7/dist-packages (from transformers) (2.23.0)\n",
            "Requirement already satisfied: tqdm>=4.27 in /usr/local/lib/python3.7/dist-packages (from transformers) (4.41.1)\n",
            "Requirement already satisfied: zipp>=0.5 in /usr/local/lib/python3.7/dist-packages (from importlib-metadata; python_version < \"3.8\"->transformers) (3.4.1)\n",
            "Requirement already satisfied: typing-extensions>=3.6.4; python_version < \"3.8\" in /usr/local/lib/python3.7/dist-packages (from importlib-metadata; python_version < \"3.8\"->transformers) (3.7.4.3)\n",
            "Requirement already satisfied: six in /usr/local/lib/python3.7/dist-packages (from sacremoses->transformers) (1.15.0)\n",
            "Requirement already satisfied: click in /usr/local/lib/python3.7/dist-packages (from sacremoses->transformers) (7.1.2)\n",
            "Requirement already satisfied: joblib in /usr/local/lib/python3.7/dist-packages (from sacremoses->transformers) (1.0.1)\n",
            "Requirement already satisfied: pyparsing>=2.0.2 in /usr/local/lib/python3.7/dist-packages (from packaging->transformers) (2.4.7)\n",
            "Requirement already satisfied: urllib3!=1.25.0,!=1.25.1,<1.26,>=1.21.1 in /usr/local/lib/python3.7/dist-packages (from requests->transformers) (1.24.3)\n",
            "Requirement already satisfied: certifi>=2017.4.17 in /usr/local/lib/python3.7/dist-packages (from requests->transformers) (2020.12.5)\n",
            "Requirement already satisfied: idna<3,>=2.5 in /usr/local/lib/python3.7/dist-packages (from requests->transformers) (2.10)\n",
            "Requirement already satisfied: chardet<4,>=3.0.2 in /usr/local/lib/python3.7/dist-packages (from requests->transformers) (3.0.4)\n",
            "Installing collected packages: sacremoses, tokenizers, transformers\n",
            "Successfully installed sacremoses-0.0.45 tokenizers-0.10.2 transformers-4.5.1\n"
          ],
          "name": "stdout"
        }
      ]
    },
    {
      "cell_type": "code",
      "metadata": {
        "id": "BBpY0XVRK_Fi"
      },
      "source": [
        "import pandas as pd\n",
        "from transformers import AutoTokenizer, TFAutoModel\n",
        "import datasets\n",
        "import tensorflow as tf"
      ],
      "execution_count": null,
      "outputs": []
    },
    {
      "cell_type": "code",
      "metadata": {
        "colab": {
          "base_uri": "https://localhost:8080/"
        },
        "id": "yAJXzSzgLBD7",
        "outputId": "649e8b38-d20c-44a2-ea58-a8f4833d12d1"
      },
      "source": [
        "from google.colab import drive\n",
        "drive.mount('/content/drive')"
      ],
      "execution_count": null,
      "outputs": [
        {
          "output_type": "stream",
          "text": [
            "Mounted at /content/drive\n"
          ],
          "name": "stdout"
        }
      ]
    },
    {
      "cell_type": "code",
      "metadata": {
        "id": "h2OJwQxDK_Fo"
      },
      "source": [
        "data_fname = \"/content/drive/Shareddrives/CS109B-2021/final_project/data/subset/case_info.json\"\n",
        "# cases_df = pd.read_json(data_fname, lines=True, orient=\"records\")[[\"id\", \"head_matter\", \"opinion_text\"]]\n",
        "# cases_df[\"text\"] = cases_df[\"head_matter\"] + \"\\n\" +  cases_df[\"opinion_text\"]\n",
        "# cases_df = cases_df[[\"id\", \"text\"]]"
      ],
      "execution_count": null,
      "outputs": []
    },
    {
      "cell_type": "code",
      "metadata": {
        "colab": {
          "base_uri": "https://localhost:8080/"
        },
        "id": "shUkU2jBNEuA",
        "outputId": "7e8979ea-0ffd-440a-cded-3f0d2352042a"
      },
      "source": [
        "! head {data_fname}"
      ],
      "execution_count": null,
      "outputs": [
        {
          "output_type": "stream",
          "text": [
            "{\"id\":1879972,\"jurisdiction_id\":34,\"court_id\":8808,\"decision_date\":463622400000,\"head_matter\":\"Curtis HOWARD and Billy HOWARD v. STATE of Arkansas\\nCR 84-7\\n674-S.W.2d 936\\nSupreme Court of Arkansas\\nOpinion delivered September 10, 1984\\nJames M. Simpson, for appellant Curtis Howard.\\nCynthia L. Fearno, for appellant Billy Howard.\\nSteve Clark, Att\\u2019y Gen., by: Velda West Vanderbilt, Asst. Att\\u2019y Gen., for appellee.\",\"opinion_text\":\"George Rose Smith, Justice.\\nThe two appellants, Curtis and Billy Howard, brothers, were charged with and convicted of aggravated robbery and theft of property. Curtis, as an habitual offender, was sentenced to consecutive terms of life and 30 years. Billy was sentenced to concurrent terms of 10 and 5 years. In separate briefs they argue that owing to various gaps in the State\\u2019s proof it is insufficient to sustain the convictions. Viewing the evidence most favorably to the appellee, we find it amply sufficient. In narrating the events as the jury could have fairly believed them to have occurred we will refer to the two brothers by name, though some of the witnesses could only describe Curtis Howard as a short black man and Billy Howard as a tall black man.\\nThe robbery occurred early in the afternoon on February 4, 1983. The brothers first drove up to the Safeway store in Pine Bluff, in a black Mercury sedan owned by Curtis. After circling the store twice they parked, entered the store, came out, and drove away. They returned shortly and parked across the street. Curtis got out and went to the store, pulling on a ski mask. A witness who saw him before he was masked identified him later from a photograph.\\nIn the store Curtis, armed with a pistol, held up the manager and his assistant. Curtis was wearing a plaid shirt, blue jeans, and shoes with white rubber soles. He took about $3,500, mostly in packages of $20 bills. Curtis was seen as he ran from the store with a gun in one hand and a sack in the other. He ran across the street and got in the car, where Billy was waiting. A witness who saw them pursued them in his car. He saw a ski mask being thrown from the car. He followed the fleeing vehicle for two miles and wrote down the license number, which, after the two men had been apprehended, was found to be that of Curtis\\u2019s car.\\nAn off-duty officer heard a police-radio broadcast describing the crime and the car. The officer, reasoning that the robbers might have fled on Highway 79, jumped into his own unmarked car and drove south on that highway at a speed of 85m.p.h. or more. After 10.9 miles he overtook a car corresponding to the broadcast description, occupied by two men, and being driven at about 55 m.p.h. The officer radioed ahead for a road block and followed the car until it was halted at the road block.\\nThe two men in the car were Curtis and Billy Howard. Curtis had evidently changed clothes, for the plaid shirt and blue jeans were in the back seat, but he was still wearing shoes with white rubber soles. Curtis said he had $500 in his pocket but a search showed the amount to be only $54. Billy had $400 in his pocket in folded $20 bills, and another $79. The officers saw two $20 bills sticking out of the bottom of a car door. Curtis said that they had set out to buy a car and had put $ 1,000 in their car door because they were afraid they would be robbed in Pine Bluff. When the panel of the door was peeled back, the officers found $400 in $20 bills. There are other lesser incriminating circumstances we need not detail. Neither brother made a statement to the police or testified at the trial.\\nIn questioning the sufficiency of the State\\u2019s proof the appellants point out that the gun and most of the stolen money were never found and that there are minor discrepancies in the testimony for the prosecution. Granted, but there is nevertheless much substantial evidence of guilt. Curtis\\u2019s explanation that he and his brother had started out with cash to buy a car cannot be squared with his not knowing even approximately how much money was in his pocket or in the car door. A defendant\\u2019s false and improbable explanations of incriminating circumstances are admissible as proof of guilt. Surridge v. State, 279 Ark. 183, 650 S.W.2d 561 (1983). That the two brothers had $800 in bills of the same denomination as those taken is a further indication of guilt. The pistol and the rest of the money could easily have been disposed of had the two men stopped for a few seconds to hide those articles while their car was not being followed. The jury doubtless found it impossible to believe that Billy Howard could have been apprehended in the getaway car a few minutes after the robbery, some 15 miles away, with $400 in his pocket, and yet be innocent of any knowledge that his brother had just committed a planned robbery. There is an abundance of substantial evidence to support the jury\\u2019s conclusion that both defendants were guilty participants in the crimes.\\nAffirmed.\",\"citation_ids\":[1746958]}\n",
            "{\"id\":1360455,\"jurisdiction_id\":34,\"court_id\":8808,\"decision_date\":-1486857600000,\"head_matter\":\"Empire Rice Mill Company v. Stone.\\nOpinion delivered November 20, 1922.\\n1, Principal and agent \\u2014 dealings with general agent. \\u2014 Persons dealing with a general agent acting within the apparent scope of his authority without notice of limitations thereon are bound by specific instructions limiting the method of eonductng the business of the principal.\\n2. Sales \\u2014 unauthorized act of agent \\u2014 ratification.\\u2014Where defendant sold rice to plaintiff, through the latter\\u2019s general agent, the fact that defendant accepted from the agent part of the purchase price after plaintiff had repudiated the purchase did not amount to a ratification by defendant of the agent\\u2019s act in shipping the rice on his own account.\\nAppeal from Poinsett Circuit Court; J. M. Futrell, Judge;\\naffirmed.\\nCooley & Adams and Rogers, Rarber \\u25a0& Henry, fob appellant.\\nJ. J. Mardis, for appellee.\",\"opinion_text\":\"McCullotjch, C. J.\\nAppbll\\u00e1nt instituted this action-against appellee to recover'the sum of $1,950, due on account for the price of a.lot of rice sacks sold, and delivered by appellant to appellee.\\nAppellee answered, admitting Ms indebtedness to appellant in the snm named for the price of sacks purchased, but set forth a counterclaim in the sum of $2,204.57 \\u2014 $254.57 in excess of appellant\\u2019s claim for the balance of purchase price of three carloads of rice alleged to have been sold by appellee to appellant through the latter\\u2019s agent, L. P. Kunz.\\nAppellant answered the counterclaim, denying that he had purchased the rice from appellee.\\nThere was a trial of the issue before a jury, and a verdict in appellee\\u2019s favor for the balance set forth in the counterclaim in excess of appellant\\u2019s debt.\\nThe principal argument here for reversal is thg>t the evidence is not sufficient to sustain the verdict.\\nThe testimony adduced by appellee was sufficient to show that Kunz was authorized by appellant to -purchase rice in the locality where appellee was engaged in growing rice, and that he purchased, for appellant, three carloads' of 'rice from appellee at the price claimed by the latter. The contention of appellant is that Kunz was authorized merely to buy rice to be shipped to appellant at its place of business in New Orleans, with draft for the purchase price attached to the railroad bill of lading.\\nThere is sufficient evidence to show that appellant had frequently permitted Kunz to purchase rice by other methods; that is to say, by giving draft directly on appellant without attaching, the draft to the bill of lading. Moreover, the facts of the case fall within the rule that persons dealing in good faith with a general agent acting' within the apparent scope of his authority, are not, without notice, bound by specific instructions limiting the method of conducting the business, of the principal. Three States Lumber Co. v. Moore, 132 Ark. 371.\\nThere was a conflict in the testimony of appellee and Kunz as to whether the sale of the rice was made to Kunz for himself or fof appellant. Appellee testified that he sold the rice to appellant, Kunz acting as the latter\\u2019s agent, but Kunz testified that he did not buy the rice for appellant, but entered into an agreement with appellee that they would ship the rice together and have it milled and sold. He testified, in other words, that the agreement between him and appellee was that the rice should be shipped to New Orleans and \\u201ctoll-milled\\u201d and sold and the profits divided between them.\\nThe evidence was sufficient to justify a finding in favor of appellee, and the issue was properly submitted to the jury upon an instruction which permitted.appellee to recover only upon proof of the sale of the rice to appellant through its authorized agent.\\nIt is next contended that appellee ratified the act of Kunz in shipping the rice to his own account by accepting part payment from Kunz, after discovering that Kunz had handled the rice as his own. This contention is based upon a letter written by appellee to appellant after appellee discovered that Kunz had shipped the rice to be \\u201ctoll-milled\\u201d instead of delivering it to appellant in consummation of the sale, in which said letter appellee stated that he had received certain payments from Kunz in money and merchandise, and demanded payment from appellant for the balance.\\nIt appears from the testimony that, at the time of the sale of the rice by appellee, Kunz drew two drafts in favor of appellee on appellant, one for $3,600 and the other for $3,100. These two draft's were given for the price of the rice after deducting an amount which appellee owed for seed rice purchased from Kunz. Appellant paid the larger one of the drafts, but refused to pay the other one, and it is still in the hands of appellee. Subsequently, Kunz gave another draft to appellee on appellant for $1,000, and appellant refused to pay that draft also. Kunz paid appellee $900 in two drafts, one for $600 and one for $300.\\nWe do not think that appellee\\u2019s acceptance of a portion of the price from Kunz after appellant repudiated the purchase constituted a ratification of the act of Kunz in shipping the rice on his own account. Appellee was bound to accept any payments which, were offered, and this did not imply a. ratification of the act of Kunz in taking the rice for himself instead of delivering it to his principal on the latter\\u2019s own account. Appellant being bound for the price of the rice under the contract of sale made by appellee with Kunz, any and all payments made by Kunz inured to appellant\\u2019s benefit. Appellant was put in no worse attitude by partial payments having been accepted by appellee, and is in no attitude to claim that a mere acceptance of partial payments by appellee from Kunz would constitute ratification.\\nFinally, it is contended that the verdict is excessive as to amount, and that, in any view of the testimony, appellant is entitled to recover of appellee $645.43 instead of appellee being entitled to recover $254.57. Counsel for appellant are mistaken in the statement that there is undisputed evidence in accordance with their contention as to the condition of the accounts between the parties. The verdict of the jury was based upon the testimony of appellee, which was to the effect that, after allowing credits mentioned and deducting appellant\\u2019s account against him for the price of the rice sacks, there was a balance due him of $254.57.\\nJudgment affirmed. .\",\"citation_ids\":[1576796]}\n",
            "{\"id\":1360511,\"jurisdiction_id\":34,\"court_id\":8808,\"decision_date\":-1487462400000,\"head_matter\":\"Autrey v. State.\\nOpinion delivered November 13, 1922.\\n1. Criminal law \\u2014 instruction as to place of punishment of minor. \\u2014 In a prosecution of a 17-year-old boy for aiding in a jail delivery, where the prosecuting attorney stated that if convicted defendant would be sent to the Reform School, and the court overruled defendant\\u2019s objection thereto, the ruling was tantamount to an instruction to that effect, and was prejudicial.\\n2. Escape \\u2014 liability for aiding. \\u2014 A person guilty of furnishing implements for the escape of county prisoners is liable to be punished under Crawford & Moses\\u2019 Dig., \\u00a7 2578, and not under \\u00a7 2571.\\nAppeal from Sevier Circuit Court; James 8. Steel, Judge;\\nreversed.\\nSTATEMENT OE PACTS.\\nThe indictment ip- this case charges Loyd Autrey with conveying saws to Ossie Turner and other prisoners confined in the Sevier County jail for felonies, with the , intent to facilitate the escape of such prisoners.\\nThe evidence on the part of the State tended to show1 'that in July, 1922, Ossie Turner and others were confined in the Sevier County jail, charged with the commission of various felonies in said county. Loyd Autrey carried to them some hacksaw blades, which were used by the prisoners in sawing the bars in the window of their cell to enable them to escape from jail. After cutting out the bars from the windows of their cells with the saws, the prisoners escaped through the openings so made.\\nAccording to the evidence for the defendant, he was only seventeen years of age, and did not carry any saws to the prisoners.\\nThe jury returned a verdict of guilty, and from the judgment of conviction the defendant has duly prosecuted an appeal to this-court.\\nG. G. Billings, for appellant.\\nJ. 8. Utley, Attorney General, Elbert Godivin and W. T. Hcwnmoek, Assistants, for appellee.\",\"opinion_text\":\"Hart, J.\\n(after stating the facts). It appears from the record that the prosecuting attorney in his closing argument to the jury used the following language:\\n\\u201cOf course, you understand, Loyd Autrey will not go to the penitentiary. If you convict him you will have to, in your verdict, fix his punishment in the penitentiary, but under the law it becomes the duty of the court to send him to the State Reform School or Boys\\u2019 Industrial School, and I think it is a most fortunate thing for Loyd that he might have a few months in the reform school. If you send him for seven years, the very minute those in charge find he is not going to commit these charges again he will be sent back to his home. \\u2019 \\u2019\\nThe attorney for the defendant objected to the argument, but the court overruled his objections. Counsel for the defendant then saved his exceptions to the ruling of the court. Thus it appears from the record that the court sanctioned, as a declaration of law, the remarks of the prosecuting attorney, and the ruling was tantamount to an instruction to that effect by the court.\\nThe remarks of the prosecuting attorney were in conflict with the provisions of the statute on the subject, and it was prejudicial error to tell the jury that it would be the duty of the court to send the defendant to the reform school if he was convicted. Bird v. State, 154 Ark. 297, and cases cited.\\nAnother assignment of error is that the court erred in instructing the jury that, in case of conviction, the punishment should be fixed at a term of not less than two or more than seven years in the State Penitentiary.\\nTn giving this instruction the court evidently had in mind that the defendant was being prosecuted under sec. 2571 of Crawford & Moses\\u2019 Digest. This section deals with the rescue of a felon by force or menaces of bodily harm, or by other unlawful means.\\nA reference to the statement of facts shows that the defendant could not be convicted under this section of the statute. Under the facts as detailed by the State he could only be convicted for a violation of sec. 2578 of Crawford & Moses\\u2019 Digest. This section defines the offense of carrying into jail any instrument or other thing useful to aid a felon in his escape, with the intent to facilitate the escape of such felon. This error is conceded by the Attorney General, but he argues that it can be cured by the reduction of the punishment in accordance with the provisions of sec. 2578. We need not decide this, however, because the judgment must be reversed for the error in telling the jury that it would be the duty of the court to send the defendant to the reform school in case of his conviction.\\nIt follows that the judgment will be reversed and the cause remanded for a new trial.\",\"citation_ids\":[1361256]}\n",
            "{\"id\":1360553,\"jurisdiction_id\":34,\"court_id\":8808,\"decision_date\":-1491696000000,\"head_matter\":\"Shaw v. State.\\nOpinion delivered September 25, 1922.\\nFalse pretenses \\u2014 sufficiency of evidence. \\u2014 Proof, in a prosecution for obtaining personal property under false pretenses, that the prosecuting witness when told by defendant that he was \\u201cinto it and had better settle up\\u201d a certain claim, yielded his property knowing that defendant occasionally made arrests, and fearing that he would be arrested if he failed to settle, was . not sufficient to establish the charge where defendant made no threats of arrest or accusations, and did not claim that he was an officer.\\nAppeal from Hot Spring. Circuit Court; W. H. 'Evans, Judge;\\nreversed.\\nM. S. Cobh, for appellant.\\nJ. 8. Utley, Attorney General, Elbert Godwin and W. T. Hammock, Assistants, for appellee.\",\"opinion_text\":\"Hart, J.\\nGid Shaw prosecuted this appeal to reverse a judgment of conviction against him for the crime of obtaining goods and money under false pretenses.\\nTo sustain the conviction the State relies upon the principles decided in Lawson v. State, 120 Ark. 337. There the defendant was an officer, and not only had the power but it was his duty to arrest the prosecuting witness. The defendant stated to him that he would not arrest him if he would comply with his terms. In other words, there was an implied threat that the defendant, as an officer, would arrest the prosecuting witness if he did not comply with his terms. By this means the defendant obtained from the prosecuting witness the sum of $300.\\nHere the facts relied upon by the State for a conviction fall short of bringing the case within the rule announced above. It appears from the record that John L. Burke sold a mare to one McKay for $25 and held a note for the purchase price, retaining title in the mare until she was paid for. McKay left the mare with Lewis Elliott, the prosecuting witness. Elliott traded the mare to A. B. Roehte for another one. Some time afterwards the defendant, Shaw, and Roehte went to Elliott and demanded payment bf the note which had been given by McKay for the purchase price of the mare. The defendant, Shaw, told Elliott that he was up against it and had better settle the matter. Shaw did not say that he was an officer, or that Elliott had violated the law. Elliott knew that Shaw sometimes arrested men, and from this, and his acts on the occasion in question thought that Shaw was an officer. Shaw gave Elliott until the next morning to think the matter over. On the next morning Shaw and Roehte went to Elliott\\u2019s house, and the latter gave them certain personal property in settlement of the matter. After Elliott had delivered to them the personal property, the defendant wrote a receipt, which was signed by Roehte, and then gave the receipt to Elliott. They told the latter that the receipt was to clear him from making any further payment of the note given for the purchase price of the mare.\\nOn cross-examination, the witness testified that Shaw did not teli him he was an officer, nor did Shaw charge him with violating the law. Shaw only said to Elliott that he was \\u201c.into it and had better settle the matter up.\\u201d\\nThe defendant himself testified that he was not an officer, and that he only went with Rochte to help collect the note. His testimony was corroborated by that of John L. 'Burke.\\nThe testimony does not show any causal connection between the alleged false pretenses and the loss to the prosecuting witness. Shaw did not represent himself to the prosecuting witness as an officer clothed with the power and duty to arrest him for violating the law. He did not even charge the prosecuting witness with a violation of the law. He only told him that he had better settle the matter up. This referred to the fact that the original owner of the mare had a note for the purchase price, which was unpaid, and in which the title to the mare was retained until the purchase price was paid.\\nThe defendant was not induced to give up his property by any implied threat on the part of the defendant that he had committed a crime and would be prosecuted unless he settled the matter.\\nThe facts proved do not constitute the criminal offense of obtaining goods and money by false pretenses under the statute. Roberts v. State, 85 Ark. 435.\\nIt follows that the evidence fails to support the verdict, and inasmuch as the facts have been fully developed, the judgment will be reversed and -the cause remanded, with directions to dismiss the indictment.\",\"citation_ids\":[1523298,1561120]}\n",
            "{\"id\":1360493,\"jurisdiction_id\":34,\"court_id\":8808,\"decision_date\":-1488672000000,\"head_matter\":\"Mitchell v. State.\\nOpinion delivered October 30, 1922.\\nI Indictment and information \\u2014 statutory offense. \\u2014 An indictment under a statute ought to charge with certainty that the defendant committed the acts under the circumstances and with the intent mentioned in the statute.\\n2. Prostitution \\u2014 indictment.\\u2014An indictment under the \\u201cpandering statute\\u201d (Crawford & Moses\\u2019 Dig., \\u00a7 2632), for procuring a female to leave the State for purposes of prostitution, held bad in leaving out the qualifying words of the statute \\u201cby promises, threats,\\u201d etc., before the words \\u201cinveigle, entice,\\u201d etc.\\n3. Criminal law \\u2014 instruction.\\u2014It was error to instruct the jury, on trial of a woman, that uuder Crawford & Moses\\u2019 Dig., \\u00a7 9316. females over 18 years old convicted of felony are sent to the State farm for Women, and that courts and juries are prohibited from fixing any punishment, etc., as such statement may have influenced the jury to return a verdict of guilty.\\n4. Prostitution \\u2014 sufficiency of evidence. \\u2014 Evidence held to sustain a conviction of pandering.\\nAppeal from Benton Circuit Court; W. A. Dickson, Judge;\\nreversed.\\nSullins \\u00e9 Ivie, for appellant.\\nJ. S. TJtley, Attorney General, Elbert Godwin and W. T. Hammock, Assistants, for appellee.\",\"opinion_text\":\"Hart, J.\\nPearl Mitchell' prosecutes this appeal to reverse a judgment of -conviction against her for a violation of the provisions of \\u00a7 2703 of Crawford & Moses\\u2019 Digest, known as the \\u201cpandering statute.\\u201d\\nThe first assignment of error is that the court erred in not -sustaining -a -demurrer -to- the indictment. The charging part of the indictment is -as follows: \\u201cThe said Pearl Mitchell, in the said county of Benton, and State of Arkansas, on the 4th day of May, 1922, feloniously did inveigle, entice, encourage, and procure one Bertha Potts, a female person, to leave the State of Arkansas and go into the -State of Missouri for the purpose of prostitution, against the peace and dignity of the State of Arkansas.\\u201d\\nWe have uniformly held that an indictment under a statute ought to -charge with -certainty that the defendant committed the acts under the -circumstances and with the intent mentioned in the statute.\\nIn construing that clause -of the statute under which the indictment was found in Holland v. State, 111 Ark. 214, the court said: \\u201cUnder a proper interpretation of the statute, the clause -making it an offense to \\u2018inveigle, entice, persuade, encourage or procure any female person to come into this State or to leave this State,\\u2019 for the purpose of prostitution, or for the purpose of sexual intercourse, where the marriage relation does not subsist, is limited by the preceding phrase, \\u2018any person who by promises, threats, violence, by any- device or scheme, by fraud or artifice, or by duress of person or goods, or by use of any position of confidence or authority, or having legal charge.\\u2019 \\u201d\\nIn that case the indictment used the qualifying words, \\u201cby promises, threats\\u201d etc, before the words, \\u201cinveigle, entice,\\u201d etc. Hence the indictment was held to be valid.\\nThe indictment in the instqnt case has omitted the qualifying words, and for that reason is fatally defective, as will be seen from the quotation above. If the words,' \\u201cinveigle, entice,\\u201d etc., are limited or qualified by the preceding phrase, \\u201cany person who by promises, threats,\\u201d etc., it is evident that these latter words are descriptive of the offense and must be set out in the charging part of the indictment, although the particular words constituting the promises, threats, etc., need not be set out.\\nBy leaving out the qualifying words in the indictment, an essential element of the crime as defined by the statute was omitted, according to the holding in the case cited above, and it follows that the indictment is not valid. Hence the 'circuit court should have sustained the demurrer to it.\\nIt is next insisted that the court erred in telling the jury \\u201cthat all females over eighteen years convicted of felonies shall be sent to the State Farm for Women, and all courts and juries are prohibited under this section from fixing any punishment,\\u201d etc. The section referred to is 9316 of Crawford & Moses\\u2019 Digest, which provides that:\\n\\u201cWomen over eighteen years of age belonging to any of the following classes may be committed by any court of criminal jurisdiction to said institution: first, persons convicted of or who plead guilty to the commission of felonies,\\u201d etc.\\nIn construing a similar provision of the statute with regard to committing to the reform school boys convicted of felonies, the court held that it was erroneous to tell the jury that the defendant would be sent to the reform school and not to the penitentiary. The reason given was that a statement to that effect by the court might have influenced the jury in returning a verdict of guilty. Pittman v. State, 84 Ark. 292, and Bird v. State, 154 Ark. 297. The Attorney General has confessed error with respect to the giving of this instruction, and it is well taken.\\nFinally, it is insisted that the evidence is not sufficient to support the verdict. In view of another trial we will not set out and discuss the evidence in detail, but deem it sufficient to say that the evidence for the State is sufficient to support a verdict of guilty. It is true that the prosecuting witness was an unwilling one, but her testimony, taken in connection with a letter written by the defendant while in jail to one of her friends, which is in the nature of a confession, was sufficient to warrant the verdict.\\nFor the errors indicated, the judgment will he reversed and the cause remanded for a new trial.\",\"citation_ids\":[1361256,1524368,1540409]}\n",
            "{\"id\":1360514,\"jurisdiction_id\":34,\"court_id\":8808,\"decision_date\":-1486857600000,\"head_matter\":\"Sercer v. Hamilton.\\nOpinion delivered November 20, 1922.\\nAppeal and error \\u2014 bringing testimony into record. \\u2014 Testimony of witnesses heard orally before the chancery court and taken down in shorthand and ordered transcribed and filed as depositions in the case was improperly incorporated in the transcript, where it was not filed with the clerk during term time nor brought into the record by bill of exceptions or by being incorporated in the decree.\\nAppeal from Bradley Chancery Court; E. G. Hammock, Chancellor;\\naffirmed.\\nJ. C. Clary, D. A. Bradham and Wilson & Martin, for appellant.\\nWilliamson & Williamson, for appellees.\",\"opinion_text\":\"Humphreys, J.\\nAppellees instituted suit in the circuit court of Bradley County against appellant to recover $10,000 on two promissory notes in the sum of $5,000 each, executed by appellant to them in part payment for timber on a certain 520-acre tract of land in said county, and caused an attachment to be issued and levied upon a lot of staves belonging to appellant.\\nAppellant filed an answer seeking to cancel the notes upon the ground that he was induced to execute them through fraud and misrepresentation of appellees as to the character and location of the timber sold him. The right to attach 'the staves was controverted, and damages sought on account of the levy of the writ. Upon motion the cause was transferred to the chancery court of said county, where it was heard upon the pleadings, documentary evidence, and testimony of witnesses taken ore tenus at the bar of the court which resulted in a decree denying judgment on the notes because the suit was prematurely brought; denying the cancellation thereof as being fraudulently procured; dissolving the attachment and refusing damages on account of the levy thereof.\\nFrom that part of the decree refusing to cancel the notes and award appellant damages an appeal has been prosecuted to this court.\\nAppellees have moved to affirm the decree because the oral and documentary testimony taken in open court was not preserved and incorporated in the record in the manner provided by law. The decree recites that the testimony of certain witnesses, naming them, was \\u201ctaken ore tenus at the bar of the court, taken in shorthand and ordered transcribed and filed as depositions in the ease.\\u201d What purports to be the testimony of these witnesses is incorporated in the transcript, but they were not filed with the clerk during the term of the court the decree was rendered. It does not appear that the documentary evidence or testimony of said witnesses was brought into the record by a bill of exceptions, nor written out and embraced in the decree. It was furnished to the' clerk by a stenographer after the adjournment of court, as shown by a response to a writ of certiorari, and incorporated in the transcript by the clerk. It does not appear, however, that the court made any order before the evidence was taken for the court stenographer, or one specially appointed by him for the purpose, to take the testimony in shorthand, transcribe, and file it during the term at which the case was tried. The testimony was not brought into the record in the manner required by law (see McGraw v. Berry, 152 Ark. 452), and no error appearing on the face of the record, there is nothing before us upon which to predicate a reversal of the decree.\\nDecree affirmed.\",\"citation_ids\":[1364081]}\n",
            "{\"id\":1360498,\"jurisdiction_id\":34,\"court_id\":8808,\"decision_date\":-1491696000000,\"head_matter\":\"Miller v. State.\\nOpinion delivered September 25, 1922.\\n,1. Embezzlement \\u2014 failure of officer to pay over funds. \\u2014 Under Crawford & Moses\\u2019 Dig., \\u00a7 2832, it is an offense for a city collector to misappropriate funds intrusted to him by law, or to allow them to be misappropriated; his failure to pay over funds to his successor being of itself a wrongful misappropriation thereof.\\n2. Embezzlement \\u2014 misappropriation of funds. \\u2014 Evidence that a city collector, who was also custodian of funds of various improvement districts, mingled the funds of the city and of the. districts, and had insufficient funds on hand, warranted a conviction for misappropriating both funds, as the city and improvement districts would be entitled pro rata to the funds on hand.\\n3. Embezzlement \\u2014 inference from commingling funds. \\u2014 Where a city collector mixed funds of the city and of certain improvement districts so that it could not be ascertained whether funds on hand belonged to one or the other, the jury might infer that they were so mixed with intent to deprive the owner thereof.\\nAppeal from Pulaski Circuit Court, First Division; John W. Wade, Judge;\\naffirmed.\\n1Mehaffy, Bonham & Mehaffy, for appellant.\\nJ. 8. Utley, Attorney General, Elbert Godwin and W. T. Hammock, Assistants, for appellee.\",\"opinion_text\":\"Hart, J.\\nTbe indictment in this case charges R. W. Miller, as city collector of the city of North Little Rock, with embezzling the public funds of that city, in violation of the provisions of sec. 2832 of Crawford & Moses \\u2019 Digest.\\nFrom a judgment and sentence of conviction pronounced upon a verdict of guilty, the 'defendant lias duly prosecuted an appeal to this court.\\nIt is earnestly insisted by counsel for the defendant that the evidence fails to support the verdict, but in this contention we cannot agree with counsel, for the reasons 'which we shall now state.\\nDuring the year 1920, and up until April, 1921, the defendant, R. W. Miller, was city clerk and ex-officio collector of the city of North Little Rock, in Pulaski County, Arkansas. When the defendant turned the office over to his successor, he had on hand city warrants of the face value of $1,834.68, cash in the sum of $1,010.22, and checks which, added to the above, amount to something over $6,000. An audit of his books showed that at the time he resigned his office he should have had on hand city funds to the amount of $5,531.63 and funds belonging to the various city improvement districts in the sum of $7,249.74. Other evidence tended to establish the correctness of the audit.\\nThe defendant was a witness for himself. He could not account for his shortage of funds and did not claim to have on hand any funds except the city warrants, cash and checks above set forth. The defendant stated that he did not know how much of the money he had on (hand belonged to the city, and how much belonged to the different improvement districts. He stated that the way he did was to check up the improvement districts and deposit money for them, and what he had left he considered as belonging to the city\\nUnder this state of the record, counsel for the defendant contends that it was a matter of conjecture merely whether the defendant misappropriated the city \\u2018funds or the improvement districts \\u2019 funds, and that therefore the evidence is not legally sufficient to support the charge of embezzling the. city funds.\\nUnder the statute it was an offense for the defendant to misappropriate the funds intrusted by law to his care, or to allow them to be misappropriated. In other words, his wilful failure to pay over the public funds to his successor was of itself a wrongful misappropriation of the public funds in his hands. Davis v. State, 80 Ark. 310. The undisputed evidence shows that there was a shortage in his accounts with the city and that this shortage resulted from a misappropriation, either of the city funds, or of the improvement district funds, or both. In the very nature of things the city warrants belonged to the city, but the cash on hand and the checks might have belonged to either the city or to the improvement districts.\\nThe theory of the defendant is that the cash and checks on hand, when added to the face value of the city warrants, amounted to more than the sum he was accused of embezzling from the city, and that, because the record does not show to which fund the cash and checks should be applied, there is a failure of evidence to support a charge of embezzling the city funds.\\nThe fallacy of this argument is that the defendant had the actual custody of both the city funds and the improvement district funds, and it was a violation of law to embezzle the funds of either. The defendant was short in his accounts as the custodian of these funds, and, from the evidence in the record, must have commingled the city funds and the improvement district funds. The defendant wrongfully mingled the funds, and it is not possible from the evidence to trace the city funds or the improvement districts\\u2019 funds to any particular part of the cash and checks on hand turned over by the defendant to his successor in office.\\nUnder this state of the record the city and the improvement districts would each be entitled to a pro rata part of the funds on hand. It results that the evidence is sufficient to convict the defendant of embezzling the city funds. The defendant mixed the city funds and the improvement district funds so that it could not 'be ascertained Whether the funds on hand belonged to the one or the other. Under the circumstances, the jury might have inferred that the funds were so mixed with the intent to deprive the owner thereof. Otherwise a public officer would, be able to escape the penalties of the statute by wrongfully commingling the various funds intrusted to his custody. Such is not the law, and it follows that the evidence is legally sufficient to support the verdict.\\nIt is also contended by counsel that the court erred in failing to.instruct the jury that, if they were unable to determine whether the funds on hand were the city\\u2019s funds or the funds of the various improvement districts, they should acquit the defendant.\\nThis phase of the case was covered by the instructions given by the court. The jury was specifically told that the funds of the improvement districts were not the funds of the city, and in another instruction the jury was told that the ownership of the property taken was material, and that it must find beyond a reasonable doubt that the defendant was guilty of taking the property of the city of North Little Bock before it could convict him.\\n\\u2022We find no reversible error in the record, and the judgment must be affirmed.\",\"citation_ids\":[1491178]}\n",
            "{\"id\":1360522,\"jurisdiction_id\":34,\"court_id\":8808,\"decision_date\":-1488672000000,\"head_matter\":\"Kittrell v. Road Improvement District No. 16.\\nOpinion delivered October 30, 1922.\\n1. Courts \\u2014 affidavit for appeal from county court. \\u2014 Under Crawford & Moses\\u2019 Dig., \\u00a7 2287, an attorney or agent of an aggrieved party may make affidavit on his behalf for appeal from the county to the circuit court without assigning reasons for doing so, \\u00a7 1219, Id., having no application.\\n2. Highways \\u2014 authority to change route. \\u2014 Act No. 188 of Sp. Sess. of 1920, unpublished, confers no authority on property owners of the road district to initiate before the county court, in the absence of action by the commissioners, proceedings for change in route of a highway therein specified; \\u00a7 6 thereof authorizing such change only upon the petition and request of the commissioners.\\nAppeal from Woodruff Circuit Court, Northern District; J. M. Jackson, Judge;\\naffirmed.\\nB. M. Hutchins, Mchaffy, Donham & Mahaffy, for appellants.\\n1. The appeal from the county court should have been dismissed for want of proper affidavit for appeal, the same having been made by the attorney for the road improvement district, and not in conformity with the statutes, C. & M. Digest, \\u00a7 2287, \\u00a7 1219. The two sections should be read together as the law governing appeals.\\n2. The demurrer and motion to dismiss the petition should have been overruled. The petition set out facts sufficient to show that there was a necessity for a change in the route. The county court had jurisdiction of the \\u25a0cause, and authority to make the change, under the act creating the district, as well as under the Constitution. Act 183, Approved Feb. 18, 1920, \\u00a7 3.\\nRoy D. Campbell, Harry Wood and Coleman, Robinson & House, for appellee.\\n1. Sections 2287 and 1219 of Crawford & Moses\\u2019 Digest are not to be construed together. The last-named section has nothing to do with appeals and was never intended to apply to appeals from the county court. It is a general statute, whereas \\u00a7 2287 is special in that it applies only to appeals from county courts; therefore, in the absence of irreconcilable conflict, there is here no question of repeal by implication. 50 Ark. 132; 51 Id. 559; 53 Id. 417; 54 Id '. 237; 53 Id. 339; 60 Id. 59.\\n2. The motion to dismiss the petition was properly sustained: (1) When the act is read as a whole, giving special attention to the beginning and conclusion of section 3 and the conclusion of section 6, it is evident that if the Legislature contemplated any changes in the proposed plans the commissioners should come to the county court with a request to change the route as laid out by the Legislature. (2) Nothing in the act authorizes the commissioners to extend the road or change the route so as to run the road outside of the boundaries of the district. The change proposed in the petition would violate all unity of proportion to the property benefited as laid out in the act. 133 Ark. 491.\",\"opinion_text\":\"Humphreys, J.\\nAppellants, freeholders and taxpayers in Road District No. 16, in Woodruff County, created by act 183 of the Acts of the General Assembly of 1920, filed suit in the circuit court of said county, northern district, to change the route of the road specified in the act, so that it will run from the intersection of Main and Third Streets, in the town of Augusta, in an easterly direction, along the present rock public highway, to the southwest corner of section 28, township 8 north, range 3 west; thence north along the section line to the northwest corner of section 4, township 8 north, range 3 west; thence east along the section line to the northwest corner of section 1, township 8 north, range 3 west, to the Jackson County line. It was alleged in the complaint that section 3 of the act creating the district provided that, if it became necessary to lay out a new route, the same should be laid out'by the county court of the Northern District of Woodruff County; and that it was impractical to construct or maintain a road along the route designated in the act bec\\u00e1use one and one-half miles of the distance was subject to overflow from White River and would be submerged for a large part of the time; that the cost of construction and maintenance of the road on the original route would be prohibitive, confiscatory, and of no benefit to the pro.perty in the district.\\nAppellees protested against the proposed change in route, which was heard and decided adversely to their contention by the county court. An appeal from that judgment was taken to the circuit court. The affidavit for appeal was made by the attorney for the district, without assigning any reason why it was made by him instead of by the party aggrieved.\\nWhen the case was lodged in the circuit court; appellants moved to dismiss the appeal and appellees filed a demurrer and motion to dismiss the petition for a change of route. The motion to dismiss the appeal was overruled; the motion to dismiss the petition was sustained, and a final judgment was rendered, setting aside the judgment of the county court changing the route, from which is this appeal.\\nAppellants\\u2019.first insistence for reversal is that the court erred in overruling their motion to dismiss the appeal. They contend that sections 1219 and 2287 of Crawford & Moses\\u2019 Digest govern appeals from the county court and, when-read together, require an attorney mak ing an affidavit for appeal to state that the aggrieved party., whom he represents, is absent from the county, or is mentally incapable of taking an oath, or is physically unable to attend before the court or officer for the purpose of making the affidavit. Section 1219 has no relation to appeals from county courts. Section 2287 governs and allows the attorney or agent of an aggrieved party to make affidavit for appeal in behalf of his client, without assigning any reasons for doing so. This construction was given a similar statute in the case of Perrin v. Liner, 129 Ark. 242.\\nAppellants\\u2019 second and last insistence for reversal is that the court erred in sustaining the demurrer and motion to dismiss the petition to change the route of the road. They contend their petition set out the necessity for a change ixi the route, and that, under section 3 of the act creating the district, the county court was authorized to determine the necessity for and to order the change. The section referred to does say that, if it becomes necessary to lay out and designate a new route, same shall be laid oxxt by the county court. Construing this section without reference to section 6 of the act, it might well be said that the intent of the Legislature was for the county court to make an independent investigation upon which to base an order changing the route, or to make the investigation for the necessity of the change at the request of any property owner in the district, When section 3, however, is read in connection with section 6 of the act, it is apparent that the Legislature intended for the county court to act, in making any change in the route, upon the report and request of the commissioners. Section 6, in part, is as follows: \\u201cIf said commissioners deem it to the best interests of the district to vary the line of the road as hereinbefore laid out, they may report that fact to the county court of the northern district of Woodruff County, and in that event, if the county court approves of the report, it may make an.order changing the route of the road, and if necessary it shall, in that event, lay out the new road in the manner provided in act No. 422 of the Acts of the -General Assembly of the State of Arkansas for the year 1911.\\u201d We think, in order to arrive at the true intent of the Legislature, the two sections should be construed, one in the light of the other. When thus interpreted, the sections provide an exclusive method of procedure for changing the original route of the road, that is to say, for the county court to change the route upon the petition and request of the commissioners, if the necessity for the change existed. Authority was not conferred by the act upon the property owners or th\\u00e9 taxpayers in the district to initiate such a proceeding.\\nThe motion to dismiss the petition was properly sustained, and the judgment is therefore affirmed.\",\"citation_ids\":[1575110,1580468,8720809]}\n",
            "{\"id\":1360515,\"jurisdiction_id\":34,\"court_id\":8808,\"decision_date\":-1491091200000,\"head_matter\":\"Green v. State.\\nOpinion delivered October 2, 1922.\\n1. Criminal law \\u2014 jurisdiction on appeal. \\u2014 The appellate court acquires such jurisdiction only as was possessed by the court from which the appeal was prosecuted.\\n2. Criminal law \\u2014 municipal court \\u2014 change of venue. \\u2014 Acts 1917, p. 1129, \\u00a7 9, as amended by Acts 1921, p. 435, \\u00a7 2, giving defendant in criminal cases in the municipal court right to change of venue and forbidding the circuit court to try one convicted of a misdemeanor in the municipal court where a change of venue has been denied by the municipal judge, was not invalid as interfering with the superintending control and appellate jurisdiction of the circuit court.\\n3. Criminal law \\u2014 municipal court \\u2014 right of appeal. \\u2014 Acts 1917, p. 1129, \\u00a7 9, as amended by Acts 1921, p. 435, \\u00a7 2, does not prevent a defendant from appealing a void judgment of conviction against him in the municipal court, rendered after the court\\u2019s jurisdiction was ousted, by his application for a change of venue.\\n4. -Criminal law \\u2014 review of void judgment. \\u2014 While a void judg- \\u2022 ment of the municipal court may be attacked by certiorari in the circuit court, such remedy is cumulative of the right of appeal.\\n5. Criminal law \\u2014 municipal court \\u2014 effect of petition for change of venue. \\u2014 Under Acts 1917, p. 1129, \\u00a7 9, as amended by Acts 1921, p. 435, \\u00a7 2, giving defendant in criminal cases in the municipal court a right to a change of venue, and providing for transfer of the case to a justice of the peace on motion therefor, where a petition was filed in the municipal court for a change of venue, that court should have transferred the case, and where it failed to make the transfer, and convicted defendant, the circuit court on appeal should quash the judgment of conviction and remand the cause with directions to transfer it to a justice of the peace.\\nAppeal from Jfefferson Circuit Court; W. B. Sorrels, Judge;\\nreversed.\\nRowell \\u00e9 Alexander, T. G. Parham, J. M. Shaw, for appellant.\\n\\u2022 J. S. Utley, Attorney General; Elbert Godwin and W. T. Hammock, Assistants, for appellee.\",\"opinion_text\":\"McCulloch, O. J.\\nAppellant is charged with the statutory offense of transporting intoxicating liquor, and was brought to trial in the municipal court of the city of Pine Bluff on information filed by the prosecuting attorney of the circuit.\\nBefore the trial of the cause in the municipal court, appellant filed his duly verified and supported petition for change of venue on account of alleged prejudice on the part of the municipal judge, but that court overruled \\u25a0the petition and compelled appellant to proceed with the trial, which resulted in his conviction. He prosecuted an appeal to the circuit court, and there filed a plea to the jurisdiction of the court on the ground that jurisdiction was lost upon the filing of the petition for change of venue. The plea was based upon a provision of the amended statute under which the municipal court was created, and which reads as follows:\\n\\u201cProvided, the defendant, in criminal cases pending for trial or examination before the municipal court as herein provided, shall have a right to change the venue in any case as is now provided by law in justice of the pease courts; and provided, further, that the circuit court shall not have jurisdiction to try any defendant convicted of a misdemeanor in said court where a change of venue has been denied by the judge of the municipal court; and provided, further, that the justice of the peace to whom such case is transferred shall proceed to try said case as is now provided by the laws of the State of Arkansas in justice courts, and shall be entitled to like fees as are now allowed by the law for justice of the peace under the general laws of the State of Arkansas.\\u201d Acts 1917, vol. 1, p. 1125; Acts 1921, p. 433.\\nThe circuit court overruled the plea and proceeded with the trial of appellant on the merits of the charge, which resulted in his conviction, and an appeal has been duly prosecuted to this court.\\nIt was the obvious design of the framers, of the statute to give the right of change of venue in criminal cases from the municipal court to a justice of the peace, and to effectually enforce that right by terminating the jurisdiction of the municipal court in misdemeanor cases upon the filing of a petition for change of venue in accordance with law. The statute provides that \\u201cthe circuit court shall not have jurisdiction to try any defendant convicted of a misdemeanor in said court where a change of venue has been denied by the judge of the the municipal court,\\u201d and this provision is founded upon the theory that, the municipal court being deprived of jurisdiction, the circuit court could acquire none on appeal.\\nIt is in conformity with the rule of law that a court in the exercise of appellate jurisdiction acquires only such jurisdiction as was possessed by the court from which the appeal was prosecuted. Little Rock, M. R. & T. Ry. Co., 44 Ark. 100.\\nIt is contended by the Attorney General that the statute is unconstitutional and void because it is an attempt to deprive the circuit court of its rightful jurisdiction in criminal cases, but we fail to see wherein the statute deprives the circuit court of any of its original or appellate jurisdiction conferred by the Constitution. The statute has no reference to the exercise of original jurisdiction by the circuit court, but applies only to the exercise of its appellate jurisdiction, and, as we have already seen, the. exercise of that jurisdiction depends upon the rightful jurisdiction of the court from which the appeal is prosecuted.\\nThe statute does not cut off the appellate or supervisory jurisdiction of the circuit court, even in a cas\\u00e9 where a petition for change of venue has been filed in the municipal court, bnt only deprives the circuit court of the right to try the case upon its merits. This leaves the superintending control and appellate jurisdiction of the circuit court in full play, for, notwithstanding the loss of jurisdiction by the municipal court, the circuit court has the power to supervise and review a void judgment rendered by that court.\\nAppellant prosecuted an appeal from the void judgment of the municipal court, and he had a right to do so, for there is nothing in the statute which attempts to cut off the remedy by appeal from a void judgment.\\nIt is also contended by the Attorney General that appellant has pursued the wrong remedy in appealing to the circuit court from the judgment of the municipal court, instead of resorting to a remedy by writ of certiorari. It is true that a judgment void on its face may be attacked by certiorari in the court exercising* superintending control, but that remedy is not exclusive. It is only 'cumulative of the right of appeal which is conferred by the Constitution.\\nUnder the statute in question the filing* of the petition for a change of venue in proper form transferred the jurisdiction from the municipal court to a justice of the peace, to whom the court should have transferred the papers in the case, and the circuit court should have quashed the judgment of the municipal court and remanded the cause to that court with directions to transfer It to a justice of the peace, in accordance with the prayer of the petition for change of venue.\\nThe judgment of the circuit court is therefore reversed, and the cause is remanded, with directions to enter the judgment indicated above.\",\"citation_ids\":[1893365]}\n",
            "{\"id\":1360474,\"jurisdiction_id\":34,\"court_id\":8808,\"decision_date\":-1490486400000,\"head_matter\":\"Wright v. State.\\nOpinion delivered October 9, 1922.\\n1. Indictment and information \\u2014 duplicity.\\u2014An indictment for setting up and keeping in possession a certain still and stillworm to be used and operated as a distillery without registering it, held to charge the single offense of setting up a still for the purpose of producing distilled spirits.\\n2. Indictment and information \\u2014 surplusage.\\u2014Where an indictment under Acts 1921, No. 324, \\u00a7 2, alleging the setting up of a still and stillworm for the purpose of producing distilled spirits, alleged further that defendant kept a still in his possession without registering it, the latter allegation, while unnecessary, did not detract from the essential allegation.\\n3. Intoxicating liquors \\u2014 evidence,\\u2014In a prosecution under Acts 1921, No. 324, p. 373, \\u00a7 2, for setting up a still and stillworm for the purpose of producing distilled spirits, evidence held to sustain a conviction.\\n4. Intoxicating liquors \\u2014 setting up still \\u2014 evidence.\\u2014In a prosecution under Acts 1921, No. 324, p. 373, \\u00a7 2, for setting up a still and stillworm for the purpose of producing distilled spirits, evidence that defendant was actually operating a still and that he admitted that he was engaged in making whiskey, held sufficient to sustain a conviction.\\nAppeal from Miller Circuit Court; George B. Haynie, Judge;\\naffirmed.\\nJ. M. Garter and B. E. Garter, for appellant.\\nJ. S. Utley, Attorney General, Elbert Godwin and Won. T. Haononock, Assistants, for appellee.\",\"opinion_text\":\"Smith, J.\\nAppellant was convicted under the following indictment:\\n\\u201cThe grand jury of Miller County, in the name and by the authority of the State of Arkansas, accuse Peyton Wrig\\u2019ht of the crime of setting up a distillery, committed as follows, to-wit: The said Peyton Wright, in the county and State aforesaid, on the 5th day of June, A. D. 1922, did unlawfully, wilfully and feloniously set up and keep in possession a certain still and stillworm to be used and operated as a distillery for the purpose of making and manufacturing alcoholic, vinous, malt,, spirituous and fermented liquor, without registering same with the proper United States officer as required by law.\\u201d\\nThere was a demurrer to the indictment on the ground that it charged two offenses, which was overruled; and a motion was filed to require the State to elect, which was also overruled.\\nThe indictment in the case was based on \\u00a7 2 of act 324 of the Acts of 1921 (General Acts 1921, page 372), and appellant contends the demurrer and the motion to require the State to elect should be sustained on the authority of the case of McIntire v. State, 151 Ark. 458, in which that section was construed. We there said that \\u00a7 2 created two offenses, the first that of keeping in one\\u2019s possession a stillworm or still without registering it with the proper officer of the United States; and the second that of setting up, to be used as a distillery, any stillworm or substitute therefor.\\nThe first paragraph of this \\u00a7 2 is directed against the mere keeping of a stillworm or still in one\\u2019s possession without registering it. One may not have in his possession a stillworm or still, even though it is not set up, without registering it with the proper United States officer; and if he sets it up, or sets up any substitute therefor, for the purpose of using the same, or which, after being so set up, may be used for the production of distilled spirits, he commits the second offense there denounced; and it is immaterial, so far as this second offense is concerned, whether the still or stillworm is registered or not.\\nThe indictment set out above in fact charges the second offense. It does this with unnecessary particularity. For instance, it alleges the still was set.up without having been registered with the proper United States officer; but, as has been said, the omission to register it is unimportant if the still is set up for the purpose of using it, or was susceptible, to use in producing distilled spirits.\\nIt is argued that the allegation that appellant \\u201cdid set up and keep in possession\\u201d a certain still and still-worm shows an intent to charge the commission of both offenses. The effect of the language quoted is to allege unnecessarily that appellant kept in his possession a still which he had set up for the purpose of producing distilled spirits. The offense was completed when he set the still up for the purpose of producing distilled spirits; and the keeping of it, set up, in his possession, added nothing to the offense.\\nHaving alleged that appellant set up a still and still-worm for the purpose of producing distilled spirits, it was unnecessary to allege that, he thereafter kept the still and stillworm in his possession, or had failed to register it with the proper United States officer; but these unnecessary allegations detracted nothing from the essential allegation that appellant had set up a still for the purpose of producing distilled spirits.\\nThe instructions of the court conformed to the views here expressed and told the jury that, if they found that appellant did unlawfully and feloniously set up and keep in possession a still or stillworm, to be used and operated as a distillery, lie should he convicted; and this was a correct declaration of the law.\\nWhat we have just said disposes of most of the objections to the State\\u2019s testimony, the objections being in line with appellant\\u2019s contention that the indictment was bad in that two offenses were charged in a single count.\\nThe evidence fully sustains the verdict; and in our opinion no error was committed in admitting or excluding testimony. Three deputy sheriffs made a raid on a distillery, which was not only set up but was in actual operation,- and when appellant was first seen he was in the very act of replenishing the fire under the boiler. Whiskey was running from the stillworm, and several jugs of new whiskey were found near by. A gun was found near the still, and appellant admitted to the officers that he, and he alone, was engaged in making whiskey at that place, although he denied that he owned the. still, or had set it up.\\nObjection was made to the testimony showing the things found around the still and appellant\\u2019s admissions. But we think the testimony was competent as showing that the crime charged had been and was being committed and appellant\\u2019s connection therewith. The still had been set up by some one. Appellant denied he had any partner in the crime. He was actually operating the still when discovered, and this testimony sufficiently supports the allegations of the indictment, and the judgment must be affirmed. It is so ordered.\",\"citation_ids\":[1366124]}\n"
          ],
          "name": "stdout"
        }
      ]
    },
    {
      "cell_type": "code",
      "metadata": {
        "colab": {
          "base_uri": "https://localhost:8080/",
          "height": 367,
          "referenced_widgets": [
            "b9ab27568de04dc78650fba7bbe642d1",
            "411bf0686c3842b2b4d7a3f96587c395",
            "8344c8bf56c948c6b98d9b5205bf967a",
            "7a42695cfe6846498f2e1beea02885ad",
            "698e99ac0824473698d7787d5ecf3456",
            "cd10a17c21084137a691514e6556edf3",
            "f811583c32d34c5c8e2e8e3c4cda7706",
            "698ab9c3ef034c4589a553cd79e4356e",
            "851d2d5dcb934047ab3be4125341916c",
            "781fce549e024152a2926e9f4648e691",
            "ae9e00d272fd4752ac1ba11f70ac608b",
            "53b0755da440488e9c132cfffd6ba421",
            "511317ddba4e4532b0376e1480d5b4c0",
            "2df942a0d25343fb9bea64490285f403",
            "19defcf7131e430fa200cc92f39d9f33",
            "774ef9c9bcfe441087aecb85b6e4dac4",
            "57ece94262e74ee797590a5d520f7fb4",
            "0004932d30944979be191702f28f845b",
            "3e1bcadde8b745118571ad7492c29b0c",
            "b10d955848884e9eb167bfacb8d68fae",
            "307ec01fc43d4573aaeb2252f31cc7b5",
            "d16c7a6d887149ab96c8f0300980d251",
            "9212b34028c2466e8eee2b27d373c1ab",
            "a6a97b8ff54a44c4a3dd8b43ffcdbca0",
            "ee664ab552124b4ba4dcc24b81e70bdf",
            "9a0a73d53ddb45a6929fe7c41899ae22",
            "0a2a64f91e55421cab32bf1887d8afdc",
            "b4ad990d01244498b1b15e9b9858584f",
            "27280eb5132342e99bdcc55ab3f880a0",
            "75ee1784b56246dd806e72f96f44fd99",
            "b1fa9a483a444b6caccc04b7cc7a422a",
            "18bd9a42164d4437a07f7c40d8cdae2b",
            "cbd618ca08d94a3c9de4b75b2dd483d1",
            "fb43851ffe124b0ab98168b0e2f8de03",
            "f8a32fa4fee446708f73f1423cc69702",
            "c16ac0c72d2f450ebe747c45598619ee",
            "57e7da9fadc042b8b4ba968ec8ea97dc",
            "a8bd8ad0306244a6b30247725371a3a9",
            "aaa6689eacce484ab47f30d35e150eda",
            "55d2cccd6a704d87b0d2dbe6e3d681f0"
          ]
        },
        "id": "PIrIC_0mK_Fp",
        "outputId": "2924308a-5d11-4736-8e5c-fa1f63a88eaa"
      },
      "source": [
        "model_name = \"nlpaueb/legal-bert-base-uncased\"\n",
        "tokenizer = AutoTokenizer.from_pretrained(model_name)\n",
        "model = TFAutoModel.from_pretrained(model_name, from_pt=True)\n"
      ],
      "execution_count": null,
      "outputs": [
        {
          "output_type": "display_data",
          "data": {
            "application/vnd.jupyter.widget-view+json": {
              "model_id": "b9ab27568de04dc78650fba7bbe642d1",
              "version_minor": 0,
              "version_major": 2
            },
            "text/plain": [
              "HBox(children=(FloatProgress(value=0.0, description='Downloading', max=1017.0, style=ProgressStyle(description…"
            ]
          },
          "metadata": {
            "tags": []
          }
        },
        {
          "output_type": "stream",
          "text": [
            "\n"
          ],
          "name": "stdout"
        },
        {
          "output_type": "display_data",
          "data": {
            "application/vnd.jupyter.widget-view+json": {
              "model_id": "851d2d5dcb934047ab3be4125341916c",
              "version_minor": 0,
              "version_major": 2
            },
            "text/plain": [
              "HBox(children=(FloatProgress(value=0.0, description='Downloading', max=221793.0, style=ProgressStyle(descripti…"
            ]
          },
          "metadata": {
            "tags": []
          }
        },
        {
          "output_type": "stream",
          "text": [
            "\n"
          ],
          "name": "stdout"
        },
        {
          "output_type": "display_data",
          "data": {
            "application/vnd.jupyter.widget-view+json": {
              "model_id": "57ece94262e74ee797590a5d520f7fb4",
              "version_minor": 0,
              "version_major": 2
            },
            "text/plain": [
              "HBox(children=(FloatProgress(value=0.0, description='Downloading', max=112.0, style=ProgressStyle(description_…"
            ]
          },
          "metadata": {
            "tags": []
          }
        },
        {
          "output_type": "stream",
          "text": [
            "\n"
          ],
          "name": "stdout"
        },
        {
          "output_type": "display_data",
          "data": {
            "application/vnd.jupyter.widget-view+json": {
              "model_id": "ee664ab552124b4ba4dcc24b81e70bdf",
              "version_minor": 0,
              "version_major": 2
            },
            "text/plain": [
              "HBox(children=(FloatProgress(value=0.0, description='Downloading', max=2.0, style=ProgressStyle(description_wi…"
            ]
          },
          "metadata": {
            "tags": []
          }
        },
        {
          "output_type": "stream",
          "text": [
            "\n"
          ],
          "name": "stdout"
        },
        {
          "output_type": "display_data",
          "data": {
            "application/vnd.jupyter.widget-view+json": {
              "model_id": "cbd618ca08d94a3c9de4b75b2dd483d1",
              "version_minor": 0,
              "version_major": 2
            },
            "text/plain": [
              "HBox(children=(FloatProgress(value=0.0, description='Downloading', max=440474526.0, style=ProgressStyle(descri…"
            ]
          },
          "metadata": {
            "tags": []
          }
        },
        {
          "output_type": "stream",
          "text": [
            "\n"
          ],
          "name": "stdout"
        },
        {
          "output_type": "stream",
          "text": [
            "Some weights of the PyTorch model were not used when initializing the TF 2.0 model TFBertModel: ['cls.predictions.transform.dense.weight', 'cls.predictions.decoder.bias', 'cls.predictions.transform.LayerNorm.weight', 'cls.seq_relationship.bias', 'cls.predictions.transform.LayerNorm.bias', 'cls.predictions.bias', 'cls.predictions.decoder.weight', 'cls.predictions.transform.dense.bias', 'cls.seq_relationship.weight']\n",
            "- This IS expected if you are initializing TFBertModel from a PyTorch model trained on another task or with another architecture (e.g. initializing a TFBertForSequenceClassification model from a BertForPreTraining model).\n",
            "- This IS NOT expected if you are initializing TFBertModel from a PyTorch model that you expect to be exactly identical (e.g. initializing a TFBertForSequenceClassification model from a BertForSequenceClassification model).\n",
            "All the weights of TFBertModel were initialized from the PyTorch model.\n",
            "If your task is similar to the task the model of the checkpoint was trained on, you can already use TFBertModel for predictions without further training.\n"
          ],
          "name": "stderr"
        }
      ]
    },
    {
      "cell_type": "code",
      "metadata": {
        "colab": {
          "base_uri": "https://localhost:8080/"
        },
        "id": "l3L3ameeFj49",
        "outputId": "828597bc-80cd-49b5-f191-ba4d7e1fab96"
      },
      "source": [
        "# Check # of CPUS\n",
        "!df -h"
      ],
      "execution_count": null,
      "outputs": [
        {
          "output_type": "stream",
          "text": [
            "Filesystem      Size  Used Avail Use% Mounted on\n",
            "overlay         148G   40G  108G  27% /\n",
            "tmpfs            64M     0   64M   0% /dev\n",
            "tmpfs            13G     0   13G   0% /sys/fs/cgroup\n",
            "shm              13G  4.0K   13G   1% /dev/shm\n",
            "/dev/sda1       154G   41G  113G  27% /opt/bin\n",
            "tmpfs            13G   36K   13G   1% /var/colab\n",
            "tmpfs            13G     0   13G   0% /proc/acpi\n",
            "tmpfs            13G     0   13G   0% /proc/scsi\n",
            "tmpfs            13G     0   13G   0% /sys/firmware\n",
            "drive           148G   45G  103G  31% /content/drive\n"
          ],
          "name": "stdout"
        }
      ]
    },
    {
      "cell_type": "code",
      "metadata": {
        "colab": {
          "base_uri": "https://localhost:8080/"
        },
        "id": "B6M0bavsFyn9",
        "outputId": "91f6bd3f-1db7-436d-c313-0a1b9a97ea95"
      },
      "source": [
        "# Check CPU specs\n",
        "!cat /proc/cpuinfo"
      ],
      "execution_count": null,
      "outputs": [
        {
          "output_type": "stream",
          "text": [
            "processor\t: 0\n",
            "vendor_id\t: GenuineIntel\n",
            "cpu family\t: 6\n",
            "model\t\t: 63\n",
            "model name\t: Intel(R) Xeon(R) CPU @ 2.30GHz\n",
            "stepping\t: 0\n",
            "microcode\t: 0x1\n",
            "cpu MHz\t\t: 2299.998\n",
            "cache size\t: 46080 KB\n",
            "physical id\t: 0\n",
            "siblings\t: 4\n",
            "core id\t\t: 0\n",
            "cpu cores\t: 2\n",
            "apicid\t\t: 0\n",
            "initial apicid\t: 0\n",
            "fpu\t\t: yes\n",
            "fpu_exception\t: yes\n",
            "cpuid level\t: 13\n",
            "wp\t\t: yes\n",
            "flags\t\t: fpu vme de pse tsc msr pae mce cx8 apic sep mtrr pge mca cmov pat pse36 clflush mmx fxsr sse sse2 ss ht syscall nx pdpe1gb rdtscp lm constant_tsc rep_good nopl xtopology nonstop_tsc cpuid tsc_known_freq pni pclmulqdq ssse3 fma cx16 pcid sse4_1 sse4_2 x2apic movbe popcnt aes xsave avx f16c rdrand hypervisor lahf_lm abm invpcid_single ssbd ibrs ibpb stibp fsgsbase tsc_adjust bmi1 avx2 smep bmi2 erms invpcid xsaveopt arat md_clear arch_capabilities\n",
            "bugs\t\t: cpu_meltdown spectre_v1 spectre_v2 spec_store_bypass l1tf mds swapgs\n",
            "bogomips\t: 4599.99\n",
            "clflush size\t: 64\n",
            "cache_alignment\t: 64\n",
            "address sizes\t: 46 bits physical, 48 bits virtual\n",
            "power management:\n",
            "\n",
            "processor\t: 1\n",
            "vendor_id\t: GenuineIntel\n",
            "cpu family\t: 6\n",
            "model\t\t: 63\n",
            "model name\t: Intel(R) Xeon(R) CPU @ 2.30GHz\n",
            "stepping\t: 0\n",
            "microcode\t: 0x1\n",
            "cpu MHz\t\t: 2299.998\n",
            "cache size\t: 46080 KB\n",
            "physical id\t: 0\n",
            "siblings\t: 4\n",
            "core id\t\t: 1\n",
            "cpu cores\t: 2\n",
            "apicid\t\t: 2\n",
            "initial apicid\t: 2\n",
            "fpu\t\t: yes\n",
            "fpu_exception\t: yes\n",
            "cpuid level\t: 13\n",
            "wp\t\t: yes\n",
            "flags\t\t: fpu vme de pse tsc msr pae mce cx8 apic sep mtrr pge mca cmov pat pse36 clflush mmx fxsr sse sse2 ss ht syscall nx pdpe1gb rdtscp lm constant_tsc rep_good nopl xtopology nonstop_tsc cpuid tsc_known_freq pni pclmulqdq ssse3 fma cx16 pcid sse4_1 sse4_2 x2apic movbe popcnt aes xsave avx f16c rdrand hypervisor lahf_lm abm invpcid_single ssbd ibrs ibpb stibp fsgsbase tsc_adjust bmi1 avx2 smep bmi2 erms invpcid xsaveopt arat md_clear arch_capabilities\n",
            "bugs\t\t: cpu_meltdown spectre_v1 spectre_v2 spec_store_bypass l1tf mds swapgs\n",
            "bogomips\t: 4599.99\n",
            "clflush size\t: 64\n",
            "cache_alignment\t: 64\n",
            "address sizes\t: 46 bits physical, 48 bits virtual\n",
            "power management:\n",
            "\n",
            "processor\t: 2\n",
            "vendor_id\t: GenuineIntel\n",
            "cpu family\t: 6\n",
            "model\t\t: 63\n",
            "model name\t: Intel(R) Xeon(R) CPU @ 2.30GHz\n",
            "stepping\t: 0\n",
            "microcode\t: 0x1\n",
            "cpu MHz\t\t: 2299.998\n",
            "cache size\t: 46080 KB\n",
            "physical id\t: 0\n",
            "siblings\t: 4\n",
            "core id\t\t: 0\n",
            "cpu cores\t: 2\n",
            "apicid\t\t: 1\n",
            "initial apicid\t: 1\n",
            "fpu\t\t: yes\n",
            "fpu_exception\t: yes\n",
            "cpuid level\t: 13\n",
            "wp\t\t: yes\n",
            "flags\t\t: fpu vme de pse tsc msr pae mce cx8 apic sep mtrr pge mca cmov pat pse36 clflush mmx fxsr sse sse2 ss ht syscall nx pdpe1gb rdtscp lm constant_tsc rep_good nopl xtopology nonstop_tsc cpuid tsc_known_freq pni pclmulqdq ssse3 fma cx16 pcid sse4_1 sse4_2 x2apic movbe popcnt aes xsave avx f16c rdrand hypervisor lahf_lm abm invpcid_single ssbd ibrs ibpb stibp fsgsbase tsc_adjust bmi1 avx2 smep bmi2 erms invpcid xsaveopt arat md_clear arch_capabilities\n",
            "bugs\t\t: cpu_meltdown spectre_v1 spectre_v2 spec_store_bypass l1tf mds swapgs\n",
            "bogomips\t: 4599.99\n",
            "clflush size\t: 64\n",
            "cache_alignment\t: 64\n",
            "address sizes\t: 46 bits physical, 48 bits virtual\n",
            "power management:\n",
            "\n",
            "processor\t: 3\n",
            "vendor_id\t: GenuineIntel\n",
            "cpu family\t: 6\n",
            "model\t\t: 63\n",
            "model name\t: Intel(R) Xeon(R) CPU @ 2.30GHz\n",
            "stepping\t: 0\n",
            "microcode\t: 0x1\n",
            "cpu MHz\t\t: 2299.998\n",
            "cache size\t: 46080 KB\n",
            "physical id\t: 0\n",
            "siblings\t: 4\n",
            "core id\t\t: 1\n",
            "cpu cores\t: 2\n",
            "apicid\t\t: 3\n",
            "initial apicid\t: 3\n",
            "fpu\t\t: yes\n",
            "fpu_exception\t: yes\n",
            "cpuid level\t: 13\n",
            "wp\t\t: yes\n",
            "flags\t\t: fpu vme de pse tsc msr pae mce cx8 apic sep mtrr pge mca cmov pat pse36 clflush mmx fxsr sse sse2 ss ht syscall nx pdpe1gb rdtscp lm constant_tsc rep_good nopl xtopology nonstop_tsc cpuid tsc_known_freq pni pclmulqdq ssse3 fma cx16 pcid sse4_1 sse4_2 x2apic movbe popcnt aes xsave avx f16c rdrand hypervisor lahf_lm abm invpcid_single ssbd ibrs ibpb stibp fsgsbase tsc_adjust bmi1 avx2 smep bmi2 erms invpcid xsaveopt arat md_clear arch_capabilities\n",
            "bugs\t\t: cpu_meltdown spectre_v1 spectre_v2 spec_store_bypass l1tf mds swapgs\n",
            "bogomips\t: 4599.99\n",
            "clflush size\t: 64\n",
            "cache_alignment\t: 64\n",
            "address sizes\t: 46 bits physical, 48 bits virtual\n",
            "power management:\n",
            "\n"
          ],
          "name": "stdout"
        }
      ]
    },
    {
      "cell_type": "code",
      "metadata": {
        "colab": {
          "base_uri": "https://localhost:8080/"
        },
        "id": "nSlmy8-EK_Fp",
        "outputId": "6f4be94c-3cf8-4a4e-d48f-f44c7f9c57e4"
      },
      "source": [
        "dataset = datasets.load_dataset(\"json\", data_files=data_fname, split=datasets.splits.Split(\"train\"))"
      ],
      "execution_count": 42,
      "outputs": [
        {
          "output_type": "stream",
          "text": [
            "Using custom data configuration default-e65431e2a368a8d5\n",
            "Reusing dataset json (/root/.cache/huggingface/datasets/json/default-e65431e2a368a8d5/0.0.0/83d5b3a2f62630efc6b5315f00f20209b4ad91a00ac586597caee3a4da0bef02)\n"
          ],
          "name": "stderr"
        }
      ]
    },
    {
      "cell_type": "code",
      "metadata": {
        "scrolled": true,
        "id": "9_fstXUlK_Fp",
        "colab": {
          "base_uri": "https://localhost:8080/"
        },
        "outputId": "0d03c72c-9db1-49b8-af74-4cdfb73e0bc6"
      },
      "source": [
        "def load_text(examples):\n",
        "    return {\"text\": [item[0] + \"\\n\" + item[1] for item in zip(examples['head_matter'], examples['opinion_text'])]}\n",
        "\n",
        "exclude_columns = [\"jurisdiction_id\",\"court_id\",\"decision_date\", \"head_matter\",\"opinion_text\",\"citation_ids\"]\n",
        "dataset=dataset.map(load_text, batched=True, num_proc=4, remove_columns=exclude_columns)"
      ],
      "execution_count": null,
      "outputs": [
        {
          "output_type": "stream",
          "text": [
            " "
          ],
          "name": "stdout"
        },
        {
          "output_type": "stream",
          "text": [
            "Loading cached processed dataset at /root/.cache/huggingface/datasets/json/default-e65431e2a368a8d5/0.0.0/83d5b3a2f62630efc6b5315f00f20209b4ad91a00ac586597caee3a4da0bef02/cache-fe528db6f38cdef8.arrow\n"
          ],
          "name": "stderr"
        },
        {
          "output_type": "stream",
          "text": [
            " "
          ],
          "name": "stdout"
        },
        {
          "output_type": "stream",
          "text": [
            "Loading cached processed dataset at /root/.cache/huggingface/datasets/json/default-e65431e2a368a8d5/0.0.0/83d5b3a2f62630efc6b5315f00f20209b4ad91a00ac586597caee3a4da0bef02/cache-83b05632ba7dd1c6.arrow\n"
          ],
          "name": "stderr"
        },
        {
          "output_type": "stream",
          "text": [
            "  "
          ],
          "name": "stdout"
        },
        {
          "output_type": "stream",
          "text": [
            "Loading cached processed dataset at /root/.cache/huggingface/datasets/json/default-e65431e2a368a8d5/0.0.0/83d5b3a2f62630efc6b5315f00f20209b4ad91a00ac586597caee3a4da0bef02/cache-c9f7b3972230c2b3.arrow\n",
            "Loading cached processed dataset at /root/.cache/huggingface/datasets/json/default-e65431e2a368a8d5/0.0.0/83d5b3a2f62630efc6b5315f00f20209b4ad91a00ac586597caee3a4da0bef02/cache-ace623e9e3282fb4.arrow\n"
          ],
          "name": "stderr"
        }
      ]
    },
    {
      "cell_type": "code",
      "metadata": {
        "id": "T6wwXwTpK_Fq"
      },
      "source": [
        "def load_embeddings(examples):\n",
        "    tokenized = tokenizer(examples[\"text\"],\n",
        "                          return_tensors=\"tf\",\n",
        "                          padding=True,\n",
        "                          truncation=True,\n",
        "                          max_length=512\n",
        "                         )\n",
        "    \n",
        "    return {'embeddings': model(**tokenized)[1].numpy()}   # pulled out embeddings"
      ],
      "execution_count": null,
      "outputs": []
    },
    {
      "cell_type": "code",
      "metadata": {
        "id": "fy9Ci3lvK_Fq",
        "colab": {
          "base_uri": "https://localhost:8080/",
          "height": 66,
          "referenced_widgets": [
            "44c109c29150418cade0c7b38d3b0f54",
            "4e1f2e060a7e422f8cbc1210c1607587",
            "942ee5fe1fae47c9a35e6aa3c204bd04",
            "35a172d6be764f3f83382b0013327e46",
            "baae54b5e62944149da13d6ee064f36b",
            "fea89f7a28444a81a4235c52ea9072b8",
            "c57fd93346c3440ca25359c745f1210c",
            "02480661b6244d6ebe0e179f6366df06"
          ]
        },
        "outputId": "f5716ae1-9af1-4516-8efb-f818a5a0b430"
      },
      "source": [
        "dataset=dataset.map(load_embeddings, batched=True, batch_size=128)\n",
        "dataset.save_to_disk(\"/content/drive/Shareddrives/CS109B-2021/final_project/data/subset/dataset_lbert_embeddings_pooled\")"
      ],
      "execution_count": 22,
      "outputs": [
        {
          "output_type": "display_data",
          "data": {
            "application/vnd.jupyter.widget-view+json": {
              "model_id": "44c109c29150418cade0c7b38d3b0f54",
              "version_minor": 0,
              "version_major": 2
            },
            "text/plain": [
              "HBox(children=(FloatProgress(value=0.0, max=2077.0), HTML(value='')))"
            ]
          },
          "metadata": {
            "tags": []
          }
        },
        {
          "output_type": "stream",
          "text": [
            "\n"
          ],
          "name": "stdout"
        }
      ]
    },
    {
      "cell_type": "code",
      "metadata": {
        "colab": {
          "base_uri": "https://localhost:8080/"
        },
        "id": "M4PLa-0xX4_8",
        "outputId": "5732c656-9b83-43d6-94d2-5a248c35d755"
      },
      "source": [
        "#! pip install faiss-gpu\n",
        "! pip install faiss-cpu"
      ],
      "execution_count": 40,
      "outputs": [
        {
          "output_type": "stream",
          "text": [
            "Requirement already satisfied: faiss-cpu in /usr/local/lib/python3.7/dist-packages (1.7.0)\n"
          ],
          "name": "stdout"
        }
      ]
    },
    {
      "cell_type": "code",
      "metadata": {
        "id": "266nzaTkI-DM"
      },
      "source": [
        "import faiss"
      ],
      "execution_count": 32,
      "outputs": []
    },
    {
      "cell_type": "code",
      "metadata": {
        "id": "rzA5GLWMK_Fr",
        "colab": {
          "base_uri": "https://localhost:8080/",
          "height": 459
        },
        "outputId": "e7ba0f03-0219-476d-d69d-a179ccd82909"
      },
      "source": [
        "dataset.add_faiss_index(column='embeddings')\n",
        "dataset.save_faiss_index('embeddings', '/content/drive/Shareddrives/CS109B-2021/final_project/data/subset/dataset_lbert_embeddings_pooled/embeddings.faiss')"
      ],
      "execution_count": 41,
      "outputs": [
        {
          "output_type": "error",
          "ename": "ImportError",
          "evalue": "ignored",
          "traceback": [
            "\u001b[0;31m---------------------------------------------------------------------------\u001b[0m",
            "\u001b[0;31mImportError\u001b[0m                               Traceback (most recent call last)",
            "\u001b[0;32m<ipython-input-41-36234b69d6ac>\u001b[0m in \u001b[0;36m<module>\u001b[0;34m()\u001b[0m\n\u001b[0;32m----> 1\u001b[0;31m \u001b[0mdataset\u001b[0m\u001b[0;34m.\u001b[0m\u001b[0madd_faiss_index\u001b[0m\u001b[0;34m(\u001b[0m\u001b[0mcolumn\u001b[0m\u001b[0;34m=\u001b[0m\u001b[0;34m'embeddings'\u001b[0m\u001b[0;34m)\u001b[0m\u001b[0;34m\u001b[0m\u001b[0;34m\u001b[0m\u001b[0m\n\u001b[0m\u001b[1;32m      2\u001b[0m \u001b[0mdataset\u001b[0m\u001b[0;34m.\u001b[0m\u001b[0msave_faiss_index\u001b[0m\u001b[0;34m(\u001b[0m\u001b[0;34m'embeddings'\u001b[0m\u001b[0;34m,\u001b[0m \u001b[0;34m'/content/drive/Shareddrives/CS109B-2021/final_project/data/subset/dataset_lbert_embeddings_pooled/embeddings.faiss'\u001b[0m\u001b[0;34m)\u001b[0m\u001b[0;34m\u001b[0m\u001b[0;34m\u001b[0m\u001b[0m\n",
            "\u001b[0;32m/usr/local/lib/python3.7/dist-packages/datasets/arrow_dataset.py\u001b[0m in \u001b[0;36madd_faiss_index\u001b[0;34m(self, column, index_name, device, string_factory, metric_type, custom_index, train_size, faiss_verbose, dtype)\u001b[0m\n\u001b[1;32m   2803\u001b[0m                 \u001b[0mcustom_index\u001b[0m\u001b[0;34m=\u001b[0m\u001b[0mcustom_index\u001b[0m\u001b[0;34m,\u001b[0m\u001b[0;34m\u001b[0m\u001b[0;34m\u001b[0m\u001b[0m\n\u001b[1;32m   2804\u001b[0m                 \u001b[0mtrain_size\u001b[0m\u001b[0;34m=\u001b[0m\u001b[0mtrain_size\u001b[0m\u001b[0;34m,\u001b[0m\u001b[0;34m\u001b[0m\u001b[0;34m\u001b[0m\u001b[0m\n\u001b[0;32m-> 2805\u001b[0;31m                 \u001b[0mfaiss_verbose\u001b[0m\u001b[0;34m=\u001b[0m\u001b[0mfaiss_verbose\u001b[0m\u001b[0;34m,\u001b[0m\u001b[0;34m\u001b[0m\u001b[0;34m\u001b[0m\u001b[0m\n\u001b[0m\u001b[1;32m   2806\u001b[0m             )\n\u001b[1;32m   2807\u001b[0m         \u001b[0;32mreturn\u001b[0m \u001b[0mself\u001b[0m\u001b[0;34m\u001b[0m\u001b[0;34m\u001b[0m\u001b[0m\n",
            "\u001b[0;32m/usr/local/lib/python3.7/dist-packages/datasets/search.py\u001b[0m in \u001b[0;36madd_faiss_index\u001b[0;34m(self, column, index_name, device, string_factory, metric_type, custom_index, train_size, faiss_verbose)\u001b[0m\n\u001b[1;32m    419\u001b[0m         \u001b[0mindex_name\u001b[0m \u001b[0;34m=\u001b[0m \u001b[0mindex_name\u001b[0m \u001b[0;32mif\u001b[0m \u001b[0mindex_name\u001b[0m \u001b[0;32mis\u001b[0m \u001b[0;32mnot\u001b[0m \u001b[0;32mNone\u001b[0m \u001b[0;32melse\u001b[0m \u001b[0mcolumn\u001b[0m\u001b[0;34m\u001b[0m\u001b[0;34m\u001b[0m\u001b[0m\n\u001b[1;32m    420\u001b[0m         faiss_index = FaissIndex(\n\u001b[0;32m--> 421\u001b[0;31m             \u001b[0mdevice\u001b[0m\u001b[0;34m=\u001b[0m\u001b[0mdevice\u001b[0m\u001b[0;34m,\u001b[0m \u001b[0mstring_factory\u001b[0m\u001b[0;34m=\u001b[0m\u001b[0mstring_factory\u001b[0m\u001b[0;34m,\u001b[0m \u001b[0mmetric_type\u001b[0m\u001b[0;34m=\u001b[0m\u001b[0mmetric_type\u001b[0m\u001b[0;34m,\u001b[0m \u001b[0mcustom_index\u001b[0m\u001b[0;34m=\u001b[0m\u001b[0mcustom_index\u001b[0m\u001b[0;34m\u001b[0m\u001b[0;34m\u001b[0m\u001b[0m\n\u001b[0m\u001b[1;32m    422\u001b[0m         )\n\u001b[1;32m    423\u001b[0m         \u001b[0mfaiss_index\u001b[0m\u001b[0;34m.\u001b[0m\u001b[0madd_vectors\u001b[0m\u001b[0;34m(\u001b[0m\u001b[0mself\u001b[0m\u001b[0;34m,\u001b[0m \u001b[0mcolumn\u001b[0m\u001b[0;34m=\u001b[0m\u001b[0mcolumn\u001b[0m\u001b[0;34m,\u001b[0m \u001b[0mtrain_size\u001b[0m\u001b[0;34m=\u001b[0m\u001b[0mtrain_size\u001b[0m\u001b[0;34m,\u001b[0m \u001b[0mfaiss_verbose\u001b[0m\u001b[0;34m=\u001b[0m\u001b[0mfaiss_verbose\u001b[0m\u001b[0;34m)\u001b[0m\u001b[0;34m\u001b[0m\u001b[0;34m\u001b[0m\u001b[0m\n",
            "\u001b[0;32m/usr/local/lib/python3.7/dist-packages/datasets/search.py\u001b[0m in \u001b[0;36m__init__\u001b[0;34m(self, device, string_factory, metric_type, custom_index)\u001b[0m\n\u001b[1;32m    220\u001b[0m         \u001b[0;32mif\u001b[0m \u001b[0;32mnot\u001b[0m \u001b[0m_has_faiss\u001b[0m\u001b[0;34m:\u001b[0m\u001b[0;34m\u001b[0m\u001b[0;34m\u001b[0m\u001b[0m\n\u001b[1;32m    221\u001b[0m             raise ImportError(\n\u001b[0;32m--> 222\u001b[0;31m                 \u001b[0;34m\"You must install Faiss to use FaissIndex. To do so you can run `pip install faiss-cpu` or `pip install faiss-gpu`\"\u001b[0m\u001b[0;34m\u001b[0m\u001b[0;34m\u001b[0m\u001b[0m\n\u001b[0m\u001b[1;32m    223\u001b[0m             )\n\u001b[1;32m    224\u001b[0m \u001b[0;34m\u001b[0m\u001b[0m\n",
            "\u001b[0;31mImportError\u001b[0m: You must install Faiss to use FaissIndex. To do so you can run `pip install faiss-cpu` or `pip install faiss-gpu`",
            "",
            "\u001b[0;31m---------------------------------------------------------------------------\u001b[0;32m\nNOTE: If your import is failing due to a missing package, you can\nmanually install dependencies using either !pip or !apt.\n\nTo view examples of installing some common dependencies, click the\n\"Open Examples\" button below.\n\u001b[0;31m---------------------------------------------------------------------------\u001b[0m\n"
          ]
        }
      ]
    },
    {
      "cell_type": "code",
      "metadata": {
        "colab": {
          "base_uri": "https://localhost:8080/"
        },
        "id": "U78ayyzUYTYN",
        "outputId": "c2ab0cbf-ac85-4ba3-d57a-e7510c019a12"
      },
      "source": [
        "! pip install faiss-cpu"
      ],
      "execution_count": null,
      "outputs": [
        {
          "output_type": "stream",
          "text": [
            "Collecting faiss-cpu\n",
            "\u001b[?25l  Downloading https://files.pythonhosted.org/packages/48/0c/efd43c4feac172867409f38f07949c36602355ec7196749d10f905d09228/faiss_cpu-1.7.0-cp37-cp37m-manylinux2014_x86_64.whl (8.1MB)\n",
            "\u001b[K     |████████████████████████████████| 8.2MB 11.2MB/s \n",
            "\u001b[?25hInstalling collected packages: faiss-cpu\n",
            "Successfully installed faiss-cpu-1.7.0\n"
          ],
          "name": "stdout"
        }
      ]
    },
    {
      "cell_type": "code",
      "metadata": {
        "id": "Xr0Uc4w1K_Fr"
      },
      "source": [
        "dataset = datasets.Dataset.load_from_disk(\"/content/drive/Shareddrives/CS109B-2021/final_project/data/subset/dataset_lbert_embeddings_pooled\")"
      ],
      "execution_count": 34,
      "outputs": []
    },
    {
      "cell_type": "code",
      "metadata": {
        "id": "C_VjA-h5K_Fr"
      },
      "source": [
        "train_fname = \"/content/drive/Shareddrives/CS109B-2021/final_project/data/subset/train_map.csv\"\n",
        "val_fname = \"/content/drive/Shareddrives/CS109B-2021/final_project/data/subset/val_map.csv\"\n",
        "test_fname = \"/content/drive/Shareddrives/CS109B-2021/final_project/data/subset/test_map.csv\"\n",
        "\n",
        "\n",
        "def fix_nulls_and_types(fname):\n",
        "    df = pd.read_csv(fname)\n",
        "    df = df.dropna()\n",
        "    df = df.astype(int)\n",
        "    df.to_csv(fname, index=False, index_label=False)\n",
        "    return df\n",
        "# fix_nulls_and_types(train_fname)\n",
        "# fix_nulls_and_types(val_fname)\n",
        "# fix_nulls_and_types(test_fname)"
      ],
      "execution_count": 35,
      "outputs": []
    },
    {
      "cell_type": "code",
      "metadata": {
        "id": "LyRczbZRK_Fs",
        "colab": {
          "base_uri": "https://localhost:8080/",
          "height": 88,
          "referenced_widgets": [
            "ef3265163fb34cd3a48c6c68dabb99c2",
            "1886d04f985640f3b626f85b3d6b9cc2",
            "edec5d32e42a494bb61dfd72b10c44d6",
            "ca5db11a8aeb4511b49218acb73e3ad1",
            "a585dd60e00641a2b61aaa5d9085117c",
            "6dc607c5751847c7b4fe3910c16365bf",
            "0a50f215c9254ac69ceb6192f63dbcef",
            "b78d196fc32c4f819fc3c02ac75f63a6",
            "ea674fd6dc794d8bb4449e90f75a399b",
            "f9573f8ff0f8470a8decc7e5159aae24",
            "1367e9ec75844b51bf32909e21a34b93",
            "ef841384d9c94df1a95b76847c672d40",
            "b03382497a0741fb95aa477c37e0943b",
            "14168391dec54cf2838aed272749e63e",
            "cf1ce5a5451e4e9b8f8f912da927de96",
            "fb98f04e7a474c47a6ae471ead8fadd8",
            "77ccd6cd0d0a46ce8c313ded52e96295",
            "da57f4e256e240958c1c727c5c78d400",
            "c1a3023f74ff4280a22a61f977fb779a",
            "04f322f409dd4bb2a354d22f55774761",
            "3cb881d1e7e0427889441c70385d005e",
            "fa32668aad8f40358d18250cc49b4469",
            "d7ca906deec94474bae8ca3a5da9302f",
            "b29050732b8a48bb9e0514aeccd84229"
          ]
        },
        "outputId": "d7f59db2-37eb-4cc3-d237-4e22d3c4fea9"
      },
      "source": [
        "data_files={\n",
        "    \"train\": train_fname, \n",
        "    \"validation\": val_fname, \n",
        "    \"test\": test_fname,\n",
        "}\n",
        "legalbert_dataset = datasets.load_dataset(\"csv\", data_files=data_files)"
      ],
      "execution_count": 36,
      "outputs": [
        {
          "output_type": "stream",
          "text": [
            "Using custom data configuration default-76b2c87db56cbb6b\n"
          ],
          "name": "stderr"
        },
        {
          "output_type": "stream",
          "text": [
            "Downloading and preparing dataset csv/default (download: Unknown size, generated: Unknown size, post-processed: Unknown size, total: Unknown size) to /root/.cache/huggingface/datasets/csv/default-76b2c87db56cbb6b/0.0.0/2dc6629a9ff6b5697d82c25b73731dd440507a69cbce8b425db50b751e8fcfd0...\n"
          ],
          "name": "stdout"
        },
        {
          "output_type": "display_data",
          "data": {
            "application/vnd.jupyter.widget-view+json": {
              "model_id": "ef3265163fb34cd3a48c6c68dabb99c2",
              "version_minor": 0,
              "version_major": 2
            },
            "text/plain": [
              "HBox(children=(FloatProgress(value=1.0, bar_style='info', max=1.0), HTML(value='')))"
            ]
          },
          "metadata": {
            "tags": []
          }
        },
        {
          "output_type": "display_data",
          "data": {
            "application/vnd.jupyter.widget-view+json": {
              "model_id": "ea674fd6dc794d8bb4449e90f75a399b",
              "version_minor": 0,
              "version_major": 2
            },
            "text/plain": [
              "HBox(children=(FloatProgress(value=1.0, bar_style='info', max=1.0), HTML(value='')))"
            ]
          },
          "metadata": {
            "tags": []
          }
        },
        {
          "output_type": "display_data",
          "data": {
            "application/vnd.jupyter.widget-view+json": {
              "model_id": "77ccd6cd0d0a46ce8c313ded52e96295",
              "version_minor": 0,
              "version_major": 2
            },
            "text/plain": [
              "HBox(children=(FloatProgress(value=1.0, bar_style='info', max=1.0), HTML(value='')))"
            ]
          },
          "metadata": {
            "tags": []
          }
        },
        {
          "output_type": "stream",
          "text": [
            "Dataset csv downloaded and prepared to /root/.cache/huggingface/datasets/csv/default-76b2c87db56cbb6b/0.0.0/2dc6629a9ff6b5697d82c25b73731dd440507a69cbce8b425db50b751e8fcfd0. Subsequent calls will reuse this data.\n"
          ],
          "name": "stdout"
        }
      ]
    },
    {
      "cell_type": "code",
      "metadata": {
        "id": "3I2vXthvK_Fs"
      },
      "source": [
        "def load_legalbert_embeddings(examples):\n",
        "    return {\n",
        "        \"case_embedding\": dataset[examples[\"id\"]][\"embeddings\"],\n",
        "        \"citation_embedding\": dataset[examples[\"citation\"]][\"embeddings\"],\n",
        "    }"
      ],
      "execution_count": null,
      "outputs": []
    },
    {
      "cell_type": "code",
      "metadata": {
        "scrolled": true,
        "id": "zwxqL-vfK_Fs",
        "colab": {
          "base_uri": "https://localhost:8080/",
          "height": 1000,
          "referenced_widgets": [
            "92bc7f250f044f1bb59d520fa2f02178",
            "b5c1d18f06fe46e28072cb30fe3a0790",
            "002a53065b684610a55e40ef74412bc8",
            "4ddc7140433d40aa9276ab981e94c4a7",
            "b425213aecda445394002d59909da6db",
            "f30fdb162d4f4f879fa6f58ebaf622b9",
            "3de3453d99aa439486c3a235353e9455",
            "8e29c30c429c44f19983f90824eda6a9",
            "8d38d72173c0499f8e12d669257e13d0",
            "2addd941cecb484587620c9490e3ebfb",
            "df45c2bc470047a5a772826f2b0d1395",
            "5f8e4d5805994f5facc1572af94145fe",
            "9396a6e9ed8e4b0ba37db49c55a48a29",
            "7b27f61af280411180b8abc332aed921",
            "1694224cac434f30ae36647f6ff9a6be",
            "df69e3952df644f983c5c33bf57a418c",
            "6f4c8172b80c46aeb6a57deb0b7bbef8",
            "31b406bcf8cd4b5ca8ef5040b3608bd9",
            "66b0350320ab45e1be93a88cee4856c1",
            "903d7b3190584e0a924150ed17b2e7e5",
            "95357d3472de4a24b31b11695cf3d525",
            "afe380c88e0e4c1b864e8c051455b3cd",
            "6b9573c286984726a6375b52bf4c601b",
            "a9a182c7f1ad41c3bd042d78174ef438",
            "1d0a2380f27a42138711747072320fc7",
            "6876190b33734bf3823242360d3b0f0c",
            "b41ddfa2a9ab4bcfb88984eff662cb34",
            "1e829f3791104f17be3885011a913785",
            "df56a560ffb245218d52bd69d2f7b92b",
            "b3504591d2a140058d5da8bf20f0a439",
            "5dd47295142449d685bb40d9f55bb31e",
            "46d2af91951f4442aee62640f636beb8"
          ]
        },
        "outputId": "06675776-de65-4fb7-bec3-9694582a187c"
      },
      "source": [
        "legal_dataset = legalbert_dataset.map(load_legalbert_embeddings, batched=True, num_proc=4)\n",
        "legal_dataset.save_to_disk(\"/content/drive/Shareddrives/CS109B-2021/final_project/data/subset/legalbert_pooled_dataset\")"
      ],
      "execution_count": null,
      "outputs": [
        {
          "output_type": "stream",
          "text": [
            " "
          ],
          "name": "stdout"
        },
        {
          "output_type": "display_data",
          "data": {
            "application/vnd.jupyter.widget-view+json": {
              "model_id": "92bc7f250f044f1bb59d520fa2f02178",
              "version_minor": 0,
              "version_major": 2
            },
            "text/plain": [
              "HBox(children=(FloatProgress(value=0.0, description='#0', max=652.0, style=ProgressStyle(description_width='in…"
            ]
          },
          "metadata": {
            "tags": []
          }
        },
        {
          "output_type": "stream",
          "text": [
            " "
          ],
          "name": "stdout"
        },
        {
          "output_type": "display_data",
          "data": {
            "application/vnd.jupyter.widget-view+json": {
              "model_id": "8d38d72173c0499f8e12d669257e13d0",
              "version_minor": 0,
              "version_major": 2
            },
            "text/plain": [
              "HBox(children=(FloatProgress(value=0.0, description='#1', max=652.0, style=ProgressStyle(description_width='in…"
            ]
          },
          "metadata": {
            "tags": []
          }
        },
        {
          "output_type": "stream",
          "text": [
            " "
          ],
          "name": "stdout"
        },
        {
          "output_type": "display_data",
          "data": {
            "application/vnd.jupyter.widget-view+json": {
              "model_id": "6f4c8172b80c46aeb6a57deb0b7bbef8",
              "version_minor": 0,
              "version_major": 2
            },
            "text/plain": [
              "HBox(children=(FloatProgress(value=0.0, description='#2', max=652.0, style=ProgressStyle(description_width='in…"
            ]
          },
          "metadata": {
            "tags": []
          }
        },
        {
          "output_type": "stream",
          "text": [
            " "
          ],
          "name": "stdout"
        },
        {
          "output_type": "display_data",
          "data": {
            "application/vnd.jupyter.widget-view+json": {
              "model_id": "1d0a2380f27a42138711747072320fc7",
              "version_minor": 0,
              "version_major": 2
            },
            "text/plain": [
              "HBox(children=(FloatProgress(value=0.0, description='#3', max=652.0, style=ProgressStyle(description_width='in…"
            ]
          },
          "metadata": {
            "tags": []
          }
        },
        {
          "output_type": "error",
          "ename": "TypeError",
          "evalue": "ignored",
          "traceback": [
            "\u001b[0;31m---------------------------------------------------------------------------\u001b[0m",
            "\u001b[0;31mRemoteTraceback\u001b[0m                           Traceback (most recent call last)",
            "\u001b[0;31mRemoteTraceback\u001b[0m: \n\"\"\"\nTraceback (most recent call last):\n  File \"/usr/local/lib/python3.7/dist-packages/multiprocess/pool.py\", line 121, in worker\n    result = (True, func(*args, **kwds))\n  File \"/usr/local/lib/python3.7/dist-packages/datasets/arrow_dataset.py\", line 174, in wrapper\n    out: Union[\"Dataset\", \"DatasetDict\"] = func(self, *args, **kwargs)\n  File \"/usr/local/lib/python3.7/dist-packages/datasets/fingerprint.py\", line 340, in wrapper\n    out = func(self, *args, **kwargs)\n  File \"/usr/local/lib/python3.7/dist-packages/datasets/arrow_dataset.py\", line 1823, in _map_single\n    offset=offset,\n  File \"/usr/local/lib/python3.7/dist-packages/datasets/arrow_dataset.py\", line 1715, in apply_function_on_filtered_inputs\n    function(*fn_args, effective_indices, **fn_kwargs) if with_indices else function(*fn_args, **fn_kwargs)\n  File \"<ipython-input-30-80b69703ee8c>\", line 4, in load_legalbert_embeddings\n    \"citation_embedding\": dataset[examples[\"citation\"]][\"embeddings\"],\n  File \"/usr/local/lib/python3.7/dist-packages/datasets/arrow_dataset.py\", line 1350, in __getitem__\n    format_kwargs=self._format_kwargs,\n  File \"/usr/local/lib/python3.7/dist-packages/datasets/arrow_dataset.py\", line 1337, in _getitem\n    pa_subtable = query_table(self._data, key, indices=self._indices if self._indices is not None else None)\n  File \"/usr/local/lib/python3.7/dist-packages/datasets/formatting/formatting.py\", line 365, in query_table\n    _check_valid_index_key(key, size)\n  File \"/usr/local/lib/python3.7/dist-packages/datasets/formatting/formatting.py\", line 318, in _check_valid_index_key\n    _check_valid_index_key(int(max(key)), size=size)\nTypeError: '>' not supported between instances of 'NoneType' and 'float'\n\"\"\"",
            "\nThe above exception was the direct cause of the following exception:\n",
            "\u001b[0;31mTypeError\u001b[0m                                 Traceback (most recent call last)",
            "\u001b[0;32m<ipython-input-32-ccd2a837a979>\u001b[0m in \u001b[0;36m<module>\u001b[0;34m()\u001b[0m\n\u001b[0;32m----> 1\u001b[0;31m \u001b[0mlegal_dataset\u001b[0m \u001b[0;34m=\u001b[0m \u001b[0mlegalbert_dataset\u001b[0m\u001b[0;34m.\u001b[0m\u001b[0mmap\u001b[0m\u001b[0;34m(\u001b[0m\u001b[0mload_legalbert_embeddings\u001b[0m\u001b[0;34m,\u001b[0m \u001b[0mbatched\u001b[0m\u001b[0;34m=\u001b[0m\u001b[0;32mTrue\u001b[0m\u001b[0;34m,\u001b[0m \u001b[0mnum_proc\u001b[0m\u001b[0;34m=\u001b[0m\u001b[0;36m4\u001b[0m\u001b[0;34m)\u001b[0m\u001b[0;34m\u001b[0m\u001b[0;34m\u001b[0m\u001b[0m\n\u001b[0m\u001b[1;32m      2\u001b[0m \u001b[0mlegal_dataset\u001b[0m\u001b[0;34m.\u001b[0m\u001b[0msave_to_disk\u001b[0m\u001b[0;34m(\u001b[0m\u001b[0;34m\"/content/drive/Shareddrives/CS109B-2021/final_project/data/subset/legalbert_pooled_dataset\"\u001b[0m\u001b[0;34m)\u001b[0m\u001b[0;34m\u001b[0m\u001b[0;34m\u001b[0m\u001b[0m\n",
            "\u001b[0;32m/usr/local/lib/python3.7/dist-packages/datasets/dataset_dict.py\u001b[0m in \u001b[0;36mmap\u001b[0;34m(self, function, with_indices, input_columns, batched, batch_size, remove_columns, keep_in_memory, load_from_cache_file, cache_file_names, writer_batch_size, features, disable_nullable, fn_kwargs, num_proc)\u001b[0m\n\u001b[1;32m    465\u001b[0m                     \u001b[0mnum_proc\u001b[0m\u001b[0;34m=\u001b[0m\u001b[0mnum_proc\u001b[0m\u001b[0;34m,\u001b[0m\u001b[0;34m\u001b[0m\u001b[0;34m\u001b[0m\u001b[0m\n\u001b[1;32m    466\u001b[0m                 )\n\u001b[0;32m--> 467\u001b[0;31m                 \u001b[0;32mfor\u001b[0m \u001b[0mk\u001b[0m\u001b[0;34m,\u001b[0m \u001b[0mdataset\u001b[0m \u001b[0;32min\u001b[0m \u001b[0mself\u001b[0m\u001b[0;34m.\u001b[0m\u001b[0mitems\u001b[0m\u001b[0;34m(\u001b[0m\u001b[0;34m)\u001b[0m\u001b[0;34m\u001b[0m\u001b[0;34m\u001b[0m\u001b[0m\n\u001b[0m\u001b[1;32m    468\u001b[0m             }\n\u001b[1;32m    469\u001b[0m         )\n",
            "\u001b[0;32m/usr/local/lib/python3.7/dist-packages/datasets/dataset_dict.py\u001b[0m in \u001b[0;36m<dictcomp>\u001b[0;34m(.0)\u001b[0m\n\u001b[1;32m    465\u001b[0m                     \u001b[0mnum_proc\u001b[0m\u001b[0;34m=\u001b[0m\u001b[0mnum_proc\u001b[0m\u001b[0;34m,\u001b[0m\u001b[0;34m\u001b[0m\u001b[0;34m\u001b[0m\u001b[0m\n\u001b[1;32m    466\u001b[0m                 )\n\u001b[0;32m--> 467\u001b[0;31m                 \u001b[0;32mfor\u001b[0m \u001b[0mk\u001b[0m\u001b[0;34m,\u001b[0m \u001b[0mdataset\u001b[0m \u001b[0;32min\u001b[0m \u001b[0mself\u001b[0m\u001b[0;34m.\u001b[0m\u001b[0mitems\u001b[0m\u001b[0;34m(\u001b[0m\u001b[0;34m)\u001b[0m\u001b[0;34m\u001b[0m\u001b[0;34m\u001b[0m\u001b[0m\n\u001b[0m\u001b[1;32m    468\u001b[0m             }\n\u001b[1;32m    469\u001b[0m         )\n",
            "\u001b[0;32m/usr/local/lib/python3.7/dist-packages/datasets/arrow_dataset.py\u001b[0m in \u001b[0;36mmap\u001b[0;34m(self, function, with_indices, input_columns, batched, batch_size, drop_last_batch, remove_columns, keep_in_memory, load_from_cache_file, cache_file_name, writer_batch_size, features, disable_nullable, fn_kwargs, num_proc, suffix_template, new_fingerprint)\u001b[0m\n\u001b[1;32m   1553\u001b[0m                 \u001b[0mlogger\u001b[0m\u001b[0;34m.\u001b[0m\u001b[0minfo\u001b[0m\u001b[0;34m(\u001b[0m\u001b[0;34m\"Spawning {} processes\"\u001b[0m\u001b[0;34m.\u001b[0m\u001b[0mformat\u001b[0m\u001b[0;34m(\u001b[0m\u001b[0mnum_proc\u001b[0m\u001b[0;34m)\u001b[0m\u001b[0;34m)\u001b[0m\u001b[0;34m\u001b[0m\u001b[0;34m\u001b[0m\u001b[0m\n\u001b[1;32m   1554\u001b[0m                 \u001b[0mresults\u001b[0m \u001b[0;34m=\u001b[0m \u001b[0;34m[\u001b[0m\u001b[0mpool\u001b[0m\u001b[0;34m.\u001b[0m\u001b[0mapply_async\u001b[0m\u001b[0;34m(\u001b[0m\u001b[0mself\u001b[0m\u001b[0;34m.\u001b[0m\u001b[0m__class__\u001b[0m\u001b[0;34m.\u001b[0m\u001b[0m_map_single\u001b[0m\u001b[0;34m,\u001b[0m \u001b[0mkwds\u001b[0m\u001b[0;34m=\u001b[0m\u001b[0mkwds\u001b[0m\u001b[0;34m)\u001b[0m \u001b[0;32mfor\u001b[0m \u001b[0mkwds\u001b[0m \u001b[0;32min\u001b[0m \u001b[0mkwds_per_shard\u001b[0m\u001b[0;34m]\u001b[0m\u001b[0;34m\u001b[0m\u001b[0;34m\u001b[0m\u001b[0m\n\u001b[0;32m-> 1555\u001b[0;31m                 \u001b[0mtransformed_shards\u001b[0m \u001b[0;34m=\u001b[0m \u001b[0;34m[\u001b[0m\u001b[0mr\u001b[0m\u001b[0;34m.\u001b[0m\u001b[0mget\u001b[0m\u001b[0;34m(\u001b[0m\u001b[0;34m)\u001b[0m \u001b[0;32mfor\u001b[0m \u001b[0mr\u001b[0m \u001b[0;32min\u001b[0m \u001b[0mresults\u001b[0m\u001b[0;34m]\u001b[0m\u001b[0;34m\u001b[0m\u001b[0;34m\u001b[0m\u001b[0m\n\u001b[0m\u001b[1;32m   1556\u001b[0m                 \u001b[0mlogger\u001b[0m\u001b[0;34m.\u001b[0m\u001b[0minfo\u001b[0m\u001b[0;34m(\u001b[0m\u001b[0;34m\"Concatenating {} shards from multiprocessing\"\u001b[0m\u001b[0;34m.\u001b[0m\u001b[0mformat\u001b[0m\u001b[0;34m(\u001b[0m\u001b[0mnum_proc\u001b[0m\u001b[0;34m)\u001b[0m\u001b[0;34m)\u001b[0m\u001b[0;34m\u001b[0m\u001b[0;34m\u001b[0m\u001b[0m\n\u001b[1;32m   1557\u001b[0m                 \u001b[0mresult\u001b[0m \u001b[0;34m=\u001b[0m \u001b[0mconcatenate_datasets\u001b[0m\u001b[0;34m(\u001b[0m\u001b[0mtransformed_shards\u001b[0m\u001b[0;34m)\u001b[0m\u001b[0;34m\u001b[0m\u001b[0;34m\u001b[0m\u001b[0m\n",
            "\u001b[0;32m/usr/local/lib/python3.7/dist-packages/datasets/arrow_dataset.py\u001b[0m in \u001b[0;36m<listcomp>\u001b[0;34m(.0)\u001b[0m\n\u001b[1;32m   1553\u001b[0m                 \u001b[0mlogger\u001b[0m\u001b[0;34m.\u001b[0m\u001b[0minfo\u001b[0m\u001b[0;34m(\u001b[0m\u001b[0;34m\"Spawning {} processes\"\u001b[0m\u001b[0;34m.\u001b[0m\u001b[0mformat\u001b[0m\u001b[0;34m(\u001b[0m\u001b[0mnum_proc\u001b[0m\u001b[0;34m)\u001b[0m\u001b[0;34m)\u001b[0m\u001b[0;34m\u001b[0m\u001b[0;34m\u001b[0m\u001b[0m\n\u001b[1;32m   1554\u001b[0m                 \u001b[0mresults\u001b[0m \u001b[0;34m=\u001b[0m \u001b[0;34m[\u001b[0m\u001b[0mpool\u001b[0m\u001b[0;34m.\u001b[0m\u001b[0mapply_async\u001b[0m\u001b[0;34m(\u001b[0m\u001b[0mself\u001b[0m\u001b[0;34m.\u001b[0m\u001b[0m__class__\u001b[0m\u001b[0;34m.\u001b[0m\u001b[0m_map_single\u001b[0m\u001b[0;34m,\u001b[0m \u001b[0mkwds\u001b[0m\u001b[0;34m=\u001b[0m\u001b[0mkwds\u001b[0m\u001b[0;34m)\u001b[0m \u001b[0;32mfor\u001b[0m \u001b[0mkwds\u001b[0m \u001b[0;32min\u001b[0m \u001b[0mkwds_per_shard\u001b[0m\u001b[0;34m]\u001b[0m\u001b[0;34m\u001b[0m\u001b[0;34m\u001b[0m\u001b[0m\n\u001b[0;32m-> 1555\u001b[0;31m                 \u001b[0mtransformed_shards\u001b[0m \u001b[0;34m=\u001b[0m \u001b[0;34m[\u001b[0m\u001b[0mr\u001b[0m\u001b[0;34m.\u001b[0m\u001b[0mget\u001b[0m\u001b[0;34m(\u001b[0m\u001b[0;34m)\u001b[0m \u001b[0;32mfor\u001b[0m \u001b[0mr\u001b[0m \u001b[0;32min\u001b[0m \u001b[0mresults\u001b[0m\u001b[0;34m]\u001b[0m\u001b[0;34m\u001b[0m\u001b[0;34m\u001b[0m\u001b[0m\n\u001b[0m\u001b[1;32m   1556\u001b[0m                 \u001b[0mlogger\u001b[0m\u001b[0;34m.\u001b[0m\u001b[0minfo\u001b[0m\u001b[0;34m(\u001b[0m\u001b[0;34m\"Concatenating {} shards from multiprocessing\"\u001b[0m\u001b[0;34m.\u001b[0m\u001b[0mformat\u001b[0m\u001b[0;34m(\u001b[0m\u001b[0mnum_proc\u001b[0m\u001b[0;34m)\u001b[0m\u001b[0;34m)\u001b[0m\u001b[0;34m\u001b[0m\u001b[0;34m\u001b[0m\u001b[0m\n\u001b[1;32m   1557\u001b[0m                 \u001b[0mresult\u001b[0m \u001b[0;34m=\u001b[0m \u001b[0mconcatenate_datasets\u001b[0m\u001b[0;34m(\u001b[0m\u001b[0mtransformed_shards\u001b[0m\u001b[0;34m)\u001b[0m\u001b[0;34m\u001b[0m\u001b[0;34m\u001b[0m\u001b[0m\n",
            "\u001b[0;32m/usr/local/lib/python3.7/dist-packages/multiprocess/pool.py\u001b[0m in \u001b[0;36mget\u001b[0;34m(self, timeout)\u001b[0m\n\u001b[1;32m    655\u001b[0m             \u001b[0;32mreturn\u001b[0m \u001b[0mself\u001b[0m\u001b[0;34m.\u001b[0m\u001b[0m_value\u001b[0m\u001b[0;34m\u001b[0m\u001b[0;34m\u001b[0m\u001b[0m\n\u001b[1;32m    656\u001b[0m         \u001b[0;32melse\u001b[0m\u001b[0;34m:\u001b[0m\u001b[0;34m\u001b[0m\u001b[0;34m\u001b[0m\u001b[0m\n\u001b[0;32m--> 657\u001b[0;31m             \u001b[0;32mraise\u001b[0m \u001b[0mself\u001b[0m\u001b[0;34m.\u001b[0m\u001b[0m_value\u001b[0m\u001b[0;34m\u001b[0m\u001b[0;34m\u001b[0m\u001b[0m\n\u001b[0m\u001b[1;32m    658\u001b[0m \u001b[0;34m\u001b[0m\u001b[0m\n\u001b[1;32m    659\u001b[0m     \u001b[0;32mdef\u001b[0m \u001b[0m_set\u001b[0m\u001b[0;34m(\u001b[0m\u001b[0mself\u001b[0m\u001b[0;34m,\u001b[0m \u001b[0mi\u001b[0m\u001b[0;34m,\u001b[0m \u001b[0mobj\u001b[0m\u001b[0;34m)\u001b[0m\u001b[0;34m:\u001b[0m\u001b[0;34m\u001b[0m\u001b[0;34m\u001b[0m\u001b[0m\n",
            "\u001b[0;32m/usr/local/lib/python3.7/dist-packages/multiprocess/pool.py\u001b[0m in \u001b[0;36mworker\u001b[0;34m()\u001b[0m\n\u001b[1;32m    119\u001b[0m         \u001b[0mjob\u001b[0m\u001b[0;34m,\u001b[0m \u001b[0mi\u001b[0m\u001b[0;34m,\u001b[0m \u001b[0mfunc\u001b[0m\u001b[0;34m,\u001b[0m \u001b[0margs\u001b[0m\u001b[0;34m,\u001b[0m \u001b[0mkwds\u001b[0m \u001b[0;34m=\u001b[0m \u001b[0mtask\u001b[0m\u001b[0;34m\u001b[0m\u001b[0;34m\u001b[0m\u001b[0m\n\u001b[1;32m    120\u001b[0m         \u001b[0;32mtry\u001b[0m\u001b[0;34m:\u001b[0m\u001b[0;34m\u001b[0m\u001b[0;34m\u001b[0m\u001b[0m\n\u001b[0;32m--> 121\u001b[0;31m             \u001b[0mresult\u001b[0m \u001b[0;34m=\u001b[0m \u001b[0;34m(\u001b[0m\u001b[0;32mTrue\u001b[0m\u001b[0;34m,\u001b[0m \u001b[0mfunc\u001b[0m\u001b[0;34m(\u001b[0m\u001b[0;34m*\u001b[0m\u001b[0margs\u001b[0m\u001b[0;34m,\u001b[0m \u001b[0;34m**\u001b[0m\u001b[0mkwds\u001b[0m\u001b[0;34m)\u001b[0m\u001b[0;34m)\u001b[0m\u001b[0;34m\u001b[0m\u001b[0;34m\u001b[0m\u001b[0m\n\u001b[0m\u001b[1;32m    122\u001b[0m         \u001b[0;32mexcept\u001b[0m \u001b[0mException\u001b[0m \u001b[0;32mas\u001b[0m \u001b[0me\u001b[0m\u001b[0;34m:\u001b[0m\u001b[0;34m\u001b[0m\u001b[0;34m\u001b[0m\u001b[0m\n\u001b[1;32m    123\u001b[0m             \u001b[0;32mif\u001b[0m \u001b[0mwrap_exception\u001b[0m \u001b[0;32mand\u001b[0m \u001b[0mfunc\u001b[0m \u001b[0;32mis\u001b[0m \u001b[0;32mnot\u001b[0m \u001b[0m_helper_reraises_exception\u001b[0m\u001b[0;34m:\u001b[0m\u001b[0;34m\u001b[0m\u001b[0;34m\u001b[0m\u001b[0m\n",
            "\u001b[0;32m/usr/local/lib/python3.7/dist-packages/datasets/arrow_dataset.py\u001b[0m in \u001b[0;36mwrapper\u001b[0;34m()\u001b[0m\n\u001b[1;32m    172\u001b[0m         }\n\u001b[1;32m    173\u001b[0m         \u001b[0;31m# apply actual function\u001b[0m\u001b[0;34m\u001b[0m\u001b[0;34m\u001b[0m\u001b[0;34m\u001b[0m\u001b[0m\n\u001b[0;32m--> 174\u001b[0;31m         \u001b[0mout\u001b[0m\u001b[0;34m:\u001b[0m \u001b[0mUnion\u001b[0m\u001b[0;34m[\u001b[0m\u001b[0;34m\"Dataset\"\u001b[0m\u001b[0;34m,\u001b[0m \u001b[0;34m\"DatasetDict\"\u001b[0m\u001b[0;34m]\u001b[0m \u001b[0;34m=\u001b[0m \u001b[0mfunc\u001b[0m\u001b[0;34m(\u001b[0m\u001b[0mself\u001b[0m\u001b[0;34m,\u001b[0m \u001b[0;34m*\u001b[0m\u001b[0margs\u001b[0m\u001b[0;34m,\u001b[0m \u001b[0;34m**\u001b[0m\u001b[0mkwargs\u001b[0m\u001b[0;34m)\u001b[0m\u001b[0;34m\u001b[0m\u001b[0;34m\u001b[0m\u001b[0m\n\u001b[0m\u001b[1;32m    175\u001b[0m         \u001b[0mdatasets\u001b[0m\u001b[0;34m:\u001b[0m \u001b[0mList\u001b[0m\u001b[0;34m[\u001b[0m\u001b[0;34m\"Dataset\"\u001b[0m\u001b[0;34m]\u001b[0m \u001b[0;34m=\u001b[0m \u001b[0mlist\u001b[0m\u001b[0;34m(\u001b[0m\u001b[0mout\u001b[0m\u001b[0;34m.\u001b[0m\u001b[0mvalues\u001b[0m\u001b[0;34m(\u001b[0m\u001b[0;34m)\u001b[0m\u001b[0;34m)\u001b[0m \u001b[0;32mif\u001b[0m \u001b[0misinstance\u001b[0m\u001b[0;34m(\u001b[0m\u001b[0mout\u001b[0m\u001b[0;34m,\u001b[0m \u001b[0mdict\u001b[0m\u001b[0;34m)\u001b[0m \u001b[0;32melse\u001b[0m \u001b[0;34m[\u001b[0m\u001b[0mout\u001b[0m\u001b[0;34m]\u001b[0m\u001b[0;34m\u001b[0m\u001b[0;34m\u001b[0m\u001b[0m\n\u001b[1;32m    176\u001b[0m         \u001b[0;31m# re-apply format to the output\u001b[0m\u001b[0;34m\u001b[0m\u001b[0;34m\u001b[0m\u001b[0;34m\u001b[0m\u001b[0m\n",
            "\u001b[0;32m/usr/local/lib/python3.7/dist-packages/datasets/fingerprint.py\u001b[0m in \u001b[0;36mwrapper\u001b[0;34m()\u001b[0m\n\u001b[1;32m    338\u001b[0m             \u001b[0;31m# Call actual function\u001b[0m\u001b[0;34m\u001b[0m\u001b[0;34m\u001b[0m\u001b[0;34m\u001b[0m\u001b[0m\n\u001b[1;32m    339\u001b[0m \u001b[0;34m\u001b[0m\u001b[0m\n\u001b[0;32m--> 340\u001b[0;31m             \u001b[0mout\u001b[0m \u001b[0;34m=\u001b[0m \u001b[0mfunc\u001b[0m\u001b[0;34m(\u001b[0m\u001b[0mself\u001b[0m\u001b[0;34m,\u001b[0m \u001b[0;34m*\u001b[0m\u001b[0margs\u001b[0m\u001b[0;34m,\u001b[0m \u001b[0;34m**\u001b[0m\u001b[0mkwargs\u001b[0m\u001b[0;34m)\u001b[0m\u001b[0;34m\u001b[0m\u001b[0;34m\u001b[0m\u001b[0m\n\u001b[0m\u001b[1;32m    341\u001b[0m \u001b[0;34m\u001b[0m\u001b[0m\n\u001b[1;32m    342\u001b[0m             \u001b[0;31m# Update fingerprint of in-place transforms + update in-place history of transforms\u001b[0m\u001b[0;34m\u001b[0m\u001b[0;34m\u001b[0m\u001b[0;34m\u001b[0m\u001b[0m\n",
            "\u001b[0;32m/usr/local/lib/python3.7/dist-packages/datasets/arrow_dataset.py\u001b[0m in \u001b[0;36m_map_single\u001b[0;34m()\u001b[0m\n\u001b[1;32m   1821\u001b[0m                                 \u001b[0mindices\u001b[0m\u001b[0;34m,\u001b[0m\u001b[0;34m\u001b[0m\u001b[0;34m\u001b[0m\u001b[0m\n\u001b[1;32m   1822\u001b[0m                                 \u001b[0mcheck_same_num_examples\u001b[0m\u001b[0;34m=\u001b[0m\u001b[0mlen\u001b[0m\u001b[0;34m(\u001b[0m\u001b[0minput_dataset\u001b[0m\u001b[0;34m.\u001b[0m\u001b[0mlist_indexes\u001b[0m\u001b[0;34m(\u001b[0m\u001b[0;34m)\u001b[0m\u001b[0;34m)\u001b[0m \u001b[0;34m>\u001b[0m \u001b[0;36m0\u001b[0m\u001b[0;34m,\u001b[0m\u001b[0;34m\u001b[0m\u001b[0;34m\u001b[0m\u001b[0m\n\u001b[0;32m-> 1823\u001b[0;31m                                 \u001b[0moffset\u001b[0m\u001b[0;34m=\u001b[0m\u001b[0moffset\u001b[0m\u001b[0;34m,\u001b[0m\u001b[0;34m\u001b[0m\u001b[0;34m\u001b[0m\u001b[0m\n\u001b[0m\u001b[1;32m   1824\u001b[0m                             )\n\u001b[1;32m   1825\u001b[0m                         \u001b[0;32mexcept\u001b[0m \u001b[0mNumExamplesMismatch\u001b[0m\u001b[0;34m:\u001b[0m\u001b[0;34m\u001b[0m\u001b[0;34m\u001b[0m\u001b[0m\n",
            "\u001b[0;32m/usr/local/lib/python3.7/dist-packages/datasets/arrow_dataset.py\u001b[0m in \u001b[0;36mapply_function_on_filtered_inputs\u001b[0;34m()\u001b[0m\n\u001b[1;32m   1713\u001b[0m                 \u001b[0meffective_indices\u001b[0m \u001b[0;34m=\u001b[0m \u001b[0;34m[\u001b[0m\u001b[0mi\u001b[0m \u001b[0;34m+\u001b[0m \u001b[0moffset\u001b[0m \u001b[0;32mfor\u001b[0m \u001b[0mi\u001b[0m \u001b[0;32min\u001b[0m \u001b[0mindices\u001b[0m\u001b[0;34m]\u001b[0m \u001b[0;32mif\u001b[0m \u001b[0misinstance\u001b[0m\u001b[0;34m(\u001b[0m\u001b[0mindices\u001b[0m\u001b[0;34m,\u001b[0m \u001b[0mlist\u001b[0m\u001b[0;34m)\u001b[0m \u001b[0;32melse\u001b[0m \u001b[0mindices\u001b[0m \u001b[0;34m+\u001b[0m \u001b[0moffset\u001b[0m\u001b[0;34m\u001b[0m\u001b[0;34m\u001b[0m\u001b[0m\n\u001b[1;32m   1714\u001b[0m             processed_inputs = (\n\u001b[0;32m-> 1715\u001b[0;31m                 \u001b[0mfunction\u001b[0m\u001b[0;34m(\u001b[0m\u001b[0;34m*\u001b[0m\u001b[0mfn_args\u001b[0m\u001b[0;34m,\u001b[0m \u001b[0meffective_indices\u001b[0m\u001b[0;34m,\u001b[0m \u001b[0;34m**\u001b[0m\u001b[0mfn_kwargs\u001b[0m\u001b[0;34m)\u001b[0m \u001b[0;32mif\u001b[0m \u001b[0mwith_indices\u001b[0m \u001b[0;32melse\u001b[0m \u001b[0mfunction\u001b[0m\u001b[0;34m(\u001b[0m\u001b[0;34m*\u001b[0m\u001b[0mfn_args\u001b[0m\u001b[0;34m,\u001b[0m \u001b[0;34m**\u001b[0m\u001b[0mfn_kwargs\u001b[0m\u001b[0;34m)\u001b[0m\u001b[0;34m\u001b[0m\u001b[0;34m\u001b[0m\u001b[0m\n\u001b[0m\u001b[1;32m   1716\u001b[0m             )\n\u001b[1;32m   1717\u001b[0m             \u001b[0;32mif\u001b[0m \u001b[0mupdate_data\u001b[0m \u001b[0;32mis\u001b[0m \u001b[0;32mNone\u001b[0m\u001b[0;34m:\u001b[0m\u001b[0;34m\u001b[0m\u001b[0;34m\u001b[0m\u001b[0m\n",
            "\u001b[0;32m<ipython-input-30-80b69703ee8c>\u001b[0m in \u001b[0;36mload_legalbert_embeddings\u001b[0;34m()\u001b[0m\n\u001b[1;32m      2\u001b[0m     return {\n\u001b[1;32m      3\u001b[0m         \u001b[0;34m\"case_embedding\"\u001b[0m\u001b[0;34m:\u001b[0m \u001b[0mdataset\u001b[0m\u001b[0;34m[\u001b[0m\u001b[0mexamples\u001b[0m\u001b[0;34m[\u001b[0m\u001b[0;34m\"id\"\u001b[0m\u001b[0;34m]\u001b[0m\u001b[0;34m]\u001b[0m\u001b[0;34m[\u001b[0m\u001b[0;34m\"embeddings\"\u001b[0m\u001b[0;34m]\u001b[0m\u001b[0;34m,\u001b[0m\u001b[0;34m\u001b[0m\u001b[0;34m\u001b[0m\u001b[0m\n\u001b[0;32m----> 4\u001b[0;31m         \u001b[0;34m\"citation_embedding\"\u001b[0m\u001b[0;34m:\u001b[0m \u001b[0mdataset\u001b[0m\u001b[0;34m[\u001b[0m\u001b[0mexamples\u001b[0m\u001b[0;34m[\u001b[0m\u001b[0;34m\"citation\"\u001b[0m\u001b[0;34m]\u001b[0m\u001b[0;34m]\u001b[0m\u001b[0;34m[\u001b[0m\u001b[0;34m\"embeddings\"\u001b[0m\u001b[0;34m]\u001b[0m\u001b[0;34m,\u001b[0m\u001b[0;34m\u001b[0m\u001b[0;34m\u001b[0m\u001b[0m\n\u001b[0m\u001b[1;32m      5\u001b[0m     }\n",
            "\u001b[0;32m/usr/local/lib/python3.7/dist-packages/datasets/arrow_dataset.py\u001b[0m in \u001b[0;36m__getitem__\u001b[0;34m()\u001b[0m\n\u001b[1;32m   1348\u001b[0m             \u001b[0mformat_columns\u001b[0m\u001b[0;34m=\u001b[0m\u001b[0mself\u001b[0m\u001b[0;34m.\u001b[0m\u001b[0m_format_columns\u001b[0m\u001b[0;34m,\u001b[0m\u001b[0;34m\u001b[0m\u001b[0;34m\u001b[0m\u001b[0m\n\u001b[1;32m   1349\u001b[0m             \u001b[0moutput_all_columns\u001b[0m\u001b[0;34m=\u001b[0m\u001b[0mself\u001b[0m\u001b[0;34m.\u001b[0m\u001b[0m_output_all_columns\u001b[0m\u001b[0;34m,\u001b[0m\u001b[0;34m\u001b[0m\u001b[0;34m\u001b[0m\u001b[0m\n\u001b[0;32m-> 1350\u001b[0;31m             \u001b[0mformat_kwargs\u001b[0m\u001b[0;34m=\u001b[0m\u001b[0mself\u001b[0m\u001b[0;34m.\u001b[0m\u001b[0m_format_kwargs\u001b[0m\u001b[0;34m,\u001b[0m\u001b[0;34m\u001b[0m\u001b[0;34m\u001b[0m\u001b[0m\n\u001b[0m\u001b[1;32m   1351\u001b[0m         )\n\u001b[1;32m   1352\u001b[0m \u001b[0;34m\u001b[0m\u001b[0m\n",
            "\u001b[0;32m/usr/local/lib/python3.7/dist-packages/datasets/arrow_dataset.py\u001b[0m in \u001b[0;36m_getitem\u001b[0;34m()\u001b[0m\n\u001b[1;32m   1335\u001b[0m         \u001b[0mformat_kwargs\u001b[0m \u001b[0;34m=\u001b[0m \u001b[0mformat_kwargs\u001b[0m \u001b[0;32mif\u001b[0m \u001b[0mformat_kwargs\u001b[0m \u001b[0;32mis\u001b[0m \u001b[0;32mnot\u001b[0m \u001b[0;32mNone\u001b[0m \u001b[0;32melse\u001b[0m \u001b[0;34m{\u001b[0m\u001b[0;34m}\u001b[0m\u001b[0;34m\u001b[0m\u001b[0;34m\u001b[0m\u001b[0m\n\u001b[1;32m   1336\u001b[0m         \u001b[0mformatter\u001b[0m \u001b[0;34m=\u001b[0m \u001b[0mget_formatter\u001b[0m\u001b[0;34m(\u001b[0m\u001b[0mformat_type\u001b[0m\u001b[0;34m,\u001b[0m \u001b[0;34m**\u001b[0m\u001b[0mformat_kwargs\u001b[0m\u001b[0;34m)\u001b[0m\u001b[0;34m\u001b[0m\u001b[0;34m\u001b[0m\u001b[0m\n\u001b[0;32m-> 1337\u001b[0;31m         \u001b[0mpa_subtable\u001b[0m \u001b[0;34m=\u001b[0m \u001b[0mquery_table\u001b[0m\u001b[0;34m(\u001b[0m\u001b[0mself\u001b[0m\u001b[0;34m.\u001b[0m\u001b[0m_data\u001b[0m\u001b[0;34m,\u001b[0m \u001b[0mkey\u001b[0m\u001b[0;34m,\u001b[0m \u001b[0mindices\u001b[0m\u001b[0;34m=\u001b[0m\u001b[0mself\u001b[0m\u001b[0;34m.\u001b[0m\u001b[0m_indices\u001b[0m \u001b[0;32mif\u001b[0m \u001b[0mself\u001b[0m\u001b[0;34m.\u001b[0m\u001b[0m_indices\u001b[0m \u001b[0;32mis\u001b[0m \u001b[0;32mnot\u001b[0m \u001b[0;32mNone\u001b[0m \u001b[0;32melse\u001b[0m \u001b[0;32mNone\u001b[0m\u001b[0;34m)\u001b[0m\u001b[0;34m\u001b[0m\u001b[0;34m\u001b[0m\u001b[0m\n\u001b[0m\u001b[1;32m   1338\u001b[0m         formatted_output = format_table(\n\u001b[1;32m   1339\u001b[0m             \u001b[0mpa_subtable\u001b[0m\u001b[0;34m,\u001b[0m \u001b[0mkey\u001b[0m\u001b[0;34m,\u001b[0m \u001b[0mformatter\u001b[0m\u001b[0;34m=\u001b[0m\u001b[0mformatter\u001b[0m\u001b[0;34m,\u001b[0m \u001b[0mformat_columns\u001b[0m\u001b[0;34m=\u001b[0m\u001b[0mformat_columns\u001b[0m\u001b[0;34m,\u001b[0m \u001b[0moutput_all_columns\u001b[0m\u001b[0;34m=\u001b[0m\u001b[0moutput_all_columns\u001b[0m\u001b[0;34m\u001b[0m\u001b[0;34m\u001b[0m\u001b[0m\n",
            "\u001b[0;32m/usr/local/lib/python3.7/dist-packages/datasets/formatting/formatting.py\u001b[0m in \u001b[0;36mquery_table\u001b[0;34m()\u001b[0m\n\u001b[1;32m    363\u001b[0m     \u001b[0;32melse\u001b[0m\u001b[0;34m:\u001b[0m\u001b[0;34m\u001b[0m\u001b[0;34m\u001b[0m\u001b[0m\n\u001b[1;32m    364\u001b[0m         \u001b[0msize\u001b[0m \u001b[0;34m=\u001b[0m \u001b[0mindices\u001b[0m\u001b[0;34m.\u001b[0m\u001b[0mnum_rows\u001b[0m \u001b[0;32mif\u001b[0m \u001b[0mindices\u001b[0m \u001b[0;32mis\u001b[0m \u001b[0;32mnot\u001b[0m \u001b[0;32mNone\u001b[0m \u001b[0;32melse\u001b[0m \u001b[0mtable\u001b[0m\u001b[0;34m.\u001b[0m\u001b[0mnum_rows\u001b[0m\u001b[0;34m\u001b[0m\u001b[0;34m\u001b[0m\u001b[0m\n\u001b[0;32m--> 365\u001b[0;31m         \u001b[0m_check_valid_index_key\u001b[0m\u001b[0;34m(\u001b[0m\u001b[0mkey\u001b[0m\u001b[0;34m,\u001b[0m \u001b[0msize\u001b[0m\u001b[0;34m)\u001b[0m\u001b[0;34m\u001b[0m\u001b[0;34m\u001b[0m\u001b[0m\n\u001b[0m\u001b[1;32m    366\u001b[0m     \u001b[0;31m# Query the main table\u001b[0m\u001b[0;34m\u001b[0m\u001b[0;34m\u001b[0m\u001b[0;34m\u001b[0m\u001b[0m\n\u001b[1;32m    367\u001b[0m     \u001b[0;32mif\u001b[0m \u001b[0mindices\u001b[0m \u001b[0;32mis\u001b[0m \u001b[0;32mNone\u001b[0m\u001b[0;34m:\u001b[0m\u001b[0;34m\u001b[0m\u001b[0;34m\u001b[0m\u001b[0m\n",
            "\u001b[0;32m/usr/local/lib/python3.7/dist-packages/datasets/formatting/formatting.py\u001b[0m in \u001b[0;36m_check_valid_index_key\u001b[0;34m()\u001b[0m\n\u001b[1;32m    316\u001b[0m     \u001b[0;32melif\u001b[0m \u001b[0misinstance\u001b[0m\u001b[0;34m(\u001b[0m\u001b[0mkey\u001b[0m\u001b[0;34m,\u001b[0m \u001b[0mIterable\u001b[0m\u001b[0;34m)\u001b[0m\u001b[0;34m:\u001b[0m\u001b[0;34m\u001b[0m\u001b[0;34m\u001b[0m\u001b[0m\n\u001b[1;32m    317\u001b[0m         \u001b[0;32mif\u001b[0m \u001b[0mlen\u001b[0m\u001b[0;34m(\u001b[0m\u001b[0mkey\u001b[0m\u001b[0;34m)\u001b[0m \u001b[0;34m>\u001b[0m \u001b[0;36m0\u001b[0m\u001b[0;34m:\u001b[0m\u001b[0;34m\u001b[0m\u001b[0;34m\u001b[0m\u001b[0m\n\u001b[0;32m--> 318\u001b[0;31m             \u001b[0m_check_valid_index_key\u001b[0m\u001b[0;34m(\u001b[0m\u001b[0mint\u001b[0m\u001b[0;34m(\u001b[0m\u001b[0mmax\u001b[0m\u001b[0;34m(\u001b[0m\u001b[0mkey\u001b[0m\u001b[0;34m)\u001b[0m\u001b[0;34m)\u001b[0m\u001b[0;34m,\u001b[0m \u001b[0msize\u001b[0m\u001b[0;34m=\u001b[0m\u001b[0msize\u001b[0m\u001b[0;34m)\u001b[0m\u001b[0;34m\u001b[0m\u001b[0;34m\u001b[0m\u001b[0m\n\u001b[0m\u001b[1;32m    319\u001b[0m             \u001b[0m_check_valid_index_key\u001b[0m\u001b[0;34m(\u001b[0m\u001b[0mint\u001b[0m\u001b[0;34m(\u001b[0m\u001b[0mmin\u001b[0m\u001b[0;34m(\u001b[0m\u001b[0mkey\u001b[0m\u001b[0;34m)\u001b[0m\u001b[0;34m)\u001b[0m\u001b[0;34m,\u001b[0m \u001b[0msize\u001b[0m\u001b[0;34m=\u001b[0m\u001b[0msize\u001b[0m\u001b[0;34m)\u001b[0m\u001b[0;34m\u001b[0m\u001b[0;34m\u001b[0m\u001b[0m\n\u001b[1;32m    320\u001b[0m     \u001b[0;32melse\u001b[0m\u001b[0;34m:\u001b[0m\u001b[0;34m\u001b[0m\u001b[0;34m\u001b[0m\u001b[0m\n",
            "\u001b[0;31mTypeError\u001b[0m: '>' not supported between instances of 'NoneType' and 'float'"
          ]
        }
      ]
    },
    {
      "cell_type": "code",
      "metadata": {
        "id": "62ujUpa6K_Fs"
      },
      "source": [
        ""
      ],
      "execution_count": null,
      "outputs": []
    },
    {
      "cell_type": "code",
      "metadata": {
        "id": "g1ahgI5kK_Ft"
      },
      "source": [
        "def generator_from_dataset(dataset):\n",
        "    def _gen():\n",
        "        for item in dataset:\n",
        "            features = (item[\"case_embedding\"], item[\"citation_embedding\"])\n",
        "            yield features, item['label']\n",
        "    return _gen\n",
        "\n",
        "def tf_dataset_from_dataset(dataset):\n",
        "    dataset_generator = generator_from_dataset(dataset)\n",
        "    tfdataset = tf.data.Dataset.from_generator(\n",
        "        dataset_generator,\n",
        "        output_signature=(\n",
        "         (tf.TensorSpec(shape=(768,), dtype=tf.float32),\n",
        "          tf.TensorSpec(shape=(768,), dtype=tf.float32),\n",
        "         ),\n",
        "         tf.TensorSpec(shape=(None), dtype=tf.int32))\n",
        "    )\n",
        "    tfdataset = tfdataset.apply(tf.data.experimental.assert_cardinality(len(dataset)))\n",
        "    return tfdataset\n"
      ],
      "execution_count": null,
      "outputs": []
    },
    {
      "cell_type": "code",
      "metadata": {
        "id": "YHwhhAkxK_Ft"
      },
      "source": [
        "def tf_dataset_from_datasetv2(dataset):\n",
        "    features = (dataset['case_embedding'],\n",
        "                dataset['citation_embedding'])\n",
        "    labels = dataset['label']\n",
        "    return tf.data.Dataset.from_tensor_slices((features, labels))"
      ],
      "execution_count": null,
      "outputs": []
    },
    {
      "cell_type": "code",
      "metadata": {
        "id": "y3sbp5ZqK_Fu"
      },
      "source": [
        "clf_dataset = datasets.DatasetDict.load_from_disk(\"/content/drive/Shareddrives/CS109B-2021/final_project/data/subset/legalbert_pooled_dataset\", keep_in_memory=True)\n",
        "clf_dataset.set_format(type='tensorflow', columns=['case_embedding', 'citation_embedding', 'label'])\n",
        "\n",
        "train_dataset = clf_dataset['train']\n",
        "val_dataset = clf_dataset['validation']\n",
        "test_dataset = clf_dataset['test']"
      ],
      "execution_count": null,
      "outputs": []
    },
    {
      "cell_type": "code",
      "metadata": {
        "id": "N2nH4HQaK_Fv"
      },
      "source": [
        "train_dataset = tf_dataset_from_dataset(train_dataset)\n",
        "val_dataset = tf_dataset_from_dataset(val_dataset)\n",
        "test_dataset = tf_dataset_from_dataset(test_dataset)"
      ],
      "execution_count": null,
      "outputs": []
    },
    {
      "cell_type": "code",
      "metadata": {
        "id": "q2YWd_-0K_Fv"
      },
      "source": [
        "case_input = tf.keras.layers.Input(shape=(768,), dtype=tf.float32, name=\"case_input\")\n",
        "citation_input = tf.keras.layers.Input(shape=(768,), dtype=tf.float32, name=\"citation_input\")\n",
        "\n",
        "shared_stack = tf.keras.models.Sequential([\n",
        "    tf.keras.layers.Dense(512, activation=\"relu\"),\n",
        "    tf.keras.layers.Dropout(0.3,),\n",
        "    tf.keras.layers.Dense(256, activation=\"relu\"),\n",
        "    tf.keras.layers.Dense(128, activation=\"relu\"),\n",
        "    tf.keras.layers.Dropout(0.3,),\n",
        "    tf.keras.layers.Dense(64, activation=\"relu\"),\n",
        "], name=\"shared_stack\")\n",
        "\n",
        "case_representation = shared_stack(case_input)\n",
        "citation_representation = shared_stack(citation_input)\n",
        "concatenated = tf.keras.layers.Concatenate()([case_representation, citation_representation])\n",
        "concatenated = tf.keras.layers.Dropout(0.3,)(concatenated)\n",
        "output = tf.keras.layers.Dense(1, activation=\"sigmoid\")(concatenated)\n",
        "clf_model = tf.keras.models.Model(inputs=[case_input, citation_input], outputs=[output], name=\"legalbert_model\")"
      ],
      "execution_count": null,
      "outputs": []
    },
    {
      "cell_type": "code",
      "metadata": {
        "id": "XTg5FcBMK_Fw",
        "outputId": "d18c8079-4d8d-4c31-a526-37c2d889aae8"
      },
      "source": [
        "clf_model.summary()"
      ],
      "execution_count": null,
      "outputs": [
        {
          "output_type": "stream",
          "text": [
            "Model: \"clf_model\"\n",
            "__________________________________________________________________________________________________\n",
            "Layer (type)                    Output Shape         Param #     Connected to                     \n",
            "==================================================================================================\n",
            "case_input (InputLayer)         [(None, 768)]        0                                            \n",
            "__________________________________________________________________________________________________\n",
            "citation_input (InputLayer)     [(None, 768)]        0                                            \n",
            "__________________________________________________________________________________________________\n",
            "shared_stack (Sequential)       (None, 64)           566208      case_input[0][0]                 \n",
            "                                                                 citation_input[0][0]             \n",
            "__________________________________________________________________________________________________\n",
            "concatenate (Concatenate)       (None, 128)          0           shared_stack[0][0]               \n",
            "                                                                 shared_stack[1][0]               \n",
            "__________________________________________________________________________________________________\n",
            "dropout_2 (Dropout)             (None, 128)          0           concatenate[0][0]                \n",
            "__________________________________________________________________________________________________\n",
            "dense_4 (Dense)                 (None, 1)            129         dropout_2[0][0]                  \n",
            "==================================================================================================\n",
            "Total params: 566,337\n",
            "Trainable params: 566,337\n",
            "Non-trainable params: 0\n",
            "__________________________________________________________________________________________________\n"
          ],
          "name": "stdout"
        }
      ]
    },
    {
      "cell_type": "code",
      "metadata": {
        "id": "ct9sFGVPK_Fx"
      },
      "source": [
        "legalbert_model.compile(loss=\"bce\", metrics=[\"binary_accuracy\"],  optimizer=\"adam\")"
      ],
      "execution_count": null,
      "outputs": []
    },
    {
      "cell_type": "code",
      "metadata": {
        "id": "U0jY7BsWK_Fx"
      },
      "source": [
        "batch_size = 1024\n",
        "\n",
        "train_dataset = train_dataset.repeat().shuffle(batch_size*4).batch(batch_size).prefetch(buffer_size=tf.data.AUTOTUNE)\n",
        "val_dataset = val_dataset.repeat().batch(batch_size).prefetch(buffer_size=tf.data.AUTOTUNE)\n",
        "test_dataset = test_dataset.repeat().batch(batch_size).prefetch(buffer_size=tf.data.AUTOTUNE)"
      ],
      "execution_count": null,
      "outputs": []
    },
    {
      "cell_type": "code",
      "metadata": {
        "id": "zSglla8sK_Fx"
      },
      "source": [
        "callbacks = [tf.keras.callbacks.EarlyStopping(patience=5, restore_best_weights=True),\n",
        "             tf.keras.callbacks.ModelCheckpoint(\"../models/lbert_pooled_matching_v1\", save_best_only=True,),\n",
        "             tf.keras.callbacks.CSVLogger(\"../models/logs/lbert_pooled_matching_v1.csv\"),\n",
        "             tf.keras.callbacks.ReduceLROnPlateau(patience=3, verbose=1)\n",
        "            ]\n",
        "             "
      ],
      "execution_count": null,
      "outputs": []
    },
    {
      "cell_type": "code",
      "metadata": {
        "id": "Ed8AQ95aK_Fx",
        "outputId": "864d8b35-a21a-4382-fe87-bb2ac5b3f05f"
      },
      "source": [
        "history = clf_model.fit(\n",
        "    train_dataset,\n",
        "    steps_per_epoch=250,\n",
        "    validation_data=val_dataset,\n",
        "    validation_steps=100,\n",
        "    verbose=1,\n",
        "    epochs=15,\n",
        "    callbacks=callbacks\n",
        ")"
      ],
      "execution_count": null,
      "outputs": [
        {
          "output_type": "stream",
          "text": [
            "Epoch 1/15\n",
            " 15/250 [>.............................] - ETA: 21:05 - loss: 0.6827 - binary_accuracy: 0.5527"
          ],
          "name": "stdout"
        }
      ]
    },
    {
      "cell_type": "code",
      "metadata": {
        "id": "VAKGpcwlK_Fy"
      },
      "source": [
        ""
      ],
      "execution_count": null,
      "outputs": []
    }
  ]
}
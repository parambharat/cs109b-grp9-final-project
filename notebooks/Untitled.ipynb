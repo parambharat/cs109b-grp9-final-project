{
 "cells": [
  {
   "cell_type": "code",
   "execution_count": 1,
   "id": "improving-letter",
   "metadata": {},
   "outputs": [
    {
     "name": "stderr",
     "output_type": "stream",
     "text": [
      "/Users/bebop/anaconda3/envs/cs109b/lib/python3.8/site-packages/gensim/similarities/__init__.py:15: UserWarning: The gensim.similarities.levenshtein submodule is disabled, because the optional Levenshtein package <https://pypi.org/project/python-Levenshtein/> is unavailable. Install Levenhstein (e.g. `pip install python-Levenshtein`) to suppress this warning.\n",
      "  warnings.warn(msg)\n"
     ]
    }
   ],
   "source": [
    "import pandas as pd\n",
    "import tqdm\n",
    "import spacy\n",
    "from gensim.parsing.preprocessing import preprocess_string, DEFAULT_FILTERS"
   ]
  },
  {
   "cell_type": "code",
   "execution_count": 2,
   "id": "humanitarian-beijing",
   "metadata": {},
   "outputs": [],
   "source": [
    "fname = \"../data/subset/casebody.json\""
   ]
  },
  {
   "cell_type": "code",
   "execution_count": 3,
   "id": "effective-induction",
   "metadata": {},
   "outputs": [],
   "source": [
    "casebody_data = pd.read_json(fname, lines=True, orient=\"records\")"
   ]
  },
  {
   "cell_type": "code",
   "execution_count": 4,
   "id": "induced-electric",
   "metadata": {},
   "outputs": [
    {
     "data": {
      "text/html": [
       "<div>\n",
       "<style scoped>\n",
       "    .dataframe tbody tr th:only-of-type {\n",
       "        vertical-align: middle;\n",
       "    }\n",
       "\n",
       "    .dataframe tbody tr th {\n",
       "        vertical-align: top;\n",
       "    }\n",
       "\n",
       "    .dataframe thead th {\n",
       "        text-align: right;\n",
       "    }\n",
       "</style>\n",
       "<table border=\"1\" class=\"dataframe\">\n",
       "  <thead>\n",
       "    <tr style=\"text-align: right;\">\n",
       "      <th></th>\n",
       "      <th>id</th>\n",
       "      <th>judges</th>\n",
       "      <th>head_matter</th>\n",
       "      <th>corrections</th>\n",
       "      <th>opinions</th>\n",
       "      <th>attorneys</th>\n",
       "      <th>parties</th>\n",
       "    </tr>\n",
       "  </thead>\n",
       "  <tbody>\n",
       "    <tr>\n",
       "      <th>0</th>\n",
       "      <td>1879972</td>\n",
       "      <td>[]</td>\n",
       "      <td>Curtis HOWARD and Billy HOWARD v. STATE of Ark...</td>\n",
       "      <td></td>\n",
       "      <td>[{'text': 'George Rose Smith, Justice.\n",
       "The two...</td>\n",
       "      <td>[James M. Simpson, for appellant Curtis Howard...</td>\n",
       "      <td>None</td>\n",
       "    </tr>\n",
       "    <tr>\n",
       "      <th>1</th>\n",
       "      <td>1360455</td>\n",
       "      <td>[]</td>\n",
       "      <td>Empire Rice Mill Company v. Stone.\\nOpinion de...</td>\n",
       "      <td></td>\n",
       "      <td>[{'text': 'McCullotjch, C. J.\n",
       "Appbllánt instit...</td>\n",
       "      <td>[Cooley &amp; Adams and Rogers, Rarber ■&amp; Henry, f...</td>\n",
       "      <td>[Empire Rice Mill Company v. Stone.]</td>\n",
       "    </tr>\n",
       "    <tr>\n",
       "      <th>2</th>\n",
       "      <td>1360511</td>\n",
       "      <td>[]</td>\n",
       "      <td>Autrey v. State.\\nOpinion delivered November 1...</td>\n",
       "      <td></td>\n",
       "      <td>[{'text': 'Hart, J.\n",
       "(after stating the facts)....</td>\n",
       "      <td>[G. G. Billings, for appellant., J. 8. Utley, ...</td>\n",
       "      <td>[Autrey v. State.]</td>\n",
       "    </tr>\n",
       "    <tr>\n",
       "      <th>3</th>\n",
       "      <td>1360553</td>\n",
       "      <td>[]</td>\n",
       "      <td>Shaw v. State.\\nOpinion delivered September 25...</td>\n",
       "      <td></td>\n",
       "      <td>[{'text': 'Hart, J.\n",
       "Gid Shaw prosecuted this a...</td>\n",
       "      <td>[M. S. Cobh, for appellant., J. 8. Utley, Atto...</td>\n",
       "      <td>[Shaw v. State.]</td>\n",
       "    </tr>\n",
       "    <tr>\n",
       "      <th>4</th>\n",
       "      <td>1360493</td>\n",
       "      <td>[]</td>\n",
       "      <td>Mitchell v. State.\\nOpinion delivered October ...</td>\n",
       "      <td></td>\n",
       "      <td>[{'text': 'Hart, J.\n",
       "Pearl Mitchell' prosecutes...</td>\n",
       "      <td>[Sullins é Ivie, for appellant., J. S. TJtley,...</td>\n",
       "      <td>[Mitchell v. State.]</td>\n",
       "    </tr>\n",
       "  </tbody>\n",
       "</table>\n",
       "</div>"
      ],
      "text/plain": [
       "        id judges                                        head_matter  \\\n",
       "0  1879972     []  Curtis HOWARD and Billy HOWARD v. STATE of Ark...   \n",
       "1  1360455     []  Empire Rice Mill Company v. Stone.\\nOpinion de...   \n",
       "2  1360511     []  Autrey v. State.\\nOpinion delivered November 1...   \n",
       "3  1360553     []  Shaw v. State.\\nOpinion delivered September 25...   \n",
       "4  1360493     []  Mitchell v. State.\\nOpinion delivered October ...   \n",
       "\n",
       "  corrections                                           opinions  \\\n",
       "0              [{'text': 'George Rose Smith, Justice.\n",
       "The two...   \n",
       "1              [{'text': 'McCullotjch, C. J.\n",
       "Appbllánt instit...   \n",
       "2              [{'text': 'Hart, J.\n",
       "(after stating the facts)....   \n",
       "3              [{'text': 'Hart, J.\n",
       "Gid Shaw prosecuted this a...   \n",
       "4              [{'text': 'Hart, J.\n",
       "Pearl Mitchell' prosecutes...   \n",
       "\n",
       "                                           attorneys  \\\n",
       "0  [James M. Simpson, for appellant Curtis Howard...   \n",
       "1  [Cooley & Adams and Rogers, Rarber ■& Henry, f...   \n",
       "2  [G. G. Billings, for appellant., J. 8. Utley, ...   \n",
       "3  [M. S. Cobh, for appellant., J. 8. Utley, Atto...   \n",
       "4  [Sullins é Ivie, for appellant., J. S. TJtley,...   \n",
       "\n",
       "                                parties  \n",
       "0                                  None  \n",
       "1  [Empire Rice Mill Company v. Stone.]  \n",
       "2                    [Autrey v. State.]  \n",
       "3                      [Shaw v. State.]  \n",
       "4                  [Mitchell v. State.]  "
      ]
     },
     "execution_count": 4,
     "metadata": {},
     "output_type": "execute_result"
    }
   ],
   "source": [
    "casebody_data.head()"
   ]
  },
  {
   "cell_type": "code",
   "execution_count": 5,
   "id": "sticky-compensation",
   "metadata": {},
   "outputs": [],
   "source": [
    "nlp = spacy.load(\"en_core_web_sm\")"
   ]
  },
  {
   "cell_type": "raw",
   "id": "different-evaluation",
   "metadata": {},
   "source": [
    "other_pipes = [pipe for pipe in nlp.pipe_names if pipe not in [\"tagger\", 'attribute_ruler', \"lemmatizer\"]]\n",
    "nlp.disable_pipes(*other_pipes)\n",
    "nlp.pipe_names"
   ]
  },
  {
   "cell_type": "code",
   "execution_count": 7,
   "id": "marked-anthropology",
   "metadata": {},
   "outputs": [],
   "source": [
    "casetext = casebody_data[\"head_matter\"] + \"\\n\"+ casebody_data[\"opinions\"].map(lambda x: \" \".join(y.get(\"text\", \"\") for y in x))\n"
   ]
  },
  {
   "cell_type": "code",
   "execution_count": 10,
   "id": "killing-weapon",
   "metadata": {},
   "outputs": [],
   "source": [
    "del casebody_data"
   ]
  },
  {
   "cell_type": "code",
   "execution_count": 8,
   "id": "accessible-first",
   "metadata": {},
   "outputs": [],
   "source": [
    "sample_casetext = casetext[:100]"
   ]
  },
  {
   "cell_type": "code",
   "execution_count": 21,
   "id": "documented-attachment",
   "metadata": {},
   "outputs": [],
   "source": []
  },
  {
   "cell_type": "code",
   "execution_count": 23,
   "id": "instant-bread",
   "metadata": {
    "scrolled": true
   },
   "outputs": [
    {
     "name": "stderr",
     "output_type": "stream",
     "text": [
      "<ipython-input-23-33b626d05239>:3: TqdmDeprecationWarning: This function will be removed in tqdm==5.0.0\n",
      "Please use `tqdm.notebook.tqdm` instead of `tqdm.tqdm_notebook`\n",
      "  for doc in tqdm.tqdm_notebook(nlp.pipe(casetext,batch_size=10, n_process=-1), total=len(casetext)):\n"
     ]
    },
    {
     "data": {
      "application/vnd.jupyter.widget-view+json": {
       "model_id": "ea1f00faf6cb4e27ba764ecd1cf1d366",
       "version_major": 2,
       "version_minor": 0
      },
      "text/plain": [
       "  0%|          | 0/265773 [00:00<?, ?it/s]"
      ]
     },
     "metadata": {},
     "output_type": "display_data"
    }
   ],
   "source": [
    "with open(\"../data/subset/caselines.txt\", \"w+\") as outfile:\n",
    "    tags = frozenset([\"ADJ\",\"ADV\",\"NOUN\",\"PRON\",\"PROPN\"])\n",
    "    for doc in tqdm.tqdm_notebook(nlp.pipe(casetext,batch_size=10, n_process=-1), total=len(casetext)):\n",
    "        tokens = []\n",
    "        for tok in doc:\n",
    "            if tok.pos_ in tags and tok.is_alpha:\n",
    "                tokens.append(tok.lemma_.lower())\n",
    "        tokens = \" \".join(tokens)\n",
    "        tokens = preprocess_string(tokens,DEFAULT_FILTERS[:-1])\n",
    "        outline = \" \".join(tokens) + \"\\n\"\n",
    "        outfile.write(outline)"
   ]
  },
  {
   "cell_type": "code",
   "execution_count": null,
   "id": "greatest-bracket",
   "metadata": {},
   "outputs": [],
   "source": [
    "docker run \\\n",
    "    --name caselaw-neo4j \\\n",
    "    -p7474:7474 -p7687:7687 \\\n",
    "    -d \\\n",
    "    -v $PWD/neo4j/data:/data \\\n",
    "    -v $PWD/neo4j/logs:/logs \\\n",
    "    -v $PWD/neo4j/import:/var/lib/neo4j/import \\\n",
    "    -v $PWD/neo4j/plugins:/plugins \\\n",
    "    -e NEO4J_apoc_export_file_enabled=true \\\n",
    "    -e NEO4J_apoc_import_file_enabled=true \\\n",
    "    -e NEO4J_apoc_import_file_use__neo4j__config=true \\\n",
    "    --env NEO4J_AUTH='neo4j/zaq!0pl' \\\n",
    "    --env NEO4JLABS_PLUGINS='[\"apoc\", \"graph-data-science\"]' \\\n",
    "    neo4j:latest\n",
    "                            \n",
    "                            \n",
    "CREATE CONSTRAINT jurisdictionId IF NOT EXISTS on (jur:Jurisdiction) ASSERT jur.id IS UNIQUE;\n",
    "LOAD CSV WITH HEADERS FROM 'file:///jurisdictions.csv' AS row\n",
    "WITH row\n",
    "MERGE (jurisdiction:Jurisdiction {id:toInteger(row.id)})\n",
    "ON CREATE SET jurisdiction.name = row.name_long,\n",
    "jurisdiction.url = row.url;\n",
    "\n",
    "CREATE CONSTRAINT courtId IF NOT EXISTS on (cou:Court) ASSERT cou.id IS UNIQUE;\n",
    "LOAD CSV WITH HEADERS FROM 'file:///courts.csv' AS row\n",
    "WITH row\n",
    "MERGE (court:Court {id: toInteger(row.id)})\n",
    "ON CREATE SET court.name = row.name,\n",
    "court.url = row.url;\n",
    "\n",
    "CREATE CONSTRAINT reporterId IF NOT EXISTS on (rep:Reporter) ASSERT rep.id IS UNIQUE;\n",
    "LOAD CSV WITH HEADERS FROM 'file:///reporters.csv' AS row\n",
    "WITH row\n",
    "MERGE (reporter:Reporter {id: toInteger(row.id)})\n",
    "ON CREATE SET reporter.name = row.full_name,\n",
    "reporter.url = row.url;\n",
    "\n",
    "CREATE CONSTRAINT volumeId IF NOT EXISTS on (vol:Volume) ASSERT vol.id IS UNIQUE;\n",
    "LOAD CSV WITH HEADERS FROM 'file:///volumes.csv' AS row\n",
    "WITH row\n",
    "MERGE (volume:Volume {id: toInteger(row.volume_number)})\n",
    "ON CREATE SET volume.barcode = row.barcode,\n",
    "volume.url = volume.url;\n",
    "\n",
    "CREATE CONSTRAINT caselawId IF NOT EXISTS on (cas:Caselaw) ASSERT cas.id IS UNIQUE;\n",
    ":auto USING PERIODIC COMMIT 1000\n",
    "LOAD CSV WITH HEADERS FROM 'file:///cases.csv' AS row\n",
    "WITH row\n",
    "MATCH (volume:Volume {id: toInteger(row.volume_id)})\n",
    "MATCH (court:Court {id: toInteger(row.court_id)})\n",
    "MATCH (reporter:Reporter {id: toInteger(row.reporter_id)})\n",
    "MATCH (jurisdiction:Jurisdiction {id: toInteger(row.jurisdiction_id)})\n",
    "MERGE (caselaw:Caselaw {id: toInteger(row.id)})\n",
    "MERGE (caselaw) -[:REPORTED_BY]->(reporter)\n",
    "MERGE (caselaw) -[:HEARD_BY]->(court)\n",
    "MERGE (caselaw) -[:IN_VOLUME]->(volume)\n",
    "MERGE (caselaw) -[:UNDER_JURISIDICTION]->(jurisdiction)\n",
    "on CREATE SET caselaw.decision_date = datetime(row.decision_date),\n",
    "caselaw.name = row.name,\n",
    "caselaw.url = row.url;\n",
    "\n",
    ":auto USING PERIODIC COMMIT 1000\n",
    "LOAD CSV WITH HEADERS FROM 'file:///citations.csv' AS row\n",
    "with row\n",
    "MATCH (case1: Caselaw {id: toInteger(row.src)})\n",
    "MATCH (case2: Caselaw {id: toInteger(row.dst)})\n",
    "MERGE (case1) -[:CITED]-> (case2);\n",
    "\n",
    "\n",
    "\n",
    "\n",
    "\n",
    "//Queries\n",
    "MATCH g=(j1:Jurisdiction)<-[:UNDER_JURISIDICTION]-(c1:Caselaw)<-[:CITED]-(c2),\n",
    "(c1)-[:HEARD_BY]->(court:Court)\n",
    "RETURN j1.name as Jur, court.name as court, c1.name as caselaw, count(DISTINCT c2) as citations\n",
    "ORDER BY citations DESC\n",
    "LIMIT 25;\n",
    "\n",
    "\n",
    "\n",
    "MATCH g=(j1:Jurisdiction)<-[:UNDER_JURISIDICTION]-(c1:Caselaw)<-[:CITED]-(c2)\n",
    "with j1, c1, count(DISTINCT c2) as citations\n",
    "ORDER BY citations desc\n",
    "WITH j1.name as Jur, collect({caselaw: c1.name, citations: citations}) as top_k\n",
    "RETURN Jur, top_k[0..5]\n",
    "ORDER BY Jur DESC\n",
    "LIMIT 5;\n",
    "\n",
    "\n",
    "\n",
    "CALL gds.alpha.degree.stream({\n",
    "  nodeProjection: 'Caselaw',\n",
    "  relationshipProjection: {\n",
    "    Cited: {\n",
    "      type: 'CITED',\n",
    "      orientation: 'REVERSE'\n",
    "    }\n",
    "  }\n",
    "})\n",
    "YIELD nodeId, score\n",
    "RETURN gds.util.asNode(nodeId).name AS name, score AS citations\n",
    "ORDER BY citations DESC\n",
    "\n",
    "\n",
    "//top cases by jurisdiction and court\n",
    "MATCH g=(j1:Jurisdiction)<-[:UNDER_JURISIDICTION]-(c1:Caselaw)<-[:CITED]-(c2),\n",
    "(c1)-[:HEARD_BY]->(co:Court)\n",
    "with j1, c1, co, count(DISTINCT c2) as citations\n",
    "ORDER BY citations desc\n",
    "WITH j1.name as Jur, co.name as court, collect(c1.id) as top_k\n",
    "RETURN Jur, court, top_k[0..10]\n",
    "ORDER BY Jur DESC;\n",
    "\n",
    "//count of cases by jurisdiction and court\n",
    "MATCH g=(j1:Jurisdiction)<-[:UNDER_JURISIDICTION]-(c1:Caselaw)-[:HEARD_BY]->(co:Court)\n",
    "with j1, c1, co, collect(c1.id) as case_id\n",
    "WITH j1.name as Jur, co.name as court, count(DISTINCT case_id) as num_cases\n",
    "RETURN Jur, court, num_cases\n",
    "ORDER BY num_cases DESC;\n",
    "\n",
    "\n",
    "GIVEN A SINGLE STATE FIND STATES AND THEIR CORRESPONDING CITATION COUNTS\n",
    "\n",
    "\n",
    "//count of cases in a court and other courts they cite to\n",
    "MATCH (j1:Court)<-[:HEARD_BY]-(c1:Caselaw)-[:CITED]-(c2:Caselaw)-[:HEARD_BY]->(j2:Court)\n",
    "WITH j1, j2, count(DISTINCT c2) as cids\n",
    "ORDER BY cids DESC\n",
    "RETURN j1.name as src_court, collect(j2.name) as dest_court, cids as cited_cases;\n",
    "\n",
    "//count of cases by jurisdiction\n",
    "MATCH g=(j1:Jurisdiction)<-[:UNDER_JURISIDICTION]-(c1:Caselaw)<-[:CITED]-(c2)\n",
    "with j1, c1, count(DISTINCT c2) as citations\n",
    "ORDER BY citations desc\n",
    "WITH j1.name as Jur, collect(c1.name)[0] as caselaw, collect( citations)[0] as citations\n",
    "RETURN Jur, caselaw, citations\n",
    "ORDER BY Jur ASC\n",
    "LIMIT 5;"
   ]
  }
 ],
 "metadata": {
  "kernelspec": {
   "display_name": "Python 3",
   "language": "python",
   "name": "python3"
  },
  "language_info": {
   "codemirror_mode": {
    "name": "ipython",
    "version": 3
   },
   "file_extension": ".py",
   "mimetype": "text/x-python",
   "name": "python",
   "nbconvert_exporter": "python",
   "pygments_lexer": "ipython3",
   "version": "3.8.8"
  }
 },
 "nbformat": 4,
 "nbformat_minor": 5
}

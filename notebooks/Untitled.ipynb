{
 "cells": [
  {
   "cell_type": "code",
   "execution_count": 1,
   "id": "improving-letter",
   "metadata": {},
   "outputs": [
    {
     "name": "stderr",
     "output_type": "stream",
     "text": [
      "/Users/bebop/anaconda3/envs/cs109b/lib/python3.8/site-packages/gensim/similarities/__init__.py:15: UserWarning: The gensim.similarities.levenshtein submodule is disabled, because the optional Levenshtein package <https://pypi.org/project/python-Levenshtein/> is unavailable. Install Levenhstein (e.g. `pip install python-Levenshtein`) to suppress this warning.\n",
      "  warnings.warn(msg)\n"
     ]
    }
   ],
   "source": [
    "import pandas as pd\n",
    "import tqdm\n",
    "import spacy\n",
    "from gensim.parsing.preprocessing import preprocess_string, DEFAULT_FILTERS"
   ]
  },
  {
   "cell_type": "code",
   "execution_count": 2,
   "id": "humanitarian-beijing",
   "metadata": {},
   "outputs": [],
   "source": [
    "fname = \"../data/subset/casebody.json\""
   ]
  },
  {
   "cell_type": "code",
   "execution_count": 3,
   "id": "effective-induction",
   "metadata": {},
   "outputs": [],
   "source": [
    "casebody_data = pd.read_json(fname, lines=True, orient=\"records\")"
   ]
  },
  {
   "cell_type": "code",
   "execution_count": 4,
   "id": "induced-electric",
   "metadata": {},
   "outputs": [
    {
     "data": {
      "text/html": [
       "<div>\n",
       "<style scoped>\n",
       "    .dataframe tbody tr th:only-of-type {\n",
       "        vertical-align: middle;\n",
       "    }\n",
       "\n",
       "    .dataframe tbody tr th {\n",
       "        vertical-align: top;\n",
       "    }\n",
       "\n",
       "    .dataframe thead th {\n",
       "        text-align: right;\n",
       "    }\n",
       "</style>\n",
       "<table border=\"1\" class=\"dataframe\">\n",
       "  <thead>\n",
       "    <tr style=\"text-align: right;\">\n",
       "      <th></th>\n",
       "      <th>id</th>\n",
       "      <th>judges</th>\n",
       "      <th>head_matter</th>\n",
       "      <th>corrections</th>\n",
       "      <th>opinions</th>\n",
       "      <th>attorneys</th>\n",
       "      <th>parties</th>\n",
       "    </tr>\n",
       "  </thead>\n",
       "  <tbody>\n",
       "    <tr>\n",
       "      <th>0</th>\n",
       "      <td>1879972</td>\n",
       "      <td>[]</td>\n",
       "      <td>Curtis HOWARD and Billy HOWARD v. STATE of Ark...</td>\n",
       "      <td></td>\n",
       "      <td>[{'text': 'George Rose Smith, Justice.\n",
       "The two...</td>\n",
       "      <td>[James M. Simpson, for appellant Curtis Howard...</td>\n",
       "      <td>None</td>\n",
       "    </tr>\n",
       "    <tr>\n",
       "      <th>1</th>\n",
       "      <td>1360455</td>\n",
       "      <td>[]</td>\n",
       "      <td>Empire Rice Mill Company v. Stone.\\nOpinion de...</td>\n",
       "      <td></td>\n",
       "      <td>[{'text': 'McCullotjch, C. J.\n",
       "Appbllánt instit...</td>\n",
       "      <td>[Cooley &amp; Adams and Rogers, Rarber ■&amp; Henry, f...</td>\n",
       "      <td>[Empire Rice Mill Company v. Stone.]</td>\n",
       "    </tr>\n",
       "    <tr>\n",
       "      <th>2</th>\n",
       "      <td>1360511</td>\n",
       "      <td>[]</td>\n",
       "      <td>Autrey v. State.\\nOpinion delivered November 1...</td>\n",
       "      <td></td>\n",
       "      <td>[{'text': 'Hart, J.\n",
       "(after stating the facts)....</td>\n",
       "      <td>[G. G. Billings, for appellant., J. 8. Utley, ...</td>\n",
       "      <td>[Autrey v. State.]</td>\n",
       "    </tr>\n",
       "    <tr>\n",
       "      <th>3</th>\n",
       "      <td>1360553</td>\n",
       "      <td>[]</td>\n",
       "      <td>Shaw v. State.\\nOpinion delivered September 25...</td>\n",
       "      <td></td>\n",
       "      <td>[{'text': 'Hart, J.\n",
       "Gid Shaw prosecuted this a...</td>\n",
       "      <td>[M. S. Cobh, for appellant., J. 8. Utley, Atto...</td>\n",
       "      <td>[Shaw v. State.]</td>\n",
       "    </tr>\n",
       "    <tr>\n",
       "      <th>4</th>\n",
       "      <td>1360493</td>\n",
       "      <td>[]</td>\n",
       "      <td>Mitchell v. State.\\nOpinion delivered October ...</td>\n",
       "      <td></td>\n",
       "      <td>[{'text': 'Hart, J.\n",
       "Pearl Mitchell' prosecutes...</td>\n",
       "      <td>[Sullins é Ivie, for appellant., J. S. TJtley,...</td>\n",
       "      <td>[Mitchell v. State.]</td>\n",
       "    </tr>\n",
       "  </tbody>\n",
       "</table>\n",
       "</div>"
      ],
      "text/plain": [
       "        id judges                                        head_matter  \\\n",
       "0  1879972     []  Curtis HOWARD and Billy HOWARD v. STATE of Ark...   \n",
       "1  1360455     []  Empire Rice Mill Company v. Stone.\\nOpinion de...   \n",
       "2  1360511     []  Autrey v. State.\\nOpinion delivered November 1...   \n",
       "3  1360553     []  Shaw v. State.\\nOpinion delivered September 25...   \n",
       "4  1360493     []  Mitchell v. State.\\nOpinion delivered October ...   \n",
       "\n",
       "  corrections                                           opinions  \\\n",
       "0              [{'text': 'George Rose Smith, Justice.\n",
       "The two...   \n",
       "1              [{'text': 'McCullotjch, C. J.\n",
       "Appbllánt instit...   \n",
       "2              [{'text': 'Hart, J.\n",
       "(after stating the facts)....   \n",
       "3              [{'text': 'Hart, J.\n",
       "Gid Shaw prosecuted this a...   \n",
       "4              [{'text': 'Hart, J.\n",
       "Pearl Mitchell' prosecutes...   \n",
       "\n",
       "                                           attorneys  \\\n",
       "0  [James M. Simpson, for appellant Curtis Howard...   \n",
       "1  [Cooley & Adams and Rogers, Rarber ■& Henry, f...   \n",
       "2  [G. G. Billings, for appellant., J. 8. Utley, ...   \n",
       "3  [M. S. Cobh, for appellant., J. 8. Utley, Atto...   \n",
       "4  [Sullins é Ivie, for appellant., J. S. TJtley,...   \n",
       "\n",
       "                                parties  \n",
       "0                                  None  \n",
       "1  [Empire Rice Mill Company v. Stone.]  \n",
       "2                    [Autrey v. State.]  \n",
       "3                      [Shaw v. State.]  \n",
       "4                  [Mitchell v. State.]  "
      ]
     },
     "execution_count": 4,
     "metadata": {},
     "output_type": "execute_result"
    }
   ],
   "source": [
    "casebody_data.head()"
   ]
  },
  {
   "cell_type": "code",
   "execution_count": 5,
   "id": "sticky-compensation",
   "metadata": {},
   "outputs": [],
   "source": [
    "nlp = spacy.load(\"en_core_web_sm\")"
   ]
  },
  {
   "cell_type": "raw",
   "id": "different-evaluation",
   "metadata": {},
   "source": [
    "other_pipes = [pipe for pipe in nlp.pipe_names if pipe not in [\"tagger\", 'attribute_ruler', \"lemmatizer\"]]\n",
    "nlp.disable_pipes(*other_pipes)\n",
    "nlp.pipe_names"
   ]
  },
  {
   "cell_type": "code",
   "execution_count": 7,
   "id": "marked-anthropology",
   "metadata": {},
   "outputs": [],
   "source": [
    "casetext = casebody_data[\"head_matter\"] + \"\\n\"+ casebody_data[\"opinions\"].map(lambda x: \" \".join(y.get(\"text\", \"\") for y in x))\n"
   ]
  },
  {
   "cell_type": "code",
   "execution_count": 10,
   "id": "killing-weapon",
   "metadata": {},
   "outputs": [],
   "source": [
    "del casebody_data"
   ]
  },
  {
   "cell_type": "code",
   "execution_count": 8,
   "id": "accessible-first",
   "metadata": {},
   "outputs": [],
   "source": [
    "sample_casetext = casetext[:100]"
   ]
  },
  {
   "cell_type": "code",
   "execution_count": 21,
   "id": "documented-attachment",
   "metadata": {},
   "outputs": [],
   "source": []
  },
  {
   "cell_type": "code",
   "execution_count": 23,
   "id": "instant-bread",
   "metadata": {},
   "outputs": [
    {
     "name": "stderr",
     "output_type": "stream",
     "text": [
      "<ipython-input-23-33b626d05239>:3: TqdmDeprecationWarning: This function will be removed in tqdm==5.0.0\n",
      "Please use `tqdm.notebook.tqdm` instead of `tqdm.tqdm_notebook`\n",
      "  for doc in tqdm.tqdm_notebook(nlp.pipe(casetext,batch_size=10, n_process=-1), total=len(casetext)):\n"
     ]
    },
    {
     "data": {
      "application/vnd.jupyter.widget-view+json": {
       "model_id": "ea1f00faf6cb4e27ba764ecd1cf1d366",
       "version_major": 2,
       "version_minor": 0
      },
      "text/plain": [
       "  0%|          | 0/265773 [00:00<?, ?it/s]"
      ]
     },
     "metadata": {},
     "output_type": "display_data"
    }
   ],
   "source": [
    "with open(\"../data/subset/caselines.txt\", \"w+\") as outfile:\n",
    "    tags = frozenset([\"ADJ\",\"ADV\",\"NOUN\",\"PRON\",\"PROPN\"])\n",
    "    for doc in tqdm.tqdm_notebook(nlp.pipe(casetext,batch_size=10, n_process=-1), total=len(casetext)):\n",
    "        tokens = []\n",
    "        for tok in doc:\n",
    "            if tok.pos_ in tags and tok.is_alpha:\n",
    "                tokens.append(tok.lemma_.lower())\n",
    "        tokens = \" \".join(tokens)\n",
    "        tokens = preprocess_string(tokens,DEFAULT_FILTERS[:-1])\n",
    "        outline = \" \".join(tokens) + \"\\n\"\n",
    "        outfile.write(outline)"
   ]
  },
  {
   "cell_type": "code",
   "execution_count": null,
   "id": "greatest-bracket",
   "metadata": {},
   "outputs": [],
   "source": []
  }
 ],
 "metadata": {
  "kernelspec": {
   "display_name": "Python 3",
   "language": "python",
   "name": "python3"
  },
  "language_info": {
   "codemirror_mode": {
    "name": "ipython",
    "version": 3
   },
   "file_extension": ".py",
   "mimetype": "text/x-python",
   "name": "python",
   "nbconvert_exporter": "python",
   "pygments_lexer": "ipython3",
   "version": "3.8.8"
  }
 },
 "nbformat": 4,
 "nbformat_minor": 5
}

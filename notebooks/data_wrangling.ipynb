{
 "cells": [
  {
   "cell_type": "markdown",
   "id": "junior-organization",
   "metadata": {},
   "source": [
    "# Literature Review and Preliminary Exploratory Data Analysis"
   ]
  },
  {
   "cell_type": "markdown",
   "id": "faced-picture",
   "metadata": {},
   "source": [
    "## Setup and Imports"
   ]
  },
  {
   "cell_type": "code",
   "execution_count": 1,
   "id": "effective-fighter",
   "metadata": {},
   "outputs": [],
   "source": [
    "%matplotlib inline\n",
    "import os\n",
    "import requests\n",
    "import tqdm\n",
    "\n",
    "import zipfile\n",
    "import lzma\n",
    "import json\n",
    "\n",
    "import gzip\n",
    "import csv\n",
    "\n",
    "import pandas as pd\n",
    "\n",
    "from matplotlib import pylab as plt\n",
    "import seaborn as sns\n",
    "\n",
    "from itertools import islice"
   ]
  },
  {
   "cell_type": "markdown",
   "id": "handy-chick",
   "metadata": {},
   "source": [
    "### Data Description\n",
    "\n",
    "\n",
    "> CAP includes all official, book-published United States case law — every volume designated as an official report of decisions by a court within the United States.\n",
    ">\n",
    ">Each volume has been converted into structured, case-level data broken out by majority and dissenting opinion, with >human-checked metadata for party names, docket number, citation, and date.\n",
    ">\n",
    "> -- <cite>[Case.law][1]</cite>\n",
    "\n",
    "In the scope of this analysis we use the latest open case text from from bulk data exxports of open jurisdictions in the dataset. This subset consists of caselaws and metadata for the following four Jurisdictions:\n",
    "\n",
    "1. ark - Arkansas\n",
    "2. ill - Illinois\n",
    "3. nc - North Carolina\n",
    "4. nm - New Mexico\n",
    "\n",
    "These were downloaded from [here][2].\n",
    "\n",
    "\n",
    "**Citation Graph**\n",
    "\n",
    "In addition to the case text we also use the case citation graph that links extracted, verified and unambiguous  citations to cases within the dataset. We use the citation graph from [2021-04-20][3] for this study. The citation graph is present in the form of a edgelist linking one case_id to multiple case_ids. It also contains all the references to all nodes from the case.law dataset. We truncate the graph based on case_ids we found in the case texts for each jurisdiction during preprocessing.\n",
    "\n",
    "[1]: https://case.law/about/\n",
    "[2]: https://case.law/download/bulk_exports/latest/by_jurisdiction/case_text_open/\n",
    "[3]: https://case.law/download/citation_graph/2021-04-20/\n"
   ]
  },
  {
   "cell_type": "code",
   "execution_count": 2,
   "id": "unlikely-warning",
   "metadata": {},
   "outputs": [],
   "source": [
    "##filename declarations\n",
    "\n",
    "base_url = \"https://case.law/download/bulk_exports/latest/by_jurisdiction/case_text_open/\"\n",
    "base_folder = \"../data\"\n",
    "folder_names = [\"ark\", \"ill\", \"nc\", \"nm\"]\n",
    "for item in folder_names:\n",
    "    os.makedirs(f\"{base_folder}/{item}\", exist_ok=True)\n",
    "\n",
    "def get_url_loc(file_name, base_url=base_url, base_folder=base_folder):\n",
    "    url = os.path.join(base_url, file_name)\n",
    "    file_loc = os.path.join(base_folder, file_name)\n",
    "    return url, file_loc    \n",
    "    \n",
    "    \n",
    "text_file_names = [f\"{item}/{item}_text.zip\" for item in folder_names]\n",
    "xml_file_names = [f\"{item}/{item}_xml.zip\" for item in folder_names]\n",
    "\n",
    "text_file_url_locs = list(map(get_url_loc, text_file_names))\n",
    "xml_file_url_locs = list(map(get_url_loc, xml_file_names))"
   ]
  },
  {
   "cell_type": "raw",
   "id": "requested-things",
   "metadata": {},
   "source": [
    "##downloads\n",
    "\n",
    "!wget -c https://case.law/download/citation_graph/2021-04-20/citations.csv.gz -P ./data/\n",
    "!wget -c https://case.law/download/citation_graph/2021-04-20/metadata.csv.gz -P ./data/\n",
    "    \n",
    "for url, file_name in tqdm.tqdm_notebook(text_file_url_locs, total=len(text_file_names)):\n",
    "    response = requests.get(url, stream=True)\n",
    "    if response.status_code == 200:\n",
    "        with open(file_name, \"wb\") as outfile:\n",
    "            for chunk in response.iter_content(chunk_size=128):\n",
    "                outfile.write(chunk)\n",
    "                \n",
    "for url, file_name in tqdm.tqdm_notebook(xml_file_url_locs, total=len(xml_file_names)):\n",
    "    response = requests.get(url, stream=True)\n",
    "    if response.status_code == 200:\n",
    "        with open(file_name, \"wb\") as outfile:\n",
    "            for chunk in response.iter_content(chunk_size=128):\n",
    "                outfile.write(chunk)\n",
    "                \n"
   ]
  },
  {
   "cell_type": "markdown",
   "id": "engaged-affect",
   "metadata": {},
   "source": [
    "## Data Loading and Clean-up"
   ]
  },
  {
   "cell_type": "code",
   "execution_count": 3,
   "id": "operational-validation",
   "metadata": {},
   "outputs": [],
   "source": [
    "def load_cases(fnames, field=\"id\"):\n",
    "    cases = []\n",
    "    for fname in fnames:\n",
    "        with zipfile.ZipFile(fname, 'r') as zip_archive:\n",
    "            xz_path = next(path for path in zip_archive.namelist() if path.endswith('/data.jsonl.xz'))\n",
    "            with zip_archive.open(xz_path) as xz_archive, lzma.open(xz_archive) as jsonlines:\n",
    "                for line in tqdm.tqdm_notebook(jsonlines):\n",
    "                    record = json.loads(str(line, 'utf-8'))\n",
    "                    if field:\n",
    "                        record = {field: record[field]}\n",
    "                    cases.append(record)\n",
    "    return pd.DataFrame(cases)\n",
    "\n",
    "def read_citation_graph(fname, case_ids):\n",
    "    csvobj = csv.reader(gzip.open(fname, mode='rt'),delimiter = ',',quotechar=\"'\")\n",
    "    graph = []\n",
    "    for item in tqdm.tqdm_notebook(csvobj):\n",
    "        head = item[0]\n",
    "        try:\n",
    "            head = int(head)\n",
    "        except ValueError:\n",
    "            head = None\n",
    "        if head in case_ids:\n",
    "            graph.append(item)\n",
    "    citation_graph = pd.DataFrame(graph)\n",
    "    citation_graph = citation_graph.set_index(0)\n",
    "    citation_graph = citation_graph.apply(lambda x: x.dropna().tolist(), axis=1)\n",
    "    return citation_graph\n",
    "\n",
    "\n",
    "def read_citiation_metadata(fname, case_ids):\n",
    "    csvobj = csv.DictReader(gzip.open(fname, mode='rt'),delimiter = ',')\n",
    "    graph_meta = []\n",
    "    for item in tqdm.tqdm_notebook(csvobj):\n",
    "        head = item[\"id\"]\n",
    "        try:\n",
    "            head = int(head)\n",
    "        except ValueError:\n",
    "            head = None\n",
    "        if head in case_ids:\n",
    "            graph_meta.append(item)\n",
    "    graph_meta = pd.DataFrame(graph_meta).set_index(\"id\")\n",
    "    return graph_meta"
   ]
  },
  {
   "cell_type": "code",
   "execution_count": 29,
   "id": "medieval-volleyball",
   "metadata": {},
   "outputs": [
    {
     "name": "stderr",
     "output_type": "stream",
     "text": [
      "<ipython-input-3-7821ca5bd822>:7: TqdmDeprecationWarning: This function will be removed in tqdm==5.0.0\n",
      "Please use `tqdm.notebook.tqdm` instead of `tqdm.tqdm_notebook`\n",
      "  for line in tqdm.tqdm_notebook(jsonlines):\n"
     ]
    },
    {
     "data": {
      "application/vnd.jupyter.widget-view+json": {
       "model_id": "b9faf3a963084cb595b6e7c360f8d04c",
       "version_major": 2,
       "version_minor": 0
      },
      "text/plain": [
       "0it [00:00, ?it/s]"
      ]
     },
     "metadata": {},
     "output_type": "display_data"
    },
    {
     "data": {
      "application/vnd.jupyter.widget-view+json": {
       "model_id": "4a2c070e9a984d6488ae7c9d12ef8a9f",
       "version_major": 2,
       "version_minor": 0
      },
      "text/plain": [
       "0it [00:00, ?it/s]"
      ]
     },
     "metadata": {},
     "output_type": "display_data"
    },
    {
     "data": {
      "application/vnd.jupyter.widget-view+json": {
       "model_id": "c4fbdd8c997143cc96b1cc9ca496e116",
       "version_major": 2,
       "version_minor": 0
      },
      "text/plain": [
       "0it [00:00, ?it/s]"
      ]
     },
     "metadata": {},
     "output_type": "display_data"
    },
    {
     "data": {
      "application/vnd.jupyter.widget-view+json": {
       "model_id": "b30a41ca28054b1a8ffce6da8c4d5cfa",
       "version_major": 2,
       "version_minor": 0
      },
      "text/plain": [
       "0it [00:00, ?it/s]"
      ]
     },
     "metadata": {},
     "output_type": "display_data"
    }
   ],
   "source": [
    "_, text_fnames= zip(*text_file_url_locs)\n",
    "cases_data = load_cases(text_fnames, field=None)"
   ]
  },
  {
   "cell_type": "code",
   "execution_count": 30,
   "id": "creative-acting",
   "metadata": {},
   "outputs": [
    {
     "name": "stdout",
     "output_type": "stream",
     "text": [
      "Total number of cases in the raw dataset : 358706\n",
      "Total number of columns in the raw dataset : 17\n"
     ]
    }
   ],
   "source": [
    "print(f\"Total number of cases in the raw dataset : {len(cases_data)}\")\n",
    "print(f\"Total number of columns in the raw dataset : {len(cases_data.columns)}\")"
   ]
  },
  {
   "cell_type": "code",
   "execution_count": 31,
   "id": "genetic-milan",
   "metadata": {
    "scrolled": true
   },
   "outputs": [
    {
     "name": "stdout",
     "output_type": "stream",
     "text": [
      "{\n",
      "  \"id\": 1869772,\n",
      "  \"url\": \"https://api.capapi.org/v1/cases/1869772/\",\n",
      "  \"name\": \"James Joseph STANDLEY, Jr. v. STATE of Arkansas\",\n",
      "  \"name_abbreviation\": \"Standley v. State\",\n",
      "  \"decision_date\": \"1987-11-09\",\n",
      "  \"docket_number\": \"\",\n",
      "  \"first_page\": \"517\",\n",
      "  \"last_page\": \"518\",\n",
      "  \"citations\": [\n",
      "    {\n",
      "      \"cite\": \"293 Ark. 517\",\n",
      "      \"type\": \"official\"\n",
      "    },\n",
      "    {\n",
      "      \"cite\": \"738 S.W.2d 423\",\n",
      "      \"type\": \"parallel\"\n",
      "    }\n",
      "  ],\n",
      "  \"volume\": {\n",
      "    \"volume_number\": \"293\",\n",
      "    \"barcode\": \"32044078577145\",\n",
      "    \"url\": \"https://api.capapi.org/v1/volumes/32044078577145/\"\n",
      "  },\n",
      "  \"reporter\": {\n",
      "    \"id\": 368,\n",
      "    \"full_name\": \"Arkansas Reports\",\n",
      "    \"url\": \"https://api.capapi.org/v1/reporters/368/\"\n",
      "  },\n",
      "  \"court\": {\n",
      "    \"name_abbreviation\": \"Ark.\",\n",
      "    \"name\": \"Arkansas Supreme Court\",\n",
      "    \"id\": 8808,\n",
      "    \"slug\": \"ark\",\n",
      "    \"url\": \"https://api.capapi.org/v1/courts/ark/\"\n",
      "  },\n",
      "  \"jurisdiction\": {\n",
      "    \"name\": \"Ark.\",\n",
      "    \"id\": 34,\n",
      "    \"slug\": \"ark\",\n",
      "    \"name_long\": \"Arkansas\",\n",
      "    \"url\": \"https://api.capapi.org/v1/jurisdictions/ark/\",\n",
      "    \"whitelisted\": true\n",
      "  },\n",
      "  \"cites_to\": [\n",
      "    {\n",
      "      \"cite\": \"738 S.W.2d 423\"\n",
      "    }\n",
      "  ],\n",
      "  \"frontend_url\": \"https://cite.capapi.org/ark/293/517/\",\n",
      "  \"preview\": [],\n",
      "  \"casebody\": {\n",
      "    \"status\": \"ok\",\n",
      "    \"data\": {\n",
      "      \"judges\": [],\n",
      "      \"head_matter\": \"James Joseph STANDLEY, Jr. v. STATE of Arkansas\\n738 S.W.2d 423\\nSupreme Court of Arkansas\\nOpinion delivered November 9, 1987\\nBilly J. Allred, for appellant.\\nNo response.\",\n",
      "      \"corrections\": \"\",\n",
      "      \"opinions\": [\n",
      "        {\n",
      "          \"text\": \"Per Curiam.\\nAppellant, James Joseph Standley, Jr., by his attorney, has filed for a rule on the clerk. His attorney, Billy J. Allred, admits that the record was tendered late due to a mistake on his part.\\nWe find that such error, admittedly made by the attorney for a criminal defendant, is good cause to grant the motion. See our Per Curiam opinion dated February 5, 1979, In Re: Belated Appeals in Criminal Cases.\\nA copy of this opinion will be forwarded to the Committee on Professional Conduct.\",\n",
      "          \"author\": \"Per Curiam.\",\n",
      "          \"type\": \"majority\"\n",
      "        }\n",
      "      ],\n",
      "      \"attorneys\": [\n",
      "        \"Billy J. Allred, for appellant.\",\n",
      "        \"No response.\"\n",
      "      ]\n",
      "    }\n",
      "  }\n",
      "}\n"
     ]
    }
   ],
   "source": [
    "##view the first case\n",
    "sample_case = cases_data.iloc[0,:].to_json()\n",
    "#fix for escape chars\n",
    "sample_case = json.dumps(json.loads(sample_case), indent=2)\n",
    "print(sample_case)"
   ]
  },
  {
   "cell_type": "code",
   "execution_count": 32,
   "id": "fabulous-carol",
   "metadata": {},
   "outputs": [
    {
     "data": {
      "text/plain": [
       "id                    True\n",
       "url                   True\n",
       "name                  True\n",
       "name_abbreviation     True\n",
       "decision_date         True\n",
       "docket_number        False\n",
       "first_page            True\n",
       "last_page             True\n",
       "citations             True\n",
       "volume                True\n",
       "reporter              True\n",
       "court                 True\n",
       "jurisdiction          True\n",
       "cites_to             False\n",
       "frontend_url          True\n",
       "preview              False\n",
       "casebody              True\n",
       "dtype: bool"
      ]
     },
     "execution_count": 32,
     "metadata": {},
     "output_type": "execute_result"
    }
   ],
   "source": [
    "#get columns with any empty values\n",
    "cases_data.applymap(lambda x: True if x else False).all(axis=0)"
   ]
  },
  {
   "cell_type": "code",
   "execution_count": 33,
   "id": "eligible-mileage",
   "metadata": {},
   "outputs": [],
   "source": [
    "# initally looks like `preview` and `docket_number` are sparse and don't really matter for the problem.\n",
    "# we'll get the citation information after linking the citation graph\n",
    "drop_cols = [\"docket_number\", \"preview\",\"cites_to\", \"citations\"]\n",
    "cases_data = cases_data.drop(drop_cols, axis=1)"
   ]
  },
  {
   "cell_type": "code",
   "execution_count": 38,
   "id": "based-english",
   "metadata": {},
   "outputs": [],
   "source": [
    "# convert the id to int for indexing\n",
    "cases_data[\"id\"] = cases_data[\"id\"].astype(int)\n",
    "cases_data = cases_data.set_index(\"id\")"
   ]
  },
  {
   "cell_type": "code",
   "execution_count": 40,
   "id": "several-polls",
   "metadata": {},
   "outputs": [
    {
     "data": {
      "text/plain": [
       "244274   NaT\n",
       "Name: decision_date, dtype: datetime64[ns]"
      ]
     },
     "execution_count": 40,
     "metadata": {},
     "output_type": "execute_result"
    }
   ],
   "source": [
    "# convert date column\n",
    "# cases_data[\"decision_date\"] = pd.to_datetime(cases_data[\"decision_date\"], format=\"%Y-%m-%d\", errors=\"coerce\")\n",
    "cases_data[cases_data[\"decision_date\"].isnull()][\"decision_date\"]"
   ]
  },
  {
   "cell_type": "code",
   "execution_count": 41,
   "id": "august-frequency",
   "metadata": {},
   "outputs": [],
   "source": [
    "# feb 29 1914\n",
    "cases_data = cases_data[cases_data[\"decision_date\"].notnull()]"
   ]
  },
  {
   "cell_type": "code",
   "execution_count": 42,
   "id": "official-cincinnati",
   "metadata": {},
   "outputs": [],
   "source": [
    "## extract and normalize volumes\n",
    "volumes_data = pd.DataFrame(cases_data.volume.tolist(), index=cases_data.index)\n",
    "volumes_data.loc[:, \"volume_number\"] = volumes_data[\"volume_number\"].astype(int)\n",
    "cases_data.loc[:, \"volume_id\"] = volumes_data[\"volume_number\"]\n",
    "volumes_data = volumes_data.drop_duplicates(\"volume_number\")"
   ]
  },
  {
   "cell_type": "code",
   "execution_count": 43,
   "id": "graduate-duration",
   "metadata": {},
   "outputs": [],
   "source": [
    "# volumes_data.to_csv(\"data/subset/volumes.csv\", index=False, index_label=False, quoting=csv.QUOTE_ALL, quotechar='\"')"
   ]
  },
  {
   "cell_type": "code",
   "execution_count": 44,
   "id": "wicked-third",
   "metadata": {},
   "outputs": [],
   "source": [
    "# extract and normalize reporters\n",
    "reporters_data = pd.DataFrame(cases_data[\"reporter\"].tolist(), index=cases_data.index)\n",
    "reporters_data.loc[:, \"id\"] = reporters_data[\"id\"].astype(int)\n",
    "cases_data.loc[:, \"reporter_id\"] = reporters_data[\"id\"]\n",
    "reporters_data = reporters_data.drop_duplicates(\"id\")"
   ]
  },
  {
   "cell_type": "code",
   "execution_count": 87,
   "id": "characteristic-brazilian",
   "metadata": {},
   "outputs": [
    {
     "name": "stderr",
     "output_type": "stream",
     "text": [
      "/Users/bebop/anaconda3/envs/cs109b/lib/python3.8/site-packages/seaborn/_decorators.py:36: FutureWarning: Pass the following variables as keyword args: x, y. From version 0.12, the only valid positional argument will be `data`, and passing other arguments without an explicit keyword will result in an error or misinterpretation.\n",
      "  warnings.warn(\n"
     ]
    },
    {
     "data": {
      "image/png": "[encoded data removed]",
      "text/plain": [
       "<Figure size 1440x720 with 1 Axes>"
      ]
     },
     "metadata": {
      "needs_background": "light"
     },
     "output_type": "display_data"
    }
   ],
   "source": [
    "cases_by_reporters = cases_data.reporter_id.value_counts()\n",
    "reporter_names = reporters_data.set_index(\"id\").loc[cases_by_reporters.index, \"full_name\"].tolist()\n",
    "plt.figure(figsize=(20,10))\n",
    "sns.barplot(reporter_names, cases_by_reporters.values)\n",
    "plt.xticks(rotation=45)\n",
    "plt.show()"
   ]
  },
  {
   "cell_type": "code",
   "execution_count": 45,
   "id": "fiscal-reward",
   "metadata": {},
   "outputs": [],
   "source": [
    "# reporters_data.to_csv(\"data/subset/reporters.csv\", index=False, index_label=False, quoting=csv.QUOTE_ALL, quotechar='\"')"
   ]
  },
  {
   "cell_type": "code",
   "execution_count": 46,
   "id": "earned-satisfaction",
   "metadata": {},
   "outputs": [],
   "source": [
    "# extract and normalize courts\n",
    "courts_data = pd.DataFrame(cases_data[\"court\"].tolist(), index=cases_data.index)\n",
    "courts_data.loc[:, \"id\"] = courts_data[\"id\"].astype(int)\n",
    "cases_data.loc[:, \"court_id\"] = courts_data[\"id\"]\n",
    "courts_data = courts_data.drop_duplicates(\"id\")"
   ]
  },
  {
   "cell_type": "code",
   "execution_count": 89,
   "id": "floral-jordan",
   "metadata": {},
   "outputs": [
    {
     "name": "stderr",
     "output_type": "stream",
     "text": [
      "/Users/bebop/anaconda3/envs/cs109b/lib/python3.8/site-packages/seaborn/_decorators.py:36: FutureWarning: Pass the following variables as keyword args: x, y. From version 0.12, the only valid positional argument will be `data`, and passing other arguments without an explicit keyword will result in an error or misinterpretation.\n",
      "  warnings.warn(\n"
     ]
    },
    {
     "data": {
      "image/png": "[encoded data removed]",
      "text/plain": [
       "<Figure size 1440x720 with 1 Axes>"
      ]
     },
     "metadata": {
      "needs_background": "light"
     },
     "output_type": "display_data"
    }
   ],
   "source": [
    "cases_by_courts = cases_data.court_id.value_counts()\n",
    "court_names = courts_data.set_index(\"id\").loc[cases_by_courts.index, \"name\"].tolist()\n",
    "plt.figure(figsize=(20,10))\n",
    "sns.barplot(court_names, cases_by_courts.values)\n",
    "plt.xticks(rotation=45)\n",
    "plt.show()"
   ]
  },
  {
   "cell_type": "code",
   "execution_count": 47,
   "id": "peripheral-europe",
   "metadata": {},
   "outputs": [],
   "source": [
    "# courts_data.to_csv(\"data/subset/courts.csv\", index=False, index_label=False, quoting=csv.QUOTE_ALL, quotechar='\"')"
   ]
  },
  {
   "cell_type": "code",
   "execution_count": 48,
   "id": "recognized-routine",
   "metadata": {},
   "outputs": [],
   "source": [
    "# extract and normalize jurisdictions\n",
    "jurisdictions_data = pd.DataFrame(cases_data[\"jurisdiction\"].tolist(), index=cases_data.index)\n",
    "jurisdictions_data.loc[:,\"id\"] = jurisdictions_data[\"id\"].astype(int)\n",
    "cases_data.loc[:, \"jurisdiction_id\"] = jurisdictions_data[\"id\"]\n",
    "jurisdictions_data = jurisdictions_data.drop_duplicates(\"id\")"
   ]
  },
  {
   "cell_type": "code",
   "execution_count": 91,
   "id": "moderate-dublin",
   "metadata": {},
   "outputs": [
    {
     "name": "stderr",
     "output_type": "stream",
     "text": [
      "/Users/bebop/anaconda3/envs/cs109b/lib/python3.8/site-packages/seaborn/_decorators.py:36: FutureWarning: Pass the following variables as keyword args: x, y. From version 0.12, the only valid positional argument will be `data`, and passing other arguments without an explicit keyword will result in an error or misinterpretation.\n",
      "  warnings.warn(\n"
     ]
    },
    {
     "data": {
      "image/png": "[encoded data removed]",
      "text/plain": [
       "<Figure size 1440x720 with 1 Axes>"
      ]
     },
     "metadata": {
      "needs_background": "light"
     },
     "output_type": "display_data"
    }
   ],
   "source": [
    "cases_by_jurisdictions = cases_data.jurisdiction_id.value_counts()\n",
    "jurisdiction_names = jurisdictions_data.set_index(\"id\").loc[cases_by_jurisdictions.index, \"name\"].tolist()\n",
    "plt.figure(figsize=(20,10))\n",
    "sns.barplot(jurisdiction_names, cases_by_jurisdictions.values)\n",
    "plt.xticks(rotation=45)\n",
    "plt.show()"
   ]
  },
  {
   "cell_type": "code",
   "execution_count": 49,
   "id": "careful-penalty",
   "metadata": {},
   "outputs": [],
   "source": [
    "# jurisdictions_data.to_csv(\"data/subset/jurisdictions.csv\", index=False, index_label=False, quoting=csv.QUOTE_ALL, quotechar='\"')"
   ]
  },
  {
   "cell_type": "code",
   "execution_count": 50,
   "id": "banned-performance",
   "metadata": {},
   "outputs": [],
   "source": [
    "# extract case opinion and headmatter\n",
    "casebody_data = pd.DataFrame(cases_data.loc[:, \"casebody\"].map(lambda x: x.get(\"data\")).tolist(), index=cases_data.index)\n",
    "cases_data.loc[: , \"head_matter\"] = casebody_data.loc[:, \"head_matter\"]\n",
    "cases_data.loc[: , \"opinion_text\"] = casebody_data.loc[:,\"opinions\"].map(lambda x: \"\\n\".join(y.get(\"text\", \"\") for y in x))\n",
    "cases_data[\"head_matter\"] = cases_data[\"head_matter\"]\n",
    "cases_data[\"opinion_text\"] = cases_data[\"opinion_text\"]"
   ]
  },
  {
   "cell_type": "code",
   "execution_count": null,
   "id": "brilliant-mirror",
   "metadata": {},
   "outputs": [],
   "source": [
    "cases_data.head_matter.map(len).value_counts"
   ]
  },
  {
   "cell_type": "code",
   "execution_count": 107,
   "id": "through-harvest",
   "metadata": {},
   "outputs": [
    {
     "data": {
      "text/plain": [
       "IntervalIndex([(-282.84099999999995, 28284.0], (28284.0, 56568.0], (56568.0, 84852.0], (84852.0, 113136.0], (113136.0, 141420.0], (141420.0, 169704.0], (169704.0, 197988.0], (197988.0, 226272.0], (226272.0, 254556.0], (254556.0, 282840.0]],\n",
       "              closed='right',\n",
       "              dtype='interval[float64]')"
      ]
     },
     "execution_count": 107,
     "metadata": {},
     "output_type": "execute_result"
    }
   ],
   "source": [
    "# head_matter_lengths = cases_data.head_matter.map(len).value_counts(sort=False, bins=10, dropna=True)\n"
   ]
  },
  {
   "cell_type": "code",
   "execution_count": 106,
   "id": "honey-injury",
   "metadata": {},
   "outputs": [
    {
     "data": {
      "text/plain": [
       "(-390.44599999999997, 39044.5]    127826\n",
       "(39044.5, 78089.0]                  2943\n",
       "(78089.0, 117133.5]                  288\n",
       "(117133.5, 156178.0]                  53\n",
       "(156178.0, 195222.5]                  12\n",
       "(195222.5, 234267.0]                   4\n",
       "(234267.0, 273311.5]                   3\n",
       "(273311.5, 312356.0]                   0\n",
       "(312356.0, 351400.5]                   1\n",
       "(351400.5, 390445.0]                   1\n",
       "Name: opinion_text, dtype: int64"
      ]
     },
     "execution_count": 106,
     "metadata": {},
     "output_type": "execute_result"
    }
   ],
   "source": [
    "opinion_text_lengths = cases_data.opinion_text.map(len).value_counts(sort=False, bins=10, dropna=True)\n",
    "opinion_text_lengths"
   ]
  },
  {
   "cell_type": "code",
   "execution_count": null,
   "id": "fifteen-large",
   "metadata": {},
   "outputs": [],
   "source": [
    "opinion_text_lengths = cases_data.opinion_text.map(len).value_counts()\n",
    "plt.figure(figsize=(20,10))\n",
    "sns.barplot(opinion_text_lengths.index, opinion_text_lengths.values)\n",
    "plt.show()"
   ]
  },
  {
   "cell_type": "code",
   "execution_count": 51,
   "id": "northern-genius",
   "metadata": {},
   "outputs": [
    {
     "name": "stderr",
     "output_type": "stream",
     "text": [
      "<ipython-input-3-7821ca5bd822>:17: TqdmDeprecationWarning: This function will be removed in tqdm==5.0.0\n",
      "Please use `tqdm.notebook.tqdm` instead of `tqdm.tqdm_notebook`\n",
      "  for item in tqdm.tqdm_notebook(csvobj):\n"
     ]
    },
    {
     "data": {
      "application/vnd.jupyter.widget-view+json": {
       "model_id": "caabac2312c6436b81c549422cc5b772",
       "version_major": 2,
       "version_minor": 0
      },
      "text/plain": [
       "0it [00:00, ?it/s]"
      ]
     },
     "metadata": {},
     "output_type": "display_data"
    }
   ],
   "source": [
    "#read citation graph and link nodes\n",
    "citation_graph = read_citation_graph(\"../data/citations.csv.gz\", case_ids=frozenset(cases_data.index))\n",
    "print(f\"found and loaded {len(citation_graph)} nodes into citation_graph\")\n",
    "\n",
    "#create a lookup for our cases\n",
    "citations_uids = frozenset(citations_uids.index)\n",
    "\n",
    "# remove citations that aren't in case data\n",
    "citation_graph = citation_graph.loc[:].map(lambda x: list(filter(lambda y: y in citations_uids, x)))\n",
    "\n",
    "# remove cases with no citations after truncation\n",
    "citation_graph = citation_graph[citation_graph.map(len) > 0]\n",
    "citation_graph.index = citation_graph.index.astype(int)\n",
    "\n",
    "cases_data.loc[citation_graph.index, \"citation_ids\"] = citation_graph.values\n",
    "cases_data = cases_data[cases_data.citation_ids.notnull()]\n"
   ]
  },
  {
   "cell_type": "code",
   "execution_count": null,
   "id": "assigned-growing",
   "metadata": {},
   "outputs": [],
   "source": [
    "required_case_cols = [\n",
    "    'decision_date', 'name', 'name_abbreviation',\n",
    "    'frontend_url', 'url', \n",
    "    #'head_matter', 'opinion_text', \n",
    "    'volume_id', 'reporter_id', 'court_id', 'jurisdiction_id',]\n",
    "#     'citation_ids']\n",
    "# cases_data[required_case_cols].reset_index().to_csv(\"data/subset/cases.csv\", index=False, index_label=False, quoting=csv.QUOTE_ALL, quotechar='\"')\n"
   ]
  },
  {
   "cell_type": "code",
   "execution_count": null,
   "id": "ordinary-fleece",
   "metadata": {},
   "outputs": [],
   "source": [
    "citations_data = cases_data[\"citation_ids\"].explode().reset_index()\n",
    "citations_data.columns = [\"src\", \"dst\"]\n",
    "# citations_data.to_csv(\"data/subset/citations.csv\", index=False, index_label=False,)\n"
   ]
  },
  {
   "cell_type": "code",
   "execution_count": 212,
   "id": "communist-holmes",
   "metadata": {},
   "outputs": [],
   "source": [
    "citations_data = pd.read_csv(\"../data/subset/citations.csv\")"
   ]
  },
  {
   "cell_type": "code",
   "execution_count": 228,
   "id": "desperate-jackson",
   "metadata": {},
   "outputs": [
    {
     "name": "stderr",
     "output_type": "stream",
     "text": [
      "/Users/bebop/anaconda3/envs/cs109b/lib/python3.8/site-packages/seaborn/_decorators.py:36: FutureWarning: Pass the following variables as keyword args: x, y. From version 0.12, the only valid positional argument will be `data`, and passing other arguments without an explicit keyword will result in an error or misinterpretation.\n",
      "  warnings.warn(\n"
     ]
    },
    {
     "data": {
      "image/png": "[encoded data removed]",
      "text/plain": [
       "<Figure size 1440x720 with 1 Axes>"
      ]
     },
     "metadata": {
      "needs_background": "light"
     },
     "output_type": "display_data"
    }
   ],
   "source": [
    "top_cited = citations_data.src.value_counts().head(50)\n",
    "plt.figure(figsize=(20,10))\n",
    "ax = sns.barplot(top_cited.index, top_cited.values, order=top_cited.index)\n",
    "plt.xticks(rotation=45)\n",
    "plt.show()"
   ]
  },
  {
   "cell_type": "code",
   "execution_count": 229,
   "id": "christian-opposition",
   "metadata": {},
   "outputs": [
    {
     "data": {
      "text/plain": [
       "7.365593946713925"
      ]
     },
     "execution_count": 229,
     "metadata": {},
     "output_type": "execute_result"
    }
   ],
   "source": [
    "citations_data.src.value_counts().mean()"
   ]
  },
  {
   "cell_type": "code",
   "execution_count": null,
   "id": "expected-diving",
   "metadata": {},
   "outputs": [],
   "source": [
    "citations_data.groupby(\"src\").count"
   ]
  },
  {
   "cell_type": "code",
   "execution_count": null,
   "id": "aboriginal-newport",
   "metadata": {},
   "outputs": [],
   "source": [
    "cases_data.groupby([\"court_id\", \"jurisdiction_id\"]).agg({\"citation_ids\": sum})"
   ]
  },
  {
   "cell_type": "code",
   "execution_count": null,
   "id": "boxed-capture",
   "metadata": {
    "scrolled": true
   },
   "outputs": [],
   "source": [
    "casebody_data.loc[cases_data.index].reset_index().to_json(\"../data/subset/casebody.json\", lines=True, orient=\"records\")"
   ]
  },
  {
   "cell_type": "code",
   "execution_count": null,
   "id": "daily-lemon",
   "metadata": {},
   "outputs": [],
   "source": [
    "attorney_names = [item for sublist in casebody_data.attorneys.tolist() for item in sublist]"
   ]
  },
  {
   "cell_type": "markdown",
   "id": "inside-objective",
   "metadata": {},
   "source": [
    "docker run \\\n",
    "    --name caselaw-neo4j \\\n",
    "    -p7474:7474 -p7687:7687 \\\n",
    "    -d \\\n",
    "    -v /Users/bebop/Documents/courses/CS109/project/neo4j/data:/data \\\n",
    "    -v /Users/bebop/Documents/courses/CS109/project/neo4j/logs:/logs \\\n",
    "    -v /Users/bebop/Documents/courses/CS109/project/neo4j/import:/var/lib/neo4j/import \\\n",
    "    -v /Users/bebop/Documents/courses/CS109/project/neo4j/plugins:/plugins \\\n",
    "    -e NEO4J_apoc_export_file_enabled=true \\\n",
    "    -e NEO4J_apoc_import_file_enabled=true \\\n",
    "    -e NEO4J_apoc_import_file_use__neo4j__config=true \\\n",
    "    --env NEO4J_AUTH='neo4j/zaq!0pl' \\\n",
    "    --env NEO4JLABS_PLUGINS='[\"apoc\", \"graph-data-science\"]' \\\n",
    "    neo4j:latest"
   ]
  },
  {
   "cell_type": "raw",
   "id": "attempted-holly",
   "metadata": {},
   "source": [
    "CREATE CONSTRAINT jurisdictionId IF NOT EXISTS on (jur:Jurisdiction) ASSERT jur.id IS UNIQUE;\n",
    "LOAD CSV WITH HEADERS FROM 'file:///jurisdictions.csv' AS row\n",
    "WITH row\n",
    "MERGE (jurisdiction:Jurisdiction {id:toInteger(row.id)})\n",
    "ON CREATE SET jurisdiction.name = row.name_long,\n",
    "jurisdiction.url = row.url;\n",
    "\n",
    "CREATE CONSTRAINT courtId IF NOT EXISTS on (cou:Court) ASSERT cou.id IS UNIQUE;\n",
    "LOAD CSV WITH HEADERS FROM 'file:///courts.csv' AS row\n",
    "WITH row\n",
    "MERGE (court:Court {id: toInteger(row.id)})\n",
    "ON CREATE SET court.name = row.name,\n",
    "court.url = row.url;\n",
    "\n",
    "CREATE CONSTRAINT reporterId IF NOT EXISTS on (rep:Reporter) ASSERT rep.id IS UNIQUE;\n",
    "LOAD CSV WITH HEADERS FROM 'file:///reporters.csv' AS row\n",
    "WITH row\n",
    "MERGE (reporter:Reporter {id: toInteger(row.id)})\n",
    "ON CREATE SET reporter.name = row.full_name,\n",
    "reporter.url = row.url;\n",
    "\n",
    "CREATE CONSTRAINT volumeId IF NOT EXISTS on (vol:Volume) ASSERT vol.id IS UNIQUE;\n",
    "LOAD CSV WITH HEADERS FROM 'file:///volumes.csv' AS row\n",
    "WITH row\n",
    "MERGE (volume:Volume {id: toInteger(row.volume_number)})\n",
    "ON CREATE SET volume.barcode = row.barcode,\n",
    "volume.url = volume.url;\n",
    "\n",
    "CREATE CONSTRAINT caselawId IF NOT EXISTS on (cas:Caselaw) ASSERT cas.id IS UNIQUE;\n",
    ":auto USING PERIODIC COMMIT 1000\n",
    "LOAD CSV WITH HEADERS FROM 'file:///cases.csv' AS row\n",
    "WITH row\n",
    "MATCH (volume:Volume {id: toInteger(row.volume_id)})\n",
    "MATCH (court:Court {id: toInteger(row.court_id)})\n",
    "MATCH (reporter:Reporter {id: toInteger(row.reporter_id)})\n",
    "MATCH (jurisdiction:Jurisdiction {id: toInteger(row.jurisdiction_id)})\n",
    "MERGE (caselaw:Caselaw {id: toInteger(row.id)})\n",
    "MERGE (caselaw) -[:REPORTED_BY]->(reporter)\n",
    "MERGE (caselaw) -[:HEARD_BY]->(court)\n",
    "MERGE (caselaw) -[:IN_VOLUME]->(volume)\n",
    "MERGE (caselaw) -[:UNDER_JURISIDICTION]->(jurisdiction)\n",
    "on CREATE SET caselaw.decision_date = datetime(row.decision_date),\n",
    "caselaw.name = row.name,\n",
    "caselaw.url = row.url;\n",
    "\n",
    ":auto USING PERIODIC COMMIT 1000\n",
    "LOAD CSV WITH HEADERS FROM 'file:///citations.csv' AS row\n",
    "with row\n",
    "MATCH (case1: Caselaw {id: toInteger(row.src)})\n",
    "MATCH (case2: Caselaw {id: toInteger(row.dst)})\n",
    "MERGE (case1) -[:CITED]-> (case2);\n",
    "\n",
    "\n",
    "\n",
    "\n",
    "\n",
    "//Queries\n",
    "MATCH g=(j1:Jurisdiction)<-[:UNDER_JURISIDICTION]-(c1:Caselaw)<-[:CITED]-(c2),\n",
    "(c1)-[:HEARD_BY]->(court:Court)\n",
    "RETURN j1.name as Jur, court.name as court, c1.name as caselaw, count(DISTINCT c2) as citations\n",
    "ORDER BY citations DESC\n",
    "LIMIT 25;\n",
    "\n",
    "\n",
    "\n",
    "MATCH g=(j1:Jurisdiction)<-[:UNDER_JURISIDICTION]-(c1:Caselaw)<-[:CITED]-(c2)\n",
    "with j1, c1, count(DISTINCT c2) as citations\n",
    "ORDER BY citations desc\n",
    "WITH j1.name as Jur, collect({caselaw: c1.name, citations: citations}) as top_k\n",
    "RETURN Jur, top_k[0..5]\n",
    "ORDER BY Jur DESC\n",
    "LIMIT 5;\n",
    "\n",
    "\n",
    "\n",
    "CALL gds.alpha.degree.stream({\n",
    "  nodeProjection: 'Caselaw',\n",
    "  relationshipProjection: {\n",
    "    Cited: {\n",
    "      type: 'CITED',\n",
    "      orientation: 'REVERSE'\n",
    "    }\n",
    "  }\n",
    "})\n",
    "YIELD nodeId, score\n",
    "RETURN gds.util.asNode(nodeId).name AS name, score AS citations\n",
    "ORDER BY citations DESC\n",
    "\n",
    "\n",
    "//top cases by jurisdiction and court\n",
    "MATCH g=(j1:Jurisdiction)<-[:UNDER_JURISIDICTION]-(c1:Caselaw)<-[:CITED]-(c2),\n",
    "(c1)-[:HEARD_BY]->(co:Court)\n",
    "with j1, c1, co, count(DISTINCT c2) as citations\n",
    "ORDER BY citations desc\n",
    "WITH j1.name as Jur, co.name as court, collect(c1.id) as top_k\n",
    "RETURN Jur, court, top_k[0..10]\n",
    "ORDER BY Jur DESC;\n",
    "\n",
    "//count of cases by jurisdiction and court\n",
    "MATCH g=(j1:Jurisdiction)<-[:UNDER_JURISIDICTION]-(c1:Caselaw)-[:HEARD_BY]->(co:Court)\n",
    "with j1, c1, co, collect(c1.id) as case_id\n",
    "WITH j1.name as Jur, co.name as court, count(DISTINCT case_id) as num_cases\n",
    "RETURN Jur, court, num_cases\n",
    "ORDER BY num_cases DESC;"
   ]
  },
  {
   "cell_type": "code",
   "execution_count": 121,
   "id": "radio-practitioner",
   "metadata": {},
   "outputs": [],
   "source": []
  },
  {
   "cell_type": "code",
   "execution_count": 124,
   "id": "biological-bench",
   "metadata": {},
   "outputs": [],
   "source": [
    "sample_caseline = islice(open(\"../data/subset/caselines.txt\"), 100)"
   ]
  },
  {
   "cell_type": "code",
   "execution_count": 191,
   "id": "satisfactory-telescope",
   "metadata": {},
   "outputs": [],
   "source": [
    "class CaselineIterator:\n",
    "    def __init__(self, fname, slice_size=None):\n",
    "        self.fname = fname\n",
    "        self.slice_size=slice_size\n",
    "        self._length = slice_size\n",
    "    def __iter__(self):\n",
    "        if self.slice_size:\n",
    "            iterator = islice(open(self.fname), self.slice_size)\n",
    "        else:\n",
    "            iterator = open(self.fname)\n",
    "        for line in iterator:\n",
    "            yield line.split()\n",
    "            \n",
    "    def __len__(self):\n",
    "        if not self._length:\n",
    "            self._length = sum(1 for _ in open(self.fname))\n",
    "        return self._length\n",
    "\n",
    "case_lines = CaselineIterator(\"../data/subset/caselines.txt\", slice_size=100)"
   ]
  },
  {
   "cell_type": "code",
   "execution_count": 192,
   "id": "quality-referral",
   "metadata": {},
   "outputs": [
    {
     "data": {
      "text/plain": [
       "100"
      ]
     },
     "execution_count": 192,
     "metadata": {},
     "output_type": "execute_result"
    }
   ],
   "source": [
    "len(case_lines)"
   ]
  },
  {
   "cell_type": "code",
   "execution_count": 193,
   "id": "blond-figure",
   "metadata": {},
   "outputs": [],
   "source": [
    "import logging\n",
    "logging.basicConfig(format='%(levelname)s : %(message)s', level=logging.INFO)\n",
    "logging.root.level = logging.INFO  # ipython sometimes messes up the logging setup; restore\n",
    "from gensim.corpora import Dictionary\n",
    "from gensim.models import TfidfModel\n",
    "from gensim.similarities import SparseMatrixSimilarity\n",
    "import numpy as np"
   ]
  },
  {
   "cell_type": "code",
   "execution_count": 194,
   "id": "popular-border",
   "metadata": {},
   "outputs": [
    {
     "name": "stderr",
     "output_type": "stream",
     "text": [
      "INFO : adding document #0 to Dictionary(0 unique tokens: [])\n",
      "INFO : built Dictionary(4142 unique tokens: ['abundance', 'admissible', 'affirmed', 'afraid', 'afternoon']...) from 100 documents (total 32328 corpus positions)\n",
      "INFO : Dictionary lifecycle event {'msg': \"built Dictionary(4142 unique tokens: ['abundance', 'admissible', 'affirmed', 'afraid', 'afternoon']...) from 100 documents (total 32328 corpus positions)\", 'datetime': '2021-04-28T13:23:33.198427', 'gensim': '4.0.1', 'python': '3.8.8 | packaged by conda-forge | (default, Feb 20 2021, 16:12:38) \\n[Clang 11.0.1 ]', 'platform': 'macOS-10.16-x86_64-i386-64bit', 'event': 'created'}\n",
      "INFO : discarding 3443 tokens: [('abundance', 2), ('afraid', 2), ('afternoon', 4), ('aggravated', 1), ('ahead', 4), ('amply', 3), ('appellant', 99), ('appellee', 93), ('article', 3), ('billy', 3)]...\n",
      "INFO : keeping 699 tokens which were in no less than 5 and no more than 75 (=75.0%) documents\n",
      "INFO : resulting dictionary: Dictionary(699 unique tokens: ['admissible', 'affirmed', 'approximately', 'arkansas', 'assistant']...)\n"
     ]
    }
   ],
   "source": [
    "dictionary = Dictionary(case_lines)\n",
    "dictionary.filter_extremes(no_below=5, no_above=0.75)\n",
    "dictionary.compactify()"
   ]
  },
  {
   "cell_type": "code",
   "execution_count": 199,
   "id": "hollow-above",
   "metadata": {},
   "outputs": [],
   "source": [
    "class CaselawCorpus():\n",
    "    def __init__(self, iterator, dictionary, **kwargs):\n",
    "        self.iterator = iterator\n",
    "        self.dictionary = dictionary\n",
    "        \n",
    "    def __iter__(self):\n",
    "        for line in self.iterator:\n",
    "            # assume there's one document per line, tokens separated by whitespace\n",
    "            yield self.dictionary.doc2bow(line)\n",
    "    def __len__(self):\n",
    "        return len(self.iterator)\n",
    "            \n",
    "caselaw_corpus = CaselawCorpus(case_lines, dictionary, slice_size=100)"
   ]
  },
  {
   "cell_type": "code",
   "execution_count": 200,
   "id": "final-damage",
   "metadata": {},
   "outputs": [
    {
     "data": {
      "text/plain": [
       "100"
      ]
     },
     "execution_count": 200,
     "metadata": {},
     "output_type": "execute_result"
    }
   ],
   "source": [
    "len(caselaw_corpus)"
   ]
  },
  {
   "cell_type": "code",
   "execution_count": 201,
   "id": "tested-niger",
   "metadata": {},
   "outputs": [
    {
     "name": "stderr",
     "output_type": "stream",
     "text": [
      "INFO : collecting document frequencies\n",
      "INFO : PROGRESS: processing document #0\n",
      "INFO : TfidfModel lifecycle event {'msg': 'calculated IDF weights for 100 documents and 699 features (8615 matrix non-zeros)', 'datetime': '2021-04-28T13:24:03.459978', 'gensim': '4.0.1', 'python': '3.8.8 | packaged by conda-forge | (default, Feb 20 2021, 16:12:38) \\n[Clang 11.0.1 ]', 'platform': 'macOS-10.16-x86_64-i386-64bit', 'event': 'initialize'}\n"
     ]
    }
   ],
   "source": [
    "tfidf = TfidfModel(caselaw_corpus)\n",
    "tfidf_corpus = tfidf[caselaw_corpus]"
   ]
  },
  {
   "cell_type": "code",
   "execution_count": 202,
   "id": "going-mechanics",
   "metadata": {},
   "outputs": [
    {
     "name": "stderr",
     "output_type": "stream",
     "text": [
      "INFO : creating sparse index\n",
      "INFO : creating sparse matrix from corpus\n",
      "INFO : PROGRESS: at document #0\n",
      "INFO : created <100x699 sparse matrix of type '<class 'numpy.float32'>'\n",
      "\twith 8615 stored elements in Compressed Sparse Row format>\n"
     ]
    }
   ],
   "source": [
    "index = SparseMatrixSimilarity(\n",
    "    tfidf_corpus, \n",
    "    num_features=len(dictionary),\n",
    "    num_terms=len(dictionary),\n",
    "    num_docs=len(caselaw_corpus),\n",
    "    num_best=10,\n",
    "    maintain_sparsity=True\n",
    ")"
   ]
  },
  {
   "cell_type": "code",
   "execution_count": 186,
   "id": "optical-cheat",
   "metadata": {},
   "outputs": [],
   "source": [
    "a = index[tfidf_corpus]\n",
    "# https://stackoverflow.com/a/52304675\n",
    "def top_n_idx_sparse(matrix, n):\n",
    "    '''Return index of top n values in each row of a sparse matrix'''\n",
    "    top_n_idx = []\n",
    "    for le, ri in zip(matrix.indptr[:-1], matrix.indptr[1:]):\n",
    "        n_row_pick = min(n, ri - le)\n",
    "        top_n_idx.append(matrix.indices[le + np.argpartition(matrix.data[le:ri], -n_row_pick)[-n_row_pick:]])\n",
    "    return top_n_idx"
   ]
  },
  {
   "cell_type": "code",
   "execution_count": 204,
   "id": "actual-wallace",
   "metadata": {},
   "outputs": [],
   "source": [
    "class BaselineModel:\n",
    "    def __init__(self, no_below=5, no_above=0.75):\n",
    "        self.dictionary = None\n",
    "        self.corpus = None\n",
    "        self.model = None\n",
    "        self.index = None\n",
    "        self.no_below=no_below\n",
    "        self.no_above=no_above\n",
    "    \n",
    "    def fit(self, texts, **kwargs):\n",
    "        self.dictionary = Dictionary(texts)\n",
    "        self.dictionary.filter_extremes(self.no_below, self.no_above)\n",
    "        self.dictionary.compactify()\n",
    "        \n",
    "        self.corpus = CaselawCorpus(texts, self.dictionary,**kwargs)\n",
    "        self.model = TfidfModel(self.corpus)\n",
    "        \n",
    "        self.index = SparseMatrixSimilarity(\n",
    "            tfidf_corpus, \n",
    "            num_features=len(self.dictionary),\n",
    "            num_terms=len(self.dictionary),\n",
    "            num_docs=len(self.corpus),\n",
    "            maintain_sparsity=True)\n",
    "        \n",
    "        return self\n",
    "    \n",
    "    def predict(self, texts, top_k=5):\n",
    "        pred_corpus = [self.dictionary.doc2bow(item) for item in texts]\n",
    "        pred_vecs = self.model[pred_corpus]\n",
    "        pred_sims = self.index[pred_vecs]\n",
    "        preds = top_n_idx_sparse(pred_sims, top_k)\n",
    "        return preds"
   ]
  },
  {
   "cell_type": "code",
   "execution_count": 206,
   "id": "noble-theater",
   "metadata": {},
   "outputs": [],
   "source": [
    "case_lines = CaselineIterator(\"../data/subset/caselines.txt\", slice_size=100)"
   ]
  },
  {
   "cell_type": "code",
   "execution_count": 207,
   "id": "preliminary-saudi",
   "metadata": {},
   "outputs": [],
   "source": [
    "baseline_model = BaselineModel()"
   ]
  },
  {
   "cell_type": "code",
   "execution_count": 208,
   "id": "pressed-speaker",
   "metadata": {},
   "outputs": [
    {
     "name": "stderr",
     "output_type": "stream",
     "text": [
      "INFO : adding document #0 to Dictionary(0 unique tokens: [])\n",
      "INFO : built Dictionary(4142 unique tokens: ['abundance', 'admissible', 'affirmed', 'afraid', 'afternoon']...) from 100 documents (total 32328 corpus positions)\n",
      "INFO : Dictionary lifecycle event {'msg': \"built Dictionary(4142 unique tokens: ['abundance', 'admissible', 'affirmed', 'afraid', 'afternoon']...) from 100 documents (total 32328 corpus positions)\", 'datetime': '2021-04-28T13:33:48.730702', 'gensim': '4.0.1', 'python': '3.8.8 | packaged by conda-forge | (default, Feb 20 2021, 16:12:38) \\n[Clang 11.0.1 ]', 'platform': 'macOS-10.16-x86_64-i386-64bit', 'event': 'created'}\n",
      "INFO : discarding 3443 tokens: [('abundance', 2), ('afraid', 2), ('afternoon', 4), ('aggravated', 1), ('ahead', 4), ('amply', 3), ('appellant', 99), ('appellee', 93), ('article', 3), ('billy', 3)]...\n",
      "INFO : keeping 699 tokens which were in no less than 5 and no more than 75 (=75.0%) documents\n",
      "INFO : resulting dictionary: Dictionary(699 unique tokens: ['admissible', 'affirmed', 'approximately', 'arkansas', 'assistant']...)\n",
      "INFO : collecting document frequencies\n",
      "INFO : PROGRESS: processing document #0\n",
      "INFO : TfidfModel lifecycle event {'msg': 'calculated IDF weights for 100 documents and 699 features (8615 matrix non-zeros)', 'datetime': '2021-04-28T13:33:48.805567', 'gensim': '4.0.1', 'python': '3.8.8 | packaged by conda-forge | (default, Feb 20 2021, 16:12:38) \\n[Clang 11.0.1 ]', 'platform': 'macOS-10.16-x86_64-i386-64bit', 'event': 'initialize'}\n",
      "INFO : creating sparse index\n",
      "INFO : creating sparse matrix from corpus\n",
      "INFO : PROGRESS: at document #0\n",
      "INFO : created <100x699 sparse matrix of type '<class 'numpy.float32'>'\n",
      "\twith 8615 stored elements in Compressed Sparse Row format>\n"
     ]
    },
    {
     "data": {
      "text/plain": [
       "<__main__.BaselineModel at 0x7f90ff235520>"
      ]
     },
     "execution_count": 208,
     "metadata": {},
     "output_type": "execute_result"
    }
   ],
   "source": [
    "baseline_model.fit(case_lines)"
   ]
  },
  {
   "cell_type": "code",
   "execution_count": null,
   "id": "published-adjustment",
   "metadata": {},
   "outputs": [],
   "source": [
    "def precision_recall_k(y_true, y_pred):\n",
    "    for y_t, y_p in zip(y_true, y_pred):\n",
    "        relevant_retrieved = set(y_t).intersection(y_p)\n",
    "        if relevant_retrieved:\n",
    "            precision = len(relevant_retrieved)/len(y_p)\n",
    "            recall = len(relevant_retrieved)/len(y_t)\n",
    "            \n",
    "        relevant_retrieved"
   ]
  }
 ],
 "metadata": {
  "kernelspec": {
   "display_name": "Python 3",
   "language": "python",
   "name": "python3"
  },
  "language_info": {
   "codemirror_mode": {
    "name": "ipython",
    "version": 3
   },
   "file_extension": ".py",
   "mimetype": "text/x-python",
   "name": "python",
   "nbconvert_exporter": "python",
   "pygments_lexer": "ipython3",
   "version": "3.8.8"
  }
 },
 "nbformat": 4,
 "nbformat_minor": 5
}

{
 "cells": [
  {
   "cell_type": "markdown",
   "id": "413b6ca4",
   "metadata": {},
   "source": [
    "# Literature Review and Preliminary Exploratory Data Analysis"
   ]
  },
  {
   "cell_type": "markdown",
   "id": "fe90c4e4",
   "metadata": {},
   "source": [
    "## Setup and Imports"
   ]
  },
  {
   "cell_type": "code",
   "execution_count": 1,
   "id": "1fed4a52",
   "metadata": {},
   "outputs": [
    {
     "name": "stderr",
     "output_type": "stream",
     "text": [
      "/Users/bebop/anaconda3/envs/cs109b-grp9-final-project/lib/python3.8/site-packages/gensim/similarities/__init__.py:15: UserWarning: The gensim.similarities.levenshtein submodule is disabled, because the optional Levenshtein package <https://pypi.org/project/python-Levenshtein/> is unavailable. Install Levenhstein (e.g. `pip install python-Levenshtein`) to suppress this warning.\n",
      "  warnings.warn(msg)\n"
     ]
    }
   ],
   "source": [
    "%matplotlib inline\n",
    "\n",
    "import os\n",
    "import requests\n",
    "import tqdm\n",
    "\n",
    "import zipfile\n",
    "import lzma\n",
    "import json\n",
    "\n",
    "import gzip\n",
    "import csv\n",
    "\n",
    "import pandas as pd\n",
    "\n",
    "from matplotlib import pylab as plt\n",
    "import seaborn as sns\n",
    "\n",
    "from itertools import islice\n",
    "\n",
    "import logging\n",
    "logging.basicConfig(format='%(levelname)s : %(message)s', level=logging.INFO)\n",
    "logging.root.level = logging.INFO  # ipython sometimes messes up the logging setup; restore\n",
    "from gensim.corpora import Dictionary\n",
    "from gensim.models import TfidfModel\n",
    "from gensim.similarities import SparseMatrixSimilarity\n",
    "import numpy as np"
   ]
  },
  {
   "cell_type": "markdown",
   "id": "fa917270",
   "metadata": {},
   "source": [
    "### Data Description\n",
    "\n",
    "\n",
    "> CAP includes all official, book-published United States case law — every volume designated as an official report of decisions by a court within the United States.\n",
    ">\n",
    ">Each volume has been converted into structured, case-level data broken out by majority and dissenting opinion, with >human-checked metadata for party names, docket number, citation, and date.\n",
    ">\n",
    "> -- <cite>[Case.law][1]</cite>\n",
    "\n",
    "In the scope of this analysis we use the latest open case text from from bulk data exxports of open jurisdictions in the dataset. This subset consists of caselaws and metadata for the following four Jurisdictions:\n",
    "\n",
    "1. ark - Arkansas\n",
    "2. ill - Illinois\n",
    "3. nc - North Carolina\n",
    "4. nm - New Mexico\n",
    "\n",
    "These were downloaded from [here][2].\n",
    "\n",
    "\n",
    "**Citation Graph**\n",
    "\n",
    "In addition to the case text we also use the case citation graph that links extracted, verified and unambiguous  citations to cases within the dataset. We use the citation graph from [2021-04-20][3] for this study. The citation graph is present in the form of a edgelist linking one case_id to multiple case_ids. It also contains all the references to all nodes from the case.law dataset. We truncate the graph based on case_ids we found in the case texts for each jurisdiction during preprocessing.\n",
    "\n",
    "[1]: https://case.law/about/\n",
    "[2]: https://case.law/download/bulk_exports/latest/by_jurisdiction/case_text_open/\n",
    "[3]: https://case.law/download/citation_graph/2021-04-20/\n"
   ]
  },
  {
   "cell_type": "code",
   "execution_count": 2,
   "id": "bb7c1416",
   "metadata": {},
   "outputs": [],
   "source": [
    "##filename declarations\n",
    "\n",
    "base_url = \"https://case.law/download/bulk_exports/latest/by_jurisdiction/case_text_open/\"\n",
    "base_folder = \"../data\"\n",
    "folder_names = [\"ark\", \"ill\", \"nc\", \"nm\"]\n",
    "for item in folder_names:\n",
    "    os.makedirs(f\"{base_folder}/{item}\", exist_ok=True)\n",
    "\n",
    "def get_url_loc(file_name, base_url=base_url, base_folder=base_folder):\n",
    "    url = os.path.join(base_url, file_name)\n",
    "    file_loc = os.path.join(base_folder, file_name)\n",
    "    return url, file_loc    \n",
    "    \n",
    "    \n",
    "text_file_names = [f\"{item}/{item}_text.zip\" for item in folder_names]\n",
    "xml_file_names = [f\"{item}/{item}_xml.zip\" for item in folder_names]\n",
    "\n",
    "text_file_url_locs = list(map(get_url_loc, text_file_names))\n",
    "xml_file_url_locs = list(map(get_url_loc, xml_file_names))"
   ]
  },
  {
   "cell_type": "markdown",
   "id": "3f3ece55",
   "metadata": {},
   "source": [
    "** downloads **\n",
    "\n",
    "The following code downloads the raw dataset. \n",
    "\n",
    "NB: This is a onetime activity.\n",
    "\n",
    "\n",
    "```{bash}\n",
    "# download  citation graph and metadata\n",
    "!wget -c https://case.law/download/citation_graph/2021-04-20/citations.csv.gz -P ../data/\n",
    "!wget -c https://case.law/download/citation_graph/2021-04-20/metadata.csv.gz -P ../data/\n",
    "```\n",
    "\n",
    "\n",
    "```{python}\n",
    "for url, file_name in tqdm.tqdm_notebook(text_file_url_locs, total=len(text_file_names)):\n",
    "    response = requests.get(url, stream=True)\n",
    "    if response.status_code == 200:\n",
    "        with open(file_name, \"wb\") as outfile:\n",
    "            for chunk in response.iter_content(chunk_size=128):\n",
    "                outfile.write(chunk)\n",
    "                \n",
    "for url, file_name in tqdm.tqdm_notebook(xml_file_url_locs, total=len(xml_file_names)):\n",
    "    response = requests.get(url, stream=True)\n",
    "    if response.status_code == 200:\n",
    "        with open(file_name, \"wb\") as outfile:\n",
    "            for chunk in response.iter_content(chunk_size=128):\n",
    "                outfile.write(chunk)\n",
    "```"
   ]
  },
  {
   "cell_type": "markdown",
   "id": "b20f4ee7",
   "metadata": {},
   "source": [
    "## Data Loading and Clean-up"
   ]
  },
  {
   "cell_type": "code",
   "execution_count": 3,
   "id": "e360254f",
   "metadata": {},
   "outputs": [],
   "source": [
    "def load_cases(fnames, field=\"id\"):\n",
    "    cases = []\n",
    "    for fname in fnames:\n",
    "        with zipfile.ZipFile(fname, 'r') as zip_archive:\n",
    "            xz_path = next(path for path in zip_archive.namelist() if path.endswith('/data.jsonl.xz'))\n",
    "            with zip_archive.open(xz_path) as xz_archive, lzma.open(xz_archive) as jsonlines:\n",
    "                for i, line in tqdm.tqdm_notebook(enumerate(jsonlines)):\n",
    "                    record = json.loads(str(line, 'utf-8'))\n",
    "                    if field:\n",
    "                        record = {field: record[field]}\n",
    "                    cases.append(record)\n",
    "        print(f\"loaded {i+1} cases from {fname.split('/')[-1]}\")\n",
    "    return pd.DataFrame(cases)\n",
    "\n",
    "def read_citation_graph(fname, case_ids):\n",
    "    csvobj = csv.reader(gzip.open(fname, mode='rt'),delimiter = ',',quotechar=\"'\")\n",
    "    graph = []\n",
    "    for item in tqdm.tqdm_notebook(csvobj):\n",
    "        head = item[0]\n",
    "        try:\n",
    "            head = int(head)\n",
    "        except ValueError:\n",
    "            head = None\n",
    "        if head in case_ids:\n",
    "            graph.append(item)\n",
    "    citation_graph = pd.DataFrame(graph)\n",
    "    citation_graph = citation_graph.set_index(0)\n",
    "    citation_graph = citation_graph.apply(lambda x: x.dropna().tolist(), axis=1)\n",
    "    return citation_graph\n",
    "\n",
    "\n",
    "def read_citiation_metadata(fname, case_ids):\n",
    "    csvobj = csv.DictReader(gzip.open(fname, mode='rt'),delimiter = ',')\n",
    "    graph_meta = []\n",
    "    for item in tqdm.tqdm_notebook(csvobj):\n",
    "        head = item[\"id\"]\n",
    "        try:\n",
    "            head = int(head)\n",
    "        except ValueError:\n",
    "            head = None\n",
    "        if head in case_ids:\n",
    "            graph_meta.append(item)\n",
    "    graph_meta = pd.DataFrame(graph_meta).set_index(\"id\")\n",
    "    return graph_meta"
   ]
  },
  {
   "cell_type": "code",
   "execution_count": 4,
   "id": "d350ffea",
   "metadata": {},
   "outputs": [
    {
     "name": "stderr",
     "output_type": "stream",
     "text": [
      "<ipython-input-3-4b5d67d4d59d>:7: TqdmDeprecationWarning: This function will be removed in tqdm==5.0.0\n",
      "Please use `tqdm.notebook.tqdm` instead of `tqdm.tqdm_notebook`\n",
      "  for i, line in tqdm.tqdm_notebook(enumerate(jsonlines)):\n"
     ]
    },
    {
     "data": {
      "application/vnd.jupyter.widget-view+json": {
       "model_id": "bd23b0d2d9e942c0b8cc784c86e6acc2",
       "version_major": 2,
       "version_minor": 0
      },
      "text/plain": [
       "0it [00:00, ?it/s]"
      ]
     },
     "metadata": {},
     "output_type": "display_data"
    },
    {
     "name": "stdout",
     "output_type": "stream",
     "text": [
      "loaded 59735 cases from ark_text.zip\n"
     ]
    },
    {
     "data": {
      "application/vnd.jupyter.widget-view+json": {
       "model_id": "036b78afbc8e45eabf2988ebc39a0aab",
       "version_major": 2,
       "version_minor": 0
      },
      "text/plain": [
       "0it [00:00, ?it/s]"
      ]
     },
     "metadata": {},
     "output_type": "display_data"
    },
    {
     "name": "stdout",
     "output_type": "stream",
     "text": [
      "loaded 183033 cases from ill_text.zip\n"
     ]
    },
    {
     "data": {
      "application/vnd.jupyter.widget-view+json": {
       "model_id": "d6ca4c2ec9ff4ed283b4f418cd2100e1",
       "version_major": 2,
       "version_minor": 0
      },
      "text/plain": [
       "0it [00:00, ?it/s]"
      ]
     },
     "metadata": {},
     "output_type": "display_data"
    },
    {
     "name": "stdout",
     "output_type": "stream",
     "text": [
      "loaded 97600 cases from nc_text.zip\n"
     ]
    },
    {
     "data": {
      "application/vnd.jupyter.widget-view+json": {
       "model_id": "46c89181a71f419cb063f07a518f154e",
       "version_major": 2,
       "version_minor": 0
      },
      "text/plain": [
       "0it [00:00, ?it/s]"
      ]
     },
     "metadata": {},
     "output_type": "display_data"
    },
    {
     "name": "stdout",
     "output_type": "stream",
     "text": [
      "loaded 18338 cases from nm_text.zip\n"
     ]
    }
   ],
   "source": [
    "_, text_fnames= zip(*text_file_url_locs)\n",
    "cases_data = load_cases(text_fnames, field=None)"
   ]
  },
  {
   "cell_type": "code",
   "execution_count": 5,
   "id": "5ed6a820",
   "metadata": {},
   "outputs": [
    {
     "name": "stdout",
     "output_type": "stream",
     "text": [
      "Total number of cases in the raw dataset : 358706\n",
      "Total number of columns in the raw dataset : 17\n"
     ]
    }
   ],
   "source": [
    "print(f\"Total number of cases in the raw dataset : {len(cases_data)}\")\n",
    "print(f\"Total number of columns in the raw dataset : {len(cases_data.columns)}\")"
   ]
  },
  {
   "cell_type": "code",
   "execution_count": 6,
   "id": "8675e3a6",
   "metadata": {
    "scrolled": true
   },
   "outputs": [
    {
     "name": "stdout",
     "output_type": "stream",
     "text": [
      "{\n",
      "  \"id\": 1869772,\n",
      "  \"url\": \"https://api.capapi.org/v1/cases/1869772/\",\n",
      "  \"name\": \"James Joseph STANDLEY, Jr. v. STATE of Arkansas\",\n",
      "  \"name_abbreviation\": \"Standley v. State\",\n",
      "  \"decision_date\": \"1987-11-09\",\n",
      "  \"docket_number\": \"\",\n",
      "  \"first_page\": \"517\",\n",
      "  \"last_page\": \"518\",\n",
      "  \"citations\": [\n",
      "    {\n",
      "      \"cite\": \"293 Ark. 517\",\n",
      "      \"type\": \"official\"\n",
      "    },\n",
      "    {\n",
      "      \"cite\": \"738 S.W.2d 423\",\n",
      "      \"type\": \"parallel\"\n",
      "    }\n",
      "  ],\n",
      "  \"volume\": {\n",
      "    \"volume_number\": \"293\",\n",
      "    \"barcode\": \"32044078577145\",\n",
      "    \"url\": \"https://api.capapi.org/v1/volumes/32044078577145/\"\n",
      "  },\n",
      "  \"reporter\": {\n",
      "    \"id\": 368,\n",
      "    \"full_name\": \"Arkansas Reports\",\n",
      "    \"url\": \"https://api.capapi.org/v1/reporters/368/\"\n",
      "  },\n",
      "  \"court\": {\n",
      "    \"name_abbreviation\": \"Ark.\",\n",
      "    \"name\": \"Arkansas Supreme Court\",\n",
      "    \"id\": 8808,\n",
      "    \"slug\": \"ark\",\n",
      "    \"url\": \"https://api.capapi.org/v1/courts/ark/\"\n",
      "  },\n",
      "  \"jurisdiction\": {\n",
      "    \"name\": \"Ark.\",\n",
      "    \"id\": 34,\n",
      "    \"slug\": \"ark\",\n",
      "    \"name_long\": \"Arkansas\",\n",
      "    \"url\": \"https://api.capapi.org/v1/jurisdictions/ark/\",\n",
      "    \"whitelisted\": true\n",
      "  },\n",
      "  \"cites_to\": [\n",
      "    {\n",
      "      \"cite\": \"738 S.W.2d 423\"\n",
      "    }\n",
      "  ],\n",
      "  \"frontend_url\": \"https://cite.capapi.org/ark/293/517/\",\n",
      "  \"preview\": [],\n",
      "  \"casebody\": {\n",
      "    \"status\": \"ok\",\n",
      "    \"data\": {\n",
      "      \"judges\": [],\n",
      "      \"head_matter\": \"James Joseph STANDLEY, Jr. v. STATE of Arkansas\\n738 S.W.2d 423\\nSupreme Court of Arkansas\\nOpinion delivered November 9, 1987\\nBilly J. Allred, for appellant.\\nNo response.\",\n",
      "      \"corrections\": \"\",\n",
      "      \"opinions\": [\n",
      "        {\n",
      "          \"text\": \"Per Curiam.\\nAppellant, James Joseph Standley, Jr., by his attorney, has filed for a rule on the clerk. His attorney, Billy J. Allred, admits that the record was tendered late due to a mistake on his part.\\nWe find that such error, admittedly made by the attorney for a criminal defendant, is good cause to grant the motion. See our Per Curiam opinion dated February 5, 1979, In Re: Belated Appeals in Criminal Cases.\\nA copy of this opinion will be forwarded to the Committee on Professional Conduct.\",\n",
      "          \"author\": \"Per Curiam.\",\n",
      "          \"type\": \"majority\"\n",
      "        }\n",
      "      ],\n",
      "      \"attorneys\": [\n",
      "        \"Billy J. Allred, for appellant.\",\n",
      "        \"No response.\"\n",
      "      ]\n",
      "    }\n",
      "  }\n",
      "}\n"
     ]
    }
   ],
   "source": [
    "##view the first case\n",
    "sample_case = cases_data.iloc[0,:].to_json()\n",
    "#fix for escape chars\n",
    "sample_case = json.dumps(json.loads(sample_case), indent=2)\n",
    "print(sample_case)"
   ]
  },
  {
   "cell_type": "code",
   "execution_count": 7,
   "id": "40629e7b",
   "metadata": {},
   "outputs": [
    {
     "data": {
      "text/plain": [
       "id                    True\n",
       "url                   True\n",
       "name                  True\n",
       "name_abbreviation     True\n",
       "decision_date         True\n",
       "docket_number        False\n",
       "first_page            True\n",
       "last_page             True\n",
       "citations             True\n",
       "volume                True\n",
       "reporter              True\n",
       "court                 True\n",
       "jurisdiction          True\n",
       "cites_to             False\n",
       "frontend_url          True\n",
       "preview              False\n",
       "casebody              True\n",
       "dtype: bool"
      ]
     },
     "metadata": {},
     "output_type": "display_data"
    }
   ],
   "source": [
    "#get columns with any empty values\n",
    "display(cases_data.applymap(lambda x: True if x else False).all(axis=0))"
   ]
  },
  {
   "cell_type": "code",
   "execution_count": 8,
   "id": "d8004298",
   "metadata": {},
   "outputs": [],
   "source": [
    "# initally looks like `preview` and `docket_number` are sparse and don't really matter for the problem.\n",
    "# we'll get the citation information after linking the citation graph\n",
    "drop_cols = [\"docket_number\", \"preview\",\"cites_to\", \"citations\"]\n",
    "cases_data = cases_data.drop(drop_cols, axis=1)"
   ]
  },
  {
   "cell_type": "code",
   "execution_count": 9,
   "id": "96b61a2b",
   "metadata": {},
   "outputs": [],
   "source": [
    "# convert the id to int for indexing\n",
    "cases_data[\"id\"] = cases_data[\"id\"].astype(int)\n",
    "cases_data = cases_data.set_index(\"id\")"
   ]
  },
  {
   "cell_type": "code",
   "execution_count": 10,
   "id": "10689945",
   "metadata": {},
   "outputs": [
    {
     "data": {
      "text/html": [
       "<div>\n",
       "<style scoped>\n",
       "    .dataframe tbody tr th:only-of-type {\n",
       "        vertical-align: middle;\n",
       "    }\n",
       "\n",
       "    .dataframe tbody tr th {\n",
       "        vertical-align: top;\n",
       "    }\n",
       "\n",
       "    .dataframe thead th {\n",
       "        text-align: right;\n",
       "    }\n",
       "</style>\n",
       "<table border=\"1\" class=\"dataframe\">\n",
       "  <thead>\n",
       "    <tr style=\"text-align: right;\">\n",
       "      <th></th>\n",
       "      <th>url</th>\n",
       "      <th>name</th>\n",
       "      <th>name_abbreviation</th>\n",
       "      <th>decision_date</th>\n",
       "      <th>first_page</th>\n",
       "      <th>last_page</th>\n",
       "      <th>volume</th>\n",
       "      <th>reporter</th>\n",
       "      <th>court</th>\n",
       "      <th>jurisdiction</th>\n",
       "      <th>frontend_url</th>\n",
       "      <th>casebody</th>\n",
       "    </tr>\n",
       "    <tr>\n",
       "      <th>id</th>\n",
       "      <th></th>\n",
       "      <th></th>\n",
       "      <th></th>\n",
       "      <th></th>\n",
       "      <th></th>\n",
       "      <th></th>\n",
       "      <th></th>\n",
       "      <th></th>\n",
       "      <th></th>\n",
       "      <th></th>\n",
       "      <th></th>\n",
       "      <th></th>\n",
       "    </tr>\n",
       "  </thead>\n",
       "  <tbody>\n",
       "    <tr>\n",
       "      <th>11269973</th>\n",
       "      <td>https://api.capapi.org/v1/cases/11269973/</td>\n",
       "      <td>STATE v. LESTER MORRIS</td>\n",
       "      <td>State v. Morris</td>\n",
       "      <td>1914-02-29</td>\n",
       "      <td>441</td>\n",
       "      <td>441</td>\n",
       "      <td>{'volume_number': '166', 'barcode': '320440578...</td>\n",
       "      <td>{'id': 549, 'full_name': 'North Carolina Repor...</td>\n",
       "      <td>{'name_abbreviation': 'N.C.', 'name': 'Supreme...</td>\n",
       "      <td>{'name': 'N.C.', 'id': 5, 'slug': 'nc', 'name_...</td>\n",
       "      <td>https://cite.capapi.org/nc/166/441/</td>\n",
       "      <td>{'status': 'ok', 'data': {'judges': [], 'head_...</td>\n",
       "    </tr>\n",
       "  </tbody>\n",
       "</table>\n",
       "</div>"
      ],
      "text/plain": [
       "                                                url                    name  \\\n",
       "id                                                                            \n",
       "11269973  https://api.capapi.org/v1/cases/11269973/  STATE v. LESTER MORRIS   \n",
       "\n",
       "         name_abbreviation decision_date first_page last_page  \\\n",
       "id                                                              \n",
       "11269973   State v. Morris    1914-02-29        441       441   \n",
       "\n",
       "                                                     volume  \\\n",
       "id                                                            \n",
       "11269973  {'volume_number': '166', 'barcode': '320440578...   \n",
       "\n",
       "                                                   reporter  \\\n",
       "id                                                            \n",
       "11269973  {'id': 549, 'full_name': 'North Carolina Repor...   \n",
       "\n",
       "                                                      court  \\\n",
       "id                                                            \n",
       "11269973  {'name_abbreviation': 'N.C.', 'name': 'Supreme...   \n",
       "\n",
       "                                               jurisdiction  \\\n",
       "id                                                            \n",
       "11269973  {'name': 'N.C.', 'id': 5, 'slug': 'nc', 'name_...   \n",
       "\n",
       "                                 frontend_url  \\\n",
       "id                                              \n",
       "11269973  https://cite.capapi.org/nc/166/441/   \n",
       "\n",
       "                                                   casebody  \n",
       "id                                                           \n",
       "11269973  {'status': 'ok', 'data': {'judges': [], 'head_...  "
      ]
     },
     "metadata": {},
     "output_type": "display_data"
    }
   ],
   "source": [
    "# convert date column\n",
    "display(cases_data[cases_data.decision_date == \"1914-02-29\"])\n",
    "cases_data[\"decision_date\"] = pd.to_datetime(cases_data[\"decision_date\"], format=\"%Y-%m-%d\", errors=\"coerce\")\n",
    "cases_data = cases_data[cases_data[\"decision_date\"].notnull()]"
   ]
  },
  {
   "cell_type": "code",
   "execution_count": 11,
   "id": "10e88b4c",
   "metadata": {},
   "outputs": [],
   "source": [
    "## extract and normalize volumes\n",
    "volumes_data = pd.DataFrame(cases_data.volume.tolist(), index=cases_data.index)\n",
    "volumes_data.loc[:, \"volume_number\"] = volumes_data[\"volume_number\"].astype(int)\n",
    "cases_data.loc[:, \"volume_id\"] = volumes_data[\"volume_number\"]\n",
    "volumes_data = volumes_data.drop_duplicates(\"volume_number\")"
   ]
  },
  {
   "cell_type": "code",
   "execution_count": 12,
   "id": "69d1dfe7",
   "metadata": {},
   "outputs": [],
   "source": [
    "# volumes_data.to_csv(\"data/subset/volumes.csv\", index=False, index_label=False, quoting=csv.QUOTE_ALL, quotechar='\"')"
   ]
  },
  {
   "cell_type": "code",
   "execution_count": 13,
   "id": "3e2d99f9",
   "metadata": {},
   "outputs": [],
   "source": [
    "# extract and normalize reporters\n",
    "reporters_data = pd.DataFrame(cases_data[\"reporter\"].tolist(), index=cases_data.index)\n",
    "reporters_data.loc[:, \"id\"] = reporters_data[\"id\"].astype(int)\n",
    "cases_data.loc[:, \"reporter_id\"] = reporters_data[\"id\"]\n",
    "reporters_data = reporters_data.drop_duplicates(\"id\")"
   ]
  },
  {
   "cell_type": "code",
   "execution_count": 54,
   "id": "4b8e3f40",
   "metadata": {},
   "outputs": [
    {
     "data": {
      "image/png": "[encoded data removed]",
      "text/plain": [
       "<Figure size 1440x720 with 1 Axes>"
      ]
     },
     "metadata": {
      "needs_background": "light"
     },
     "output_type": "display_data"
    }
   ],
   "source": [
    "cases_by_reporters = cases_data.reporter_id.value_counts()\n",
    "reporter_names = reporters_data.set_index(\"id\").loc[cases_by_reporters.index, \"full_name\"].tolist()\n",
    "cases_by_reporters = cases_by_reporters.reset_index()\n",
    "cases_by_reporters['reporters']  = reporter_names\n",
    "cases_by_reporters = cases_by_reporters.rename({\"reporter_id\": \"count\", \"index\": \"reporter_id\"}, axis=1)\n",
    "cases_by_reporters[\"reporter_id\"] = cases_by_reporters[\"reporter_id\"].map(str)\n",
    "plt.figure(figsize=(20,10))\n",
    "sns.barplot(data = cases_by_reporters,x=\"reporter_id\", y=\"count\", hue=\"reporters\", dodge=False)\n",
    "plt.xticks(None, rotation=45)\n",
    "plt.suptitle(\"Count of cases per reporters in the dataset\")\n",
    "plt.show()"
   ]
  },
  {
   "cell_type": "code",
   "execution_count": 30,
   "id": "a663e478",
   "metadata": {},
   "outputs": [],
   "source": [
    "# reporters_data.to_csv(\"data/subset/reporters.csv\", index=False, index_label=False, quoting=csv.QUOTE_ALL, quotechar='\"')"
   ]
  },
  {
   "cell_type": "code",
   "execution_count": 31,
   "id": "378fd94a",
   "metadata": {},
   "outputs": [],
   "source": [
    "# extract and normalize courts\n",
    "courts_data = pd.DataFrame(cases_data[\"court\"].tolist(), index=cases_data.index)\n",
    "courts_data.loc[:, \"id\"] = courts_data[\"id\"].astype(int)\n",
    "cases_data.loc[:, \"court_id\"] = courts_data[\"id\"]\n",
    "courts_data = courts_data.drop_duplicates(\"id\")"
   ]
  },
  {
   "cell_type": "code",
   "execution_count": 57,
   "id": "166575d8",
   "metadata": {},
   "outputs": [
    {
     "data": {
      "image/png": "[encoded data removed]",
      "text/plain": [
       "<Figure size 1440x720 with 1 Axes>"
      ]
     },
     "metadata": {
      "needs_background": "light"
     },
     "output_type": "display_data"
    }
   ],
   "source": [
    "cases_by_courts = cases_data.court_id.value_counts()\n",
    "court_names = courts_data.set_index(\"id\").loc[cases_by_courts.index, \"name\"].tolist()\n",
    "\n",
    "cases_by_courts = cases_by_courts.reset_index()\n",
    "cases_by_courts['court']  = court_names\n",
    "cases_by_courts = cases_by_courts.rename({\"court_id\": \"count\", \"index\": \"court_id\"}, axis=1)\n",
    "cases_by_courts[\"court_id\"] = cases_by_courts[\"court_id\"].map(str)\n",
    "plt.figure(figsize=(20,10))\n",
    "sns.barplot(data = cases_by_courts,x=\"court_id\", y=\"count\", hue=\"court\", dodge=False)\n",
    "\n",
    "\n",
    "plt.suptitle(\"Count of cases per court in the dataset\")\n",
    "plt.xticks(rotation=45)\n",
    "plt.show()"
   ]
  },
  {
   "cell_type": "code",
   "execution_count": 35,
   "id": "1ebb3080",
   "metadata": {},
   "outputs": [],
   "source": [
    "# courts_data.to_csv(\"data/subset/courts.csv\", index=False, index_label=False, quoting=csv.QUOTE_ALL, quotechar='\"')"
   ]
  },
  {
   "cell_type": "code",
   "execution_count": 36,
   "id": "e8d8a900",
   "metadata": {},
   "outputs": [],
   "source": [
    "# extract and normalize jurisdictions\n",
    "jurisdictions_data = pd.DataFrame(cases_data[\"jurisdiction\"].tolist(), index=cases_data.index)\n",
    "jurisdictions_data.loc[:,\"id\"] = jurisdictions_data[\"id\"].astype(int)\n",
    "cases_data.loc[:, \"jurisdiction_id\"] = jurisdictions_data[\"id\"]\n",
    "jurisdictions_data = jurisdictions_data.drop_duplicates(\"id\")"
   ]
  },
  {
   "cell_type": "code",
   "execution_count": 58,
   "id": "c4568e11",
   "metadata": {},
   "outputs": [
    {
     "data": {
      "image/png": "[encoded data removed]",
      "text/plain": [
       "<Figure size 1440x720 with 1 Axes>"
      ]
     },
     "metadata": {
      "needs_background": "light"
     },
     "output_type": "display_data"
    }
   ],
   "source": [
    "cases_by_jurisdictions = cases_data.jurisdiction_id.value_counts()\n",
    "jurisdiction_names = jurisdictions_data.set_index(\"id\").loc[cases_by_jurisdictions.index, \"name\"].tolist()\n",
    "\n",
    "cases_by_jurisdictions = cases_by_jurisdictions.reset_index()\n",
    "cases_by_jurisdictions['jurisdiction']  = jurisdiction_names\n",
    "cases_by_jurisdictions = cases_by_jurisdictions.rename({\"jurisdiction_id\": \"count\", \"index\": \"jurisdiction_id\"}, axis=1)\n",
    "cases_by_jurisdictions[\"jurisdiction_id\"] = cases_by_jurisdictions[\"jurisdiction_id\"].map(str)\n",
    "plt.figure(figsize=(20,10))\n",
    "sns.barplot(data = cases_by_jurisdictions,x=\"jurisdiction_id\", y=\"count\", hue=\"jurisdiction\", dodge=False)\n",
    "\n",
    "\n",
    "plt.suptitle(\"Count of cases per jurisdiction in the dataset\")\n",
    "plt.xticks(rotation=45)\n",
    "plt.show()"
   ]
  },
  {
   "cell_type": "code",
   "execution_count": 38,
   "id": "433c5b31",
   "metadata": {},
   "outputs": [],
   "source": [
    "# jurisdictions_data.to_csv(\"data/subset/jurisdictions.csv\", index=False, index_label=False, quoting=csv.QUOTE_ALL, quotechar='\"')"
   ]
  },
  {
   "cell_type": "code",
   "execution_count": 39,
   "id": "71a3bdae",
   "metadata": {},
   "outputs": [],
   "source": [
    "# extract case opinion and headmatter\n",
    "casebody_data = pd.DataFrame(cases_data.loc[:, \"casebody\"].map(lambda x: x.get(\"data\")).tolist(), index=cases_data.index)\n",
    "cases_data.loc[: , \"head_matter\"] = casebody_data.loc[:, \"head_matter\"]\n",
    "cases_data.loc[: , \"opinion_text\"] = casebody_data.loc[:,\"opinions\"].map(lambda x: \"\\n\".join(y.get(\"text\", \"\") for y in x))\n",
    "cases_data[\"head_matter\"] = cases_data[\"head_matter\"]\n",
    "cases_data[\"opinion_text\"] = cases_data[\"opinion_text\"]"
   ]
  },
  {
   "cell_type": "code",
   "execution_count": 40,
   "id": "2439c922",
   "metadata": {},
   "outputs": [
    {
     "name": "stderr",
     "output_type": "stream",
     "text": [
      "/Users/bebop/anaconda3/envs/cs109b-grp9-final-project/lib/python3.8/site-packages/seaborn/distributions.py:2557: FutureWarning: `distplot` is a deprecated function and will be removed in a future version. Please adapt your code to use either `displot` (a figure-level function with similar flexibility) or `histplot` (an axes-level function for histograms).\n",
      "  warnings.warn(msg, FutureWarning)\n"
     ]
    },
    {
     "data": {
      "image/png": "[encoded data removed]",
      "text/plain": [
       "<Figure size 1440x360 with 1 Axes>"
      ]
     },
     "metadata": {
      "needs_background": "light"
     },
     "output_type": "display_data"
    }
   ],
   "source": [
    "plt.figure(figsize=(20, 5))\n",
    "sns.distplot(cases_data.head_matter.map(len), bins=100, kde=False)\n",
    "plt.show()"
   ]
  },
  {
   "cell_type": "code",
   "execution_count": 41,
   "id": "468faf60",
   "metadata": {},
   "outputs": [
    {
     "data": {
      "image/png": "[encoded data removed]",
      "text/plain": [
       "<Figure size 1440x360 with 1 Axes>"
      ]
     },
     "metadata": {
      "needs_background": "light"
     },
     "output_type": "display_data"
    }
   ],
   "source": [
    "plt.figure(figsize=(20, 5))\n",
    "sns.distplot(cases_data.opinion_text.map(len), bins=100, kde=False)\n",
    "plt.show()"
   ]
  },
  {
   "cell_type": "code",
   "execution_count": 42,
   "id": "8a97bfd5",
   "metadata": {},
   "outputs": [
    {
     "name": "stderr",
     "output_type": "stream",
     "text": [
      "<ipython-input-3-4b5d67d4d59d>:18: TqdmDeprecationWarning: This function will be removed in tqdm==5.0.0\n",
      "Please use `tqdm.notebook.tqdm` instead of `tqdm.tqdm_notebook`\n",
      "  for item in tqdm.tqdm_notebook(csvobj):\n"
     ]
    },
    {
     "data": {
      "application/vnd.jupyter.widget-view+json": {
       "model_id": "aca8968971794e6aac0988293753fbef",
       "version_major": 2,
       "version_minor": 0
      },
      "text/plain": [
       "0it [00:00, ?it/s]"
      ]
     },
     "metadata": {},
     "output_type": "display_data"
    },
    {
     "name": "stdout",
     "output_type": "stream",
     "text": [
      "found and loaded 278778 nodes into citation_graph\n"
     ]
    }
   ],
   "source": [
    "#read citation graph and link nodes\n",
    "citation_graph = read_citation_graph(\"../data/citations.csv.gz\", case_ids=frozenset(cases_data.index))\n",
    "print(f\"found and loaded {len(citation_graph)} nodes into citation_graph\")\n",
    "\n",
    "#create a lookup for our cases\n",
    "citations_uids = frozenset(citation_graph.index)\n",
    "\n",
    "# remove citations that aren't in case data\n",
    "citation_graph = citation_graph.loc[:].map(lambda x: list(filter(lambda y: y in citations_uids, x)))\n",
    "\n",
    "# remove cases with no citations after truncation\n",
    "citation_graph = citation_graph[citation_graph.map(len) > 0]\n",
    "citation_graph.index = citation_graph.index.astype(int)\n",
    "\n",
    "cases_data.loc[citation_graph.index, \"citation_ids\"] = citation_graph.values\n",
    "cases_data = cases_data[cases_data.citation_ids.notnull()]\n"
   ]
  },
  {
   "cell_type": "code",
   "execution_count": null,
   "id": "3fc0ec34",
   "metadata": {},
   "outputs": [],
   "source": [
    "required_case_cols = [\n",
    "    'decision_date', 'name', 'name_abbreviation',\n",
    "    'frontend_url', 'url', \n",
    "    #'head_matter', 'opinion_text', \n",
    "    'volume_id', 'reporter_id', 'court_id', 'jurisdiction_id',]\n",
    "#     'citation_ids']\n",
    "# cases_data[required_case_cols].reset_index().to_csv(\"data/subset/cases.csv\", index=False, index_label=False, quoting=csv.QUOTE_ALL, quotechar='\"')\n"
   ]
  },
  {
   "cell_type": "code",
   "execution_count": null,
   "id": "aba812d4",
   "metadata": {},
   "outputs": [],
   "source": [
    "citations_data = cases_data[\"citation_ids\"].explode().reset_index()\n",
    "citations_data.columns = [\"src\", \"dst\"]\n",
    "# citations_data.to_csv(\"data/subset/citations.csv\", index=False, index_label=False,)\n"
   ]
  },
  {
   "cell_type": "code",
   "execution_count": null,
   "id": "4fc30ade",
   "metadata": {},
   "outputs": [],
   "source": [
    "# citations_data = pd.read_csv(\"../data/subset/citations.csv\")"
   ]
  },
  {
   "cell_type": "code",
   "execution_count": null,
   "id": "bb440f5d",
   "metadata": {},
   "outputs": [],
   "source": [
    "top_cited = citations_data.src.value_counts().head(50)\n",
    "plt.figure(figsize=(20,10))\n",
    "ax = sns.barplot(top_cited.index, top_cited.values, order=top_cited.index)\n",
    "plt.xticks(rotation=45)\n",
    "plt.show()"
   ]
  },
  {
   "cell_type": "code",
   "execution_count": null,
   "id": "f355b805",
   "metadata": {},
   "outputs": [],
   "source": [
    "citations_data.groupby(\"src\").count"
   ]
  },
  {
   "cell_type": "code",
   "execution_count": null,
   "id": "5dda5532",
   "metadata": {},
   "outputs": [],
   "source": [
    "cases_data.groupby([\"court_id\", \"jurisdiction_id\"]).agg({\"citation_ids\": sum})"
   ]
  },
  {
   "cell_type": "code",
   "execution_count": null,
   "id": "5955509a",
   "metadata": {},
   "outputs": [],
   "source": [
    "len(cases_data)"
   ]
  },
  {
   "cell_type": "raw",
   "id": "0ce96fcd",
   "metadata": {
    "scrolled": true
   },
   "source": [
    "casebody_data.loc[cases_data.index].reset_index().to_json(\"../data/subset/casebody.json\", lines=True, orient=\"records\")"
   ]
  },
  {
   "cell_type": "markdown",
   "id": "d230b444",
   "metadata": {},
   "source": [
    "## Text Data Analysis"
   ]
  },
  {
   "cell_type": "markdown",
   "id": "469edf80",
   "metadata": {},
   "source": [
    "**Preprocessing**\n",
    "\n",
    "As we saw the case texts are quite large. Additionally the we see hints from reviewing a few sample cases that there are mentions of person names, organizations and other entities such as dates in the case data. First we concatenate the case text (Head matter and Opinions) into a single field and proceed to preprocess the text.\n",
    "\n",
    "First we parse the text using spacy and retain only words that are tagged as `Adjectives`, `Adverbs`, `Nouns`, `Proper Nouns` and `Pronouns`. This reduces the dimensionality of the data by a large factor and makes it feasiable to work with the text"
   ]
  },
  {
   "cell_type": "raw",
   "id": "10e05c5d",
   "metadata": {},
   "source": [
    "!python -m spacy download en_core_web_sm"
   ]
  },
  {
   "cell_type": "code",
   "execution_count": null,
   "id": "0ef8d6fb",
   "metadata": {},
   "outputs": [],
   "source": []
  },
  {
   "cell_type": "raw",
   "id": "bcdb73f2",
   "metadata": {},
   "source": [
    "import spacy\n",
    "\n",
    "nlp = spacy.load(\"en_core_web_sm\")\n",
    "casetext = casebody_data[\"head_matter\"] + \"\\n\"+ casebody_data[\"opinions\"].map(lambda x: \" \".join(y.get(\"text\", \"\") for y in x))\n",
    "with open(\"../data/subset/caselines.txt\", \"w+\") as outfile:\n",
    "    tags = frozenset([\"ADJ\",\"ADV\",\"NOUN\",\"PRON\",\"PROPN\"])\n",
    "    for doc in tqdm.tqdm_notebook(nlp.pipe(casetext,batch_size=10, n_process=-1), total=len(casetext)):\n",
    "        tokens = []\n",
    "        for tok in doc:\n",
    "            if tok.pos_ in tags and tok.is_alpha:\n",
    "                tokens.append(tok.lemma_.lower())\n",
    "        tokens = \" \".join(tokens)\n",
    "        tokens = preprocess_string(tokens,DEFAULT_FILTERS[:-1])\n",
    "        outline = \" \".join(tokens) + \"\\n\"\n",
    "        outfile.write(outline)"
   ]
  },
  {
   "cell_type": "code",
   "execution_count": null,
   "id": "b10047b4",
   "metadata": {},
   "outputs": [],
   "source": []
  },
  {
   "cell_type": "code",
   "execution_count": null,
   "id": "bddb058b",
   "metadata": {},
   "outputs": [],
   "source": [
    "class CaselineIterator:\n",
    "    def __init__(self, fname, slice_size=None):\n",
    "        self.fname = fname\n",
    "        self.slice_size=slice_size\n",
    "        self._length = slice_size\n",
    "    def __iter__(self):\n",
    "        if self.slice_size:\n",
    "            iterator = islice(open(self.fname), self.slice_size)\n",
    "        else:\n",
    "            iterator = open(self.fname)\n",
    "        for line in iterator:\n",
    "            yield line.split()\n",
    "            \n",
    "    def __len__(self):\n",
    "        if not self._length:\n",
    "            self._length = sum(1 for _ in open(self.fname))\n",
    "        return self._length\n"
   ]
  },
  {
   "cell_type": "code",
   "execution_count": null,
   "id": "cbe25d11",
   "metadata": {},
   "outputs": [],
   "source": [
    "class CaselawCorpus():\n",
    "    def __init__(self, iterator, dictionary, **kwargs):\n",
    "        self.iterator = iterator\n",
    "        self.dictionary = dictionary\n",
    "        \n",
    "    def __iter__(self):\n",
    "        for line in self.iterator:\n",
    "            # assume there's one document per line, tokens separated by whitespace\n",
    "            yield self.dictionary.doc2bow(line)\n",
    "    def __len__(self):\n",
    "        return len(self.iterator)"
   ]
  },
  {
   "cell_type": "code",
   "execution_count": null,
   "id": "e0dd5d31",
   "metadata": {},
   "outputs": [],
   "source": [
    "# https://stackoverflow.com/a/52304675\n",
    "def top_n_idx_sparse(matrix, n):\n",
    "    '''Return index of top n values in each row of a sparse matrix'''\n",
    "    top_n_idx = []\n",
    "    for le, ri in zip(matrix.indptr[:-1], matrix.indptr[1:]):\n",
    "        n_row_pick = min(n, ri - le)\n",
    "        top_n_idx.append(matrix.indices[le + np.argpartition(matrix.data[le:ri], -n_row_pick)[-n_row_pick:]])\n",
    "    return top_n_idx"
   ]
  },
  {
   "cell_type": "code",
   "execution_count": null,
   "id": "713229b7",
   "metadata": {},
   "outputs": [],
   "source": [
    "class BaselineModel:\n",
    "    def __init__(self, no_below=5, no_above=0.75):\n",
    "        self.dictionary = None\n",
    "        self.corpus = None\n",
    "        self.model = None\n",
    "        self.index = None\n",
    "        self.no_below=no_below\n",
    "        self.no_above=no_above\n",
    "    \n",
    "    def fit(self, texts, **kwargs):\n",
    "        self.dictionary = Dictionary(texts)\n",
    "        self.dictionary.filter_extremes(self.no_below, self.no_above)\n",
    "        self.dictionary.compactify()\n",
    "        \n",
    "        self.corpus = CaselawCorpus(texts, self.dictionary,**kwargs)\n",
    "        self.model = TfidfModel(self.corpus)\n",
    "        self.index = SparseMatrixSimilarity(\n",
    "            self.model[self.corpus], \n",
    "            num_features=len(self.dictionary),\n",
    "            num_terms=len(self.dictionary),\n",
    "            num_docs=len(self.corpus),\n",
    "            maintain_sparsity=True)\n",
    "        return self\n",
    "    \n",
    "    def predict(self, texts, top_k=5):\n",
    "        pred_corpus = [self.dictionary.doc2bow(item) for item in texts]\n",
    "        pred_vecs = self.model[pred_corpus]\n",
    "        pred_sims = self.index[pred_vecs]\n",
    "        return pred_sims"
   ]
  },
  {
   "cell_type": "code",
   "execution_count": null,
   "id": "81f13d43",
   "metadata": {},
   "outputs": [],
   "source": [
    "case_lines = pd.read_csv(\"../data/subset/caselines.txt\", header=None, names=[\"text\"])\n",
    "case_lines.index=cases_data.index"
   ]
  },
  {
   "cell_type": "code",
   "execution_count": null,
   "id": "b66698d8",
   "metadata": {},
   "outputs": [],
   "source": [
    "baseline_model = BaselineModel()"
   ]
  },
  {
   "cell_type": "code",
   "execution_count": null,
   "id": "e10c53bb",
   "metadata": {
    "scrolled": true
   },
   "outputs": [],
   "source": [
    "baseline_model.fit(case_lines.text.str.split())"
   ]
  },
  {
   "cell_type": "code",
   "execution_count": null,
   "id": "105fd0c1",
   "metadata": {},
   "outputs": [],
   "source": [
    "# idx2case_id = cases_data.reset_index()[\"id\"]\n",
    "# case2idx = pd.Series({v:k for k,v in idx2case_id.items()})"
   ]
  },
  {
   "cell_type": "code",
   "execution_count": null,
   "id": "9ecbd928",
   "metadata": {},
   "outputs": [],
   "source": [
    "preds = baseline_model.predict(case_lines.head()['text'].str.split())"
   ]
  },
  {
   "cell_type": "code",
   "execution_count": null,
   "id": "6c79e4a9",
   "metadata": {},
   "outputs": [],
   "source": [
    "all_sims = []\n",
    "for item in cases_data.citation_ids.map(lambda x: [int(y) for y in x]).head():\n",
    "    mat_idxs = [case_lines.index.get_loc(i) for i in item]\n",
    "    for idx, sim in zip(mat_idxs, preds.toarray()):\n",
    "        mean_sim = sim[idx].mean()\n",
    "        all_sims.append(mean_sim)\n",
    "print(np.mean(all_sims))"
   ]
  },
  {
   "cell_type": "code",
   "execution_count": null,
   "id": "44703378",
   "metadata": {},
   "outputs": [],
   "source": [
    "def citation_similarities(cases_data):\n",
    "    for case_id, citation_ids in cases_data[\"citation_ids\"].items():\n",
    "        query_idx = case2idx[citations]\n",
    "        citiation_idxs = case2idx[citation_ids]\n",
    "        query_doc = texts[query_idx]\n",
    "        citation_docs = texts[citation_docs]\n",
    "        map(labda)"
   ]
  },
  {
   "cell_type": "code",
   "execution_count": null,
   "id": "c377da4c",
   "metadata": {},
   "outputs": [],
   "source": []
  },
  {
   "cell_type": "code",
   "execution_count": null,
   "id": "e0b1f1e3",
   "metadata": {},
   "outputs": [],
   "source": [
    "pred_sims.toarray()"
   ]
  },
  {
   "cell_type": "code",
   "execution_count": null,
   "id": "8d775409",
   "metadata": {},
   "outputs": [],
   "source": []
  },
  {
   "cell_type": "code",
   "execution_count": null,
   "id": "f8531e2d",
   "metadata": {},
   "outputs": [],
   "source": [
    "preds = top_n_idx_sparse(pred_sims, top_k)\n",
    "def precision_recall_k(y_true, y_pred):\n",
    "    for y_t, y_p in zip(y_true, y_pred):\n",
    "        relevant_retrieved = set(y_t).intersection(y_p)\n",
    "        if relevant_retrieved:\n",
    "            precision = len(relevant_retrieved)/len(y_p)\n",
    "            recall = len(relevant_retrieved)/len(y_t)\n",
    "            \n",
    "        relevant_retrieved"
   ]
  }
 ],
 "metadata": {
  "kernelspec": {
   "display_name": "Python 3",
   "language": "python",
   "name": "python3"
  },
  "language_info": {
   "codemirror_mode": {
    "name": "ipython",
    "version": 3
   },
   "file_extension": ".py",
   "mimetype": "text/x-python",
   "name": "python",
   "nbconvert_exporter": "python",
   "pygments_lexer": "ipython3",
   "version": "3.8.8"
  }
 },
 "nbformat": 4,
 "nbformat_minor": 5
}
